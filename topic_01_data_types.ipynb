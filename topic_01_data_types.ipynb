{
 "cells": [
  {
   "cell_type": "markdown",
   "metadata": {},
   "source": [
    "# integers"
   ]
  },
  {
   "cell_type": "code",
   "execution_count": 1,
   "metadata": {},
   "outputs": [
    {
     "name": "stdout",
     "output_type": "stream",
     "text": [
      "1\n",
      "-10\n",
      "0\n",
      "10000000\n",
      "<class 'int'>\n",
      "a = 001\n"
     ]
    }
   ],
   "source": [
    "# int\n",
    "a = 1\n",
    "b = -10\n",
    "c = 0\n",
    "d = 10_000_000\n",
    "\n",
    "print(a)\n",
    "print(b)\n",
    "print(c)\n",
    "print(d)\n",
    "print(type(d))\n",
    "print(f'a = {a:03d}')\n",
    "\n"
   ]
  },
  {
   "cell_type": "markdown",
   "metadata": {},
   "source": [
    "# integers represented as binary or hex"
   ]
  },
  {
   "cell_type": "code",
   "execution_count": 2,
   "metadata": {},
   "outputs": [
    {
     "name": "stdout",
     "output_type": "stream",
     "text": [
      "0b10011\n",
      "<class 'str'>\n",
      "0x13\n",
      "<class 'str'>\n"
     ]
    }
   ],
   "source": [
    "# turn an integer into binary \n",
    "s = bin(19)\n",
    "print(s)\n",
    "print(type(s))\n",
    "\n",
    "# turn an integer into 16 bit hex\n",
    "s = hex(19)\n",
    "print(s)\n",
    "print(type(s))\n"
   ]
  },
  {
   "cell_type": "code",
   "execution_count": 3,
   "metadata": {},
   "outputs": [
    {
     "name": "stdout",
     "output_type": "stream",
     "text": [
      "0b10011\n",
      "<class 'str'>\n",
      "\n",
      "19\n",
      "11599889\n",
      "11599889\n"
     ]
    },
    {
     "ename": "ValueError",
     "evalue": "invalid literal for int() with base 10: '0b10011'",
     "output_type": "error",
     "traceback": [
      "\u001b[1;31m---------------------------------------------------------------------------\u001b[0m",
      "\u001b[1;31mValueError\u001b[0m                                Traceback (most recent call last)",
      "Cell \u001b[1;32mIn[3], line 10\u001b[0m\n\u001b[0;32m      8\u001b[0m \u001b[38;5;28mprint\u001b[39m( \u001b[38;5;28mint\u001b[39m(s,\u001b[38;5;241m16\u001b[39m) )\n\u001b[0;32m      9\u001b[0m \u001b[38;5;28mprint\u001b[39m( (\u001b[38;5;241m16\u001b[39m\u001b[38;5;241m*\u001b[39m\u001b[38;5;241m*\u001b[39m\u001b[38;5;241m5\u001b[39m)\u001b[38;5;241m*\u001b[39m\u001b[38;5;241m11\u001b[39m\u001b[38;5;241m+\u001b[39m(\u001b[38;5;241m16\u001b[39m\u001b[38;5;241m*\u001b[39m\u001b[38;5;241m*\u001b[39m\u001b[38;5;241m4\u001b[39m)\u001b[38;5;241m*\u001b[39m\u001b[38;5;241m1\u001b[39m\u001b[38;5;241m+\u001b[39m\u001b[38;5;241m16\u001b[39m\u001b[38;5;241m+\u001b[39m\u001b[38;5;241m1\u001b[39m )\n\u001b[1;32m---> 10\u001b[0m \u001b[38;5;28mprint\u001b[39m( \u001b[38;5;28mint\u001b[39m(s,\u001b[38;5;241m10\u001b[39m) )\n",
      "\u001b[1;31mValueError\u001b[0m: invalid literal for int() with base 10: '0b10011'"
     ]
    }
   ],
   "source": [
    "# turn binary or hex back to decimal\n",
    "\n",
    "s = bin(19)\n",
    "print(s)\n",
    "print( type(s) )\n",
    "print()\n",
    "print( int(s,2) )\n",
    "print( int(s,16) )\n",
    "print( (16**5)*11+(16**4)*1+16+1 )\n",
    "print( int(s,10) )"
   ]
  },
  {
   "cell_type": "code",
   "execution_count": null,
   "metadata": {},
   "outputs": [
    {
     "name": "stdout",
     "output_type": "stream",
     "text": [
      "10011\n",
      "<class 'str'>\n",
      "\n",
      "19\n",
      "10011\n",
      "65553\n",
      "83539\n"
     ]
    }
   ],
   "source": [
    "s = '10011'\n",
    "print(s)\n",
    "print(type(s))\n",
    "print()\n",
    "print( int(s,2) )\n",
    "print( int(s,10) )\n",
    "print( int(s,16) )\n",
    "print( int(s,17) )\n"
   ]
  },
  {
   "cell_type": "markdown",
   "metadata": {},
   "source": [
    "# float"
   ]
  },
  {
   "cell_type": "code",
   "execution_count": null,
   "metadata": {},
   "outputs": [
    {
     "name": "stdout",
     "output_type": "stream",
     "text": [
      "3.1415926\n",
      "<class 'float'>\n"
     ]
    }
   ],
   "source": [
    "a = 3.1415926\n",
    "print(a)\n",
    "print(type(a))"
   ]
  },
  {
   "cell_type": "code",
   "execution_count": null,
   "metadata": {},
   "outputs": [
    {
     "name": "stdout",
     "output_type": "stream",
     "text": [
      "a = 3.1415926\n",
      "a = 3.142\n",
      "a =     3.142\n",
      "a = 3.141593e+00\n",
      "a =    3.142e+00\n",
      "\n",
      "a = 3.141593\n",
      "a = 3.142\n",
      "a =     3.142\n",
      "a = 3.141593e+00\n",
      "a =    3.142e+00\n"
     ]
    }
   ],
   "source": [
    "\n",
    "print(f'a = {a}')\n",
    "print(f'a = {a:.3f}')\n",
    "print(f'a = {a:9.3f}')\n",
    "print(f'a = {a:e}')\n",
    "print(f'a = {a:12.3e}')\n",
    "print()\n",
    "print('a = ', \"%f\" % a, sep=\"\")\n",
    "print('a = ', \"%.3f\" % a, sep=\"\")\n",
    "print('a = ', \"%9.3f\" % a, sep=\"\")\n",
    "print('a = ', \"%e\" % a, sep=\"\")\n",
    "print('a = ', \"%12.3e\" % a, sep=\"\")\n"
   ]
  },
  {
   "cell_type": "markdown",
   "metadata": {},
   "source": [
    "# string"
   ]
  },
  {
   "cell_type": "code",
   "execution_count": 2,
   "metadata": {},
   "outputs": [
    {
     "name": "stdout",
     "output_type": "stream",
     "text": [
      "abcdefg1234567hijklmn\n",
      "<class 'str'>\n",
      "abcdefg1234567hijklmn\n",
      "<class 'str'>\n"
     ]
    },
    {
     "data": {
      "text/plain": [
       "True"
      ]
     },
     "execution_count": 2,
     "metadata": {},
     "output_type": "execute_result"
    }
   ],
   "source": [
    "a = \"abcdefg1234567hijklmn\"\n",
    "print(a)\n",
    "print(type(a))\n",
    "\n",
    "b = 'abcdefg1234567hijklmn'\n",
    "print(b)\n",
    "print(type(b))\n",
    "\n",
    "a==b"
   ]
  },
  {
   "cell_type": "code",
   "execution_count": null,
   "metadata": {},
   "outputs": [
    {
     "name": "stdout",
     "output_type": "stream",
     "text": [
      "I'm okay\n",
      "I\"m okay\n"
     ]
    }
   ],
   "source": [
    "a = \"I'm okay\"\n",
    "print(a)\n",
    "\n",
    "a = 'I\"m okay'\n",
    "print(a) \n"
   ]
  },
  {
   "cell_type": "code",
   "execution_count": null,
   "metadata": {},
   "outputs": [
    {
     "ename": "SyntaxError",
     "evalue": "unterminated string literal (detected at line 1) (3736686730.py, line 1)",
     "output_type": "error",
     "traceback": [
      "\u001b[1;36m  Cell \u001b[1;32mIn[185], line 1\u001b[1;36m\u001b[0m\n\u001b[1;33m    a = 'I'm okay'\u001b[0m\n\u001b[1;37m                 ^\u001b[0m\n\u001b[1;31mSyntaxError\u001b[0m\u001b[1;31m:\u001b[0m unterminated string literal (detected at line 1)\n"
     ]
    }
   ],
   "source": [
    "a = 'I'm okay'\n",
    "print(a)"
   ]
  },
  {
   "cell_type": "code",
   "execution_count": null,
   "metadata": {},
   "outputs": [
    {
     "name": "stdout",
     "output_type": "stream",
     "text": [
      "I'm okay\n",
      "I\"m okay\n"
     ]
    }
   ],
   "source": [
    "a = 'I\\'m okay'\n",
    "print(a) \n",
    "a = \"I\\\"m okay\"\n",
    "print(a) \n",
    "\n"
   ]
  },
  {
   "cell_type": "code",
   "execution_count": null,
   "metadata": {},
   "outputs": [
    {
     "name": "stdout",
     "output_type": "stream",
     "text": [
      "--------\n",
      "\t\\\n",
      "--------\n"
     ]
    }
   ],
   "source": [
    "print('--------\\n\\t\\\\\\n--------')"
   ]
  },
  {
   "cell_type": "code",
   "execution_count": null,
   "metadata": {},
   "outputs": [
    {
     "name": "stdout",
     "output_type": "stream",
     "text": [
      "--------\n",
      "\t\\\n",
      "--------\n",
      "\n",
      "--------\\n\\t\\\\\\n--------\n",
      "\n",
      "--------\n",
      "\n",
      "\t\\\n",
      "\n",
      "--------\n",
      "\n",
      "--------\n",
      "\\n\\t\\\\\\n\n",
      "--------\n"
     ]
    }
   ],
   "source": [
    "print(f'--------\\n\\t\\\\\\n--------')\n",
    "print()\n",
    "\n",
    "print(r'--------\\n\\t\\\\\\n--------')\n",
    "print()\n",
    "\n",
    "print('''--------\n",
    "\\n\\t\\\\\\n\n",
    "--------''')\n",
    "print()\n",
    "\n",
    "print(r'''--------\n",
    "\\n\\t\\\\\\n\n",
    "--------''')\n"
   ]
  },
  {
   "cell_type": "markdown",
   "metadata": {},
   "source": [
    "# Boolean"
   ]
  },
  {
   "cell_type": "code",
   "execution_count": 4,
   "metadata": {},
   "outputs": [
    {
     "data": {
      "text/plain": [
       "True"
      ]
     },
     "execution_count": 4,
     "metadata": {},
     "output_type": "execute_result"
    }
   ],
   "source": [
    "1 < 2"
   ]
  },
  {
   "cell_type": "code",
   "execution_count": null,
   "metadata": {},
   "outputs": [
    {
     "data": {
      "text/plain": [
       "False"
      ]
     },
     "execution_count": 190,
     "metadata": {},
     "output_type": "execute_result"
    }
   ],
   "source": [
    "10 < 2"
   ]
  },
  {
   "cell_type": "code",
   "execution_count": null,
   "metadata": {},
   "outputs": [
    {
     "data": {
      "text/plain": [
       "False"
      ]
     },
     "execution_count": 191,
     "metadata": {},
     "output_type": "execute_result"
    }
   ],
   "source": [
    "True and False"
   ]
  },
  {
   "cell_type": "code",
   "execution_count": null,
   "metadata": {},
   "outputs": [
    {
     "data": {
      "text/plain": [
       "True"
      ]
     },
     "execution_count": 192,
     "metadata": {},
     "output_type": "execute_result"
    }
   ],
   "source": [
    "True or False"
   ]
  },
  {
   "cell_type": "code",
   "execution_count": null,
   "metadata": {},
   "outputs": [
    {
     "data": {
      "text/plain": [
       "True"
      ]
     },
     "execution_count": 193,
     "metadata": {},
     "output_type": "execute_result"
    }
   ],
   "source": [
    "5 > 3 and 3 > 1"
   ]
  },
  {
   "cell_type": "code",
   "execution_count": null,
   "metadata": {},
   "outputs": [
    {
     "data": {
      "text/plain": [
       "False"
      ]
     },
     "execution_count": 194,
     "metadata": {},
     "output_type": "execute_result"
    }
   ],
   "source": [
    "not True"
   ]
  },
  {
   "cell_type": "code",
   "execution_count": null,
   "metadata": {},
   "outputs": [
    {
     "data": {
      "text/plain": [
       "True"
      ]
     },
     "execution_count": 195,
     "metadata": {},
     "output_type": "execute_result"
    }
   ],
   "source": [
    "import numpy as np\n",
    "np.logical_xor(True, False)"
   ]
  },
  {
   "cell_type": "markdown",
   "metadata": {},
   "source": [
    "# Empty value None"
   ]
  },
  {
   "cell_type": "code",
   "execution_count": null,
   "metadata": {},
   "outputs": [],
   "source": [
    "a = None"
   ]
  },
  {
   "cell_type": "code",
   "execution_count": null,
   "metadata": {},
   "outputs": [
    {
     "name": "stdout",
     "output_type": "stream",
     "text": [
      "None\n",
      "<class 'NoneType'>\n",
      "False\n"
     ]
    }
   ],
   "source": [
    "print(a)\n",
    "print(type(a))\n",
    "print(a==0)"
   ]
  },
  {
   "cell_type": "markdown",
   "metadata": {},
   "source": [
    "# variables"
   ]
  },
  {
   "cell_type": "code",
   "execution_count": null,
   "metadata": {},
   "outputs": [
    {
     "name": "stdout",
     "output_type": "stream",
     "text": [
      "a = ABC\n",
      "b = ABC\n",
      "a = XYZ\n",
      "b = ABC\n"
     ]
    }
   ],
   "source": [
    "a = 'ABC'\n",
    "print(f'a = {a}')\n",
    "b = a\n",
    "print(f'b = {b}')\n",
    "a = 'XYZ'\n",
    "print(f'a = {a}')\n",
    "print(f'b = {b}')\n"
   ]
  },
  {
   "cell_type": "code",
   "execution_count": null,
   "metadata": {},
   "outputs": [
    {
     "name": "stdout",
     "output_type": "stream",
     "text": [
      "a=11, b=21, c=32\n"
     ]
    }
   ],
   "source": [
    "a = 10\n",
    "b = 20\n",
    "a = a + 1\n",
    "b += 1\n",
    "c = a + b\n",
    "print(f'a={a}, b={b}, c={c}')"
   ]
  },
  {
   "cell_type": "code",
   "execution_count": null,
   "metadata": {},
   "outputs": [],
   "source": []
  },
  {
   "cell_type": "code",
   "execution_count": null,
   "metadata": {},
   "outputs": [],
   "source": []
  }
 ],
 "metadata": {
  "kernelspec": {
   "display_name": "IntroML",
   "language": "python",
   "name": "python3"
  },
  "language_info": {
   "codemirror_mode": {
    "name": "ipython",
    "version": 3
   },
   "file_extension": ".py",
   "mimetype": "text/x-python",
   "name": "python",
   "nbconvert_exporter": "python",
   "pygments_lexer": "ipython3",
   "version": "3.12.2"
  }
 },
 "nbformat": 4,
 "nbformat_minor": 2
}
