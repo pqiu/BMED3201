{
  "cells": [
    {
      "cell_type": "markdown",
      "metadata": {
        "id": "view-in-github",
        "colab_type": "text"
      },
      "source": [
        "<a href=\"https://colab.research.google.com/github/pqiu/BMED3201/blob/main/python_basics/topic_05_dict.ipynb\" target=\"_parent\"><img src=\"https://colab.research.google.com/assets/colab-badge.svg\" alt=\"Open In Colab\"/></a>"
      ]
    },
    {
      "cell_type": "markdown",
      "metadata": {
        "id": "WWmhMwrAEHCt"
      },
      "source": [
        "# dict\n",
        "\n",
        "dictionary is used to define key-value mapping, so that the values are indexed by keys"
      ]
    },
    {
      "cell_type": "code",
      "execution_count": 1,
      "metadata": {
        "id": "nZsUjoH7EHCv",
        "outputId": "b3cf3c5d-4753-4a62-db6b-3af0ade6252a",
        "colab": {
          "base_uri": "https://localhost:8080/"
        }
      },
      "outputs": [
        {
          "output_type": "stream",
          "name": "stdout",
          "text": [
            "The value associated to Bob is 20\n"
          ]
        }
      ],
      "source": [
        "# use two list to represent mapping between two things, which can be inconvenient and slow\n",
        "names = ['Alice', 'Bob', 'Cathy', 'Denny', 'Elle']\n",
        "values = [10, 20, 30, 40, 50]\n",
        "\n",
        "# assume we want to obtain the value associated to one name\n",
        "name='Bob'\n",
        "value=values[names.index(name)]\n",
        "print(f'The value associated to {name} is {value}')\n"
      ]
    },
    {
      "cell_type": "code",
      "execution_count": 2,
      "metadata": {
        "id": "9JOkIFdSEHCx",
        "outputId": "9ad45684-0250-4b9d-86c0-c28f44a818bd",
        "colab": {
          "base_uri": "https://localhost:8080/"
        }
      },
      "outputs": [
        {
          "output_type": "stream",
          "name": "stdout",
          "text": [
            "{'Alice': 10, 'Bob': 20, 'Cathy': 30, 'Denny': 40, 'Elle': 50}\n",
            "The value associated to Bob is 20\n"
          ]
        }
      ],
      "source": [
        "# define a dictionary to represent mapping between two things\n",
        "d = {'Alice':10, 'Bob':20, 'Cathy':30, 'Denny':40, 'Elle':50}\n",
        "print(d)\n",
        "\n",
        "name='Bob'\n",
        "value=d[name]\n",
        "\n",
        "print(f'The value associated to {name} is {value}')\n"
      ]
    },
    {
      "cell_type": "code",
      "execution_count": 3,
      "metadata": {
        "id": "kZLo6kNEEHCx",
        "outputId": "91c8c1de-3a24-495f-e31c-af38bc329e34",
        "colab": {
          "base_uri": "https://localhost:8080/"
        }
      },
      "outputs": [
        {
          "output_type": "stream",
          "name": "stdout",
          "text": [
            "{'Alice': 'a', 'Bob': 20, 'Cathy': 30, 'Denny': 40, 'Elle': 50}\n"
          ]
        }
      ],
      "source": [
        "# keys in a dictionary must be unique\n",
        "# the following shows what happens if there exist duplicated keys when defining a dict\n",
        "\n",
        "d = {'Alice':10, 'Bob':20, 'Cathy':30, 'Denny':40, 'Elle':50, 'Alice':'a'}\n",
        "print(d)\n",
        "\n"
      ]
    },
    {
      "cell_type": "markdown",
      "metadata": {
        "id": "4qbYcgzzEHCy"
      },
      "source": [
        "# after a dict is defined, how to update/add/remove items"
      ]
    },
    {
      "cell_type": "code",
      "execution_count": 4,
      "metadata": {
        "id": "CNeZ5cbdEHCy",
        "outputId": "12bde875-5b6c-49d3-c791-d021724869a0",
        "colab": {
          "base_uri": "https://localhost:8080/"
        }
      },
      "outputs": [
        {
          "output_type": "stream",
          "name": "stdout",
          "text": [
            "{'Alice': 10, 'Bob': 20, 'Cathy': 30, 'Denny': 40, 'Elle': 50}\n",
            "{'Alice': 10, 'Bob': 200, 'Cathy': 30, 'Denny': 40, 'Elle': 50}\n",
            "{'Alice': 10, 'Bob': 200, 'Cathy': 30, 'Denny': 40, 'Elle': 50, 'Fred': 60}\n"
          ]
        }
      ],
      "source": [
        "# change or add one item at a time\n",
        "d = {'Alice':10, 'Bob':20, 'Cathy':30, 'Denny':40, 'Elle':50}\n",
        "print(d)\n",
        "\n",
        "d['Bob']=200\n",
        "print(d)\n",
        "\n",
        "d['Fred']=60\n",
        "print(d)"
      ]
    },
    {
      "cell_type": "code",
      "execution_count": 5,
      "metadata": {
        "id": "pOrmK_V3EHCy",
        "outputId": "3834d8cb-f170-41a5-8d92-9033f968266c",
        "colab": {
          "base_uri": "https://localhost:8080/"
        }
      },
      "outputs": [
        {
          "output_type": "stream",
          "name": "stdout",
          "text": [
            "{'Alice': 10, 'Bob': 20, 'Cathy': 30, 'Denny': 40, 'Elle': 50}\n",
            "{'Alice': 100, 'Bob': 20, 'Cathy': 300, 'Denny': 40, 'Elle': 50}\n",
            "{'Alice': 100, 'Bob': 20, 'Cathy': 300, 'Denny': 40, 'Elle': 50, 'Apple': 'red', 'Banana': 'yellow'}\n",
            "{'Alice': 100, 'Bob': 20, 'Cathy': 300, 'Denny': 40, 'Elle': 'happy', 'Apple': 'red', 'Banana': 'yellow', 'Orange': 'orange'}\n"
          ]
        }
      ],
      "source": [
        "# use \"update\" to change or add one or multiple items to a dictionary\n",
        "d = {'Alice':10, 'Bob':20, 'Cathy':30, 'Denny':40, 'Elle':50}\n",
        "print(d)\n",
        "\n",
        "d.update({'Alice':100, 'Cathy':300})\n",
        "print(d)\n",
        "\n",
        "d.update({'Apple':'red', 'Banana':'yellow'})\n",
        "print(d)\n",
        "\n",
        "d.update({'Elle':'happy', 'Orange':'orange'})\n",
        "print(d)\n"
      ]
    },
    {
      "cell_type": "code",
      "execution_count": 6,
      "metadata": {
        "id": "tfqwKLYjEHCy",
        "outputId": "bca92172-3e04-4690-9156-68026d82da49",
        "colab": {
          "base_uri": "https://localhost:8080/"
        }
      },
      "outputs": [
        {
          "output_type": "stream",
          "name": "stdout",
          "text": [
            "{'Alice': 10, 'Bob': 20, 'Cathy': 30, 'Denny': 40, 'Elle': 50}\n",
            "10\n",
            "{'Bob': 20, 'Cathy': 30, 'Denny': 40, 'Elle': 50}\n"
          ]
        }
      ],
      "source": [
        "# remove an item using pop\n",
        "d = {'Alice':10, 'Bob':20, 'Cathy':30, 'Denny':40, 'Elle':50}\n",
        "print(d)\n",
        "\n",
        "print( d.pop('Alice') )\n",
        "print( d )\n"
      ]
    },
    {
      "cell_type": "markdown",
      "metadata": {
        "id": "BJyd1I2DEHCz"
      },
      "source": [
        "# Error will occur if we try to access a key that does not exist"
      ]
    },
    {
      "cell_type": "code",
      "execution_count": 7,
      "metadata": {
        "id": "bTN-SlmFEHCz",
        "outputId": "dd9b4e15-f72c-4cfe-c167-21fd8e17f862",
        "colab": {
          "base_uri": "https://localhost:8080/",
          "height": 159
        }
      },
      "outputs": [
        {
          "output_type": "error",
          "ename": "KeyError",
          "evalue": "'Jack'",
          "traceback": [
            "\u001b[0;31m---------------------------------------------------------------------------\u001b[0m",
            "\u001b[0;31mKeyError\u001b[0m                                  Traceback (most recent call last)",
            "\u001b[0;32m<ipython-input-7-3284f7aaca13>\u001b[0m in \u001b[0;36m<cell line: 0>\u001b[0;34m()\u001b[0m\n\u001b[1;32m      1\u001b[0m \u001b[0;31m# accessing a key that does not exist --> error\u001b[0m\u001b[0;34m\u001b[0m\u001b[0;34m\u001b[0m\u001b[0m\n\u001b[0;32m----> 2\u001b[0;31m \u001b[0md\u001b[0m\u001b[0;34m[\u001b[0m\u001b[0;34m'Jack'\u001b[0m\u001b[0;34m]\u001b[0m\u001b[0;34m\u001b[0m\u001b[0;34m\u001b[0m\u001b[0m\n\u001b[0m",
            "\u001b[0;31mKeyError\u001b[0m: 'Jack'"
          ]
        }
      ],
      "source": [
        "# accessing a key that does not exist --> error\n",
        "d['Jack']"
      ]
    },
    {
      "cell_type": "code",
      "execution_count": 8,
      "metadata": {
        "id": "Um5CinOxEHCz",
        "outputId": "713d8043-b6a2-4242-f781-11b11f1f54aa",
        "colab": {
          "base_uri": "https://localhost:8080/",
          "height": 141
        }
      },
      "outputs": [
        {
          "output_type": "error",
          "ename": "KeyError",
          "evalue": "'Jack'",
          "traceback": [
            "\u001b[0;31m---------------------------------------------------------------------------\u001b[0m",
            "\u001b[0;31mKeyError\u001b[0m                                  Traceback (most recent call last)",
            "\u001b[0;32m<ipython-input-8-52c0c44635c8>\u001b[0m in \u001b[0;36m<cell line: 0>\u001b[0;34m()\u001b[0m\n\u001b[0;32m----> 1\u001b[0;31m \u001b[0md\u001b[0m\u001b[0;34m.\u001b[0m\u001b[0mpop\u001b[0m\u001b[0;34m(\u001b[0m\u001b[0;34m'Jack'\u001b[0m\u001b[0;34m)\u001b[0m\u001b[0;34m\u001b[0m\u001b[0;34m\u001b[0m\u001b[0m\n\u001b[0m",
            "\u001b[0;31mKeyError\u001b[0m: 'Jack'"
          ]
        }
      ],
      "source": [
        "d.pop('Jack')\n"
      ]
    },
    {
      "cell_type": "markdown",
      "metadata": {
        "id": "WslFdCrqEHCz"
      },
      "source": [
        "# in\n",
        "\n",
        "to avoid the error above, we can use \"in\" to check whether an item is a key in a dict\n",
        "\n",
        "\"in\" is also able to check whether an item is an element in a list"
      ]
    },
    {
      "cell_type": "code",
      "execution_count": 9,
      "metadata": {
        "id": "x4J9PA9gEHCz",
        "outputId": "62159c1d-a6f7-4d9b-c12b-b1332753d900",
        "colab": {
          "base_uri": "https://localhost:8080/"
        }
      },
      "outputs": [
        {
          "output_type": "stream",
          "name": "stdout",
          "text": [
            "False\n",
            "True\n",
            "False\n",
            "True\n"
          ]
        }
      ],
      "source": [
        "# check whether an item is a key in a dict\n",
        "print( 'Jack' in d )\n",
        "print( 'Bob' in d)\n",
        "\n",
        "# check whether an item is an element in a list\n",
        "print( 'Jack' in names )\n",
        "print( 'Bob' in names )\n"
      ]
    },
    {
      "cell_type": "markdown",
      "metadata": {
        "id": "OnQNnTKUEHC0"
      },
      "source": [
        "# get\n",
        "\n",
        "another approach to avoid error when querying a dict with a key that does not exist"
      ]
    },
    {
      "cell_type": "code",
      "execution_count": 10,
      "metadata": {
        "id": "71Mk4e9mEHC0",
        "outputId": "4e435968-44fa-4785-9a3a-1346b8224e61",
        "colab": {
          "base_uri": "https://localhost:8080/"
        }
      },
      "outputs": [
        {
          "output_type": "stream",
          "name": "stdout",
          "text": [
            "20\n",
            "None\n",
            "-1\n"
          ]
        }
      ],
      "source": [
        "print(d.get('Bob'))\n",
        "\n",
        "print(d.get('jack'))        # \"get\" returns None if the key does not exist\n",
        "\n",
        "print(d.get('jack', -1))    # or we can specify what we want the return to be when the key does not exist"
      ]
    },
    {
      "cell_type": "markdown",
      "metadata": {
        "id": "jTieE0dMEHC0"
      },
      "source": [
        "# dict comprehension"
      ]
    },
    {
      "cell_type": "code",
      "execution_count": 11,
      "metadata": {
        "id": "YYwQXYEtEHC0",
        "outputId": "867b164a-23ad-47e8-e982-ca08ffeeafa9",
        "colab": {
          "base_uri": "https://localhost:8080/"
        }
      },
      "outputs": [
        {
          "output_type": "stream",
          "name": "stdout",
          "text": [
            "{'Alice': 10, 'Bob': 20, 'Cathy': 30, 'Denny': 40, 'Elle': 50}\n",
            "{'Bob': 20, 'Cathy': 30, 'Denny': 40, 'Elle': 50}\n",
            "{'Cathy': 30, 'Denny': 40, 'Elle': 50}\n",
            "{'Bob': 20, 'Denny': 40, 'Elle': 50}\n",
            "{'Alice': 10, 'Cathy': 30}\n",
            "{'Alice': 10, 'Cathy': 30}\n",
            "{'Alice': 10, 'Cathy': 30}\n"
          ]
        }
      ],
      "source": [
        "d = {'Alice':10, 'Bob':20, 'Cathy':30, 'Denny':40, 'Elle':50}\n",
        "print(d)\n",
        "\n",
        "# create a new list with a subset of the items, which is effectively removing one or mutliple items\n",
        "d2 = {key:value for key, value in d.items() if key!='Alice'}\n",
        "print(d2)\n",
        "\n",
        "d2 = {key:value for key, value in d.items() if value>25}\n",
        "print(d2)\n",
        "\n",
        "d2 = {key:value for key, value in d.items() if key not in ['Alice','Cathy']}\n",
        "print(d2)\n",
        "\n",
        "d2 = {key:value for key, value in d.items() if key in ['Alice','Cathy']}\n",
        "print(d2)\n",
        "\n",
        "d2 = {key:d[key] for key in d.keys() if key in ['Alice','Cathy']}\n",
        "print(d2)\n",
        "\n",
        "\n",
        "# dict (or list) comprehension can be written as a for loop\n",
        "d2={}\n",
        "for key,value in d.items():\n",
        "    if key in ['Alice','Cathy']:\n",
        "        d2[key]=value\n",
        "print(d2)"
      ]
    },
    {
      "cell_type": "code",
      "execution_count": 12,
      "metadata": {
        "id": "U05O4O8JEHC0",
        "outputId": "8a3382b1-8e15-4035-8f6b-b6430a611893",
        "colab": {
          "base_uri": "https://localhost:8080/"
        }
      },
      "outputs": [
        {
          "output_type": "stream",
          "name": "stdout",
          "text": [
            "{'Alice': 10, 'Bob': 20, 'Cathy': 30, 'Denny': 40, 'Elle': 50}\n",
            "{'ALICE': 13, 'BOB': 23, 'CATHY': 33, 'DENNY': 43, 'ELLE': 53}\n",
            "{'Alice': 10, 'Bob': 20, 'Cathy': 33, 'DENNY': 43, 'ELLE': 53}\n",
            "{'alice': 7, 'bob': 17, 'cathy': 33, 'DENNY': 43, 'ELLE': 53}\n"
          ]
        }
      ],
      "source": [
        "d = {'Alice':10, 'Bob':20, 'Cathy':30, 'Denny':40, 'Elle':50}\n",
        "print(d)\n",
        "\n",
        "# create a new list with updated values for all items, when the update is a valid operation for all values\n",
        "d2 = {key.upper():value+3 for key, value in d.items()}\n",
        "print(d2)\n",
        "\n",
        "# create a new list with updates to a subset of the values and keys\n",
        "d2 = { (key.upper() if value>35 else key):(value+3 if value>25 else value) for key, value in d.items()}\n",
        "print(d2)\n",
        "\n",
        "# create a new list with different updates to different subsets of the keys and the values\n",
        "d2 = { (key.upper() if value>35 else key.lower()):(value+3 if value>25 else value-3) for key, value in d.items()}\n",
        "print(d2)\n",
        "\n"
      ]
    }
  ],
  "metadata": {
    "kernelspec": {
      "display_name": "IntroML",
      "language": "python",
      "name": "python3"
    },
    "language_info": {
      "codemirror_mode": {
        "name": "ipython",
        "version": 3
      },
      "file_extension": ".py",
      "mimetype": "text/x-python",
      "name": "python",
      "nbconvert_exporter": "python",
      "pygments_lexer": "ipython3",
      "version": "3.12.2"
    },
    "colab": {
      "provenance": [],
      "include_colab_link": true
    }
  },
  "nbformat": 4,
  "nbformat_minor": 0
}