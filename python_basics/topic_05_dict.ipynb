{
 "cells": [
  {
   "cell_type": "markdown",
   "metadata": {},
   "source": [
    "# dict\n",
    "\n",
    "dictionary is used to define key-value mapping, so that the values are indexed by keys"
   ]
  },
  {
   "cell_type": "code",
   "execution_count": 1,
   "metadata": {},
   "outputs": [
    {
     "name": "stdout",
     "output_type": "stream",
     "text": [
      "The value associated to Bob is 20\n"
     ]
    }
   ],
   "source": [
    "# use two list to represent mapping between two things, which can be inconvenient and slow\n",
    "names = ['Alice', 'Bob', 'Cathy', 'Denny', 'Elle']\n",
    "values = [10, 20, 30, 40, 50]\n",
    "\n",
    "# assume we want to obtain the value associated to one name\n",
    "name='Bob'\n",
    "value=values[names.index(name)]\n",
    "print(f'The value associated to {name} is {value}')\n"
   ]
  },
  {
   "cell_type": "code",
   "execution_count": 3,
   "metadata": {},
   "outputs": [
    {
     "name": "stdout",
     "output_type": "stream",
     "text": [
      "{'Alice': 10, 'Bob': 20, 'Cathy': 30, 'Denny': 40, 'Elle': 50}\n",
      "The value associated to Bob is 20\n"
     ]
    }
   ],
   "source": [
    "# define a dictionary to represent mapping between two things\n",
    "d = {'Alice':10, 'Bob':20, 'Cathy':30, 'Denny':40, 'Elle':50}\n",
    "print(d)\n",
    "\n",
    "name='Bob'\n",
    "value=d[name]\n",
    "\n",
    "print(f'The value associated to {name} is {value}')\n"
   ]
  },
  {
   "cell_type": "code",
   "execution_count": 3,
   "metadata": {},
   "outputs": [
    {
     "name": "stdout",
     "output_type": "stream",
     "text": [
      "{'Alice': 'a', 'Bob': 20, 'Cathy': 30, 'Denny': 40, 'Elle': 50}\n"
     ]
    }
   ],
   "source": [
    "# keys in a dictionary must be unique\n",
    "# the following shows what happens if there exist duplicated keys when defining a dict\n",
    "\n",
    "d = {'Alice':10, 'Bob':20, 'Cathy':30, 'Denny':40, 'Elle':50, 'Alice':'a'}\n",
    "print(d)\n",
    "\n"
   ]
  },
  {
   "cell_type": "markdown",
   "metadata": {},
   "source": [
    "# after a dict is defined, how to update/add/remove items "
   ]
  },
  {
   "cell_type": "code",
   "execution_count": 4,
   "metadata": {},
   "outputs": [
    {
     "name": "stdout",
     "output_type": "stream",
     "text": [
      "{'Alice': 10, 'Bob': 20, 'Cathy': 30, 'Denny': 40, 'Elle': 50}\n",
      "{'Alice': 10, 'Bob': 200, 'Cathy': 30, 'Denny': 40, 'Elle': 50}\n",
      "{'Alice': 10, 'Bob': 200, 'Cathy': 30, 'Denny': 40, 'Elle': 50, 'Fred': 60}\n"
     ]
    }
   ],
   "source": [
    "# change or add one item at a time\n",
    "d = {'Alice':10, 'Bob':20, 'Cathy':30, 'Denny':40, 'Elle':50}\n",
    "print(d)\n",
    "\n",
    "d['Bob']=200\n",
    "print(d)\n",
    "\n",
    "d['Fred']=60\n",
    "print(d)"
   ]
  },
  {
   "cell_type": "code",
   "execution_count": 5,
   "metadata": {},
   "outputs": [
    {
     "name": "stdout",
     "output_type": "stream",
     "text": [
      "{'Alice': 10, 'Bob': 20, 'Cathy': 30, 'Denny': 40, 'Elle': 50}\n",
      "{'Alice': 100, 'Bob': 20, 'Cathy': 300, 'Denny': 40, 'Elle': 50}\n",
      "{'Alice': 100, 'Bob': 20, 'Cathy': 300, 'Denny': 40, 'Elle': 50, 'Apple': 'red', 'Banana': 'yellow'}\n",
      "{'Alice': 100, 'Bob': 20, 'Cathy': 300, 'Denny': 40, 'Elle': 'happy', 'Apple': 'red', 'Banana': 'yellow', 'Orange': 'orange'}\n"
     ]
    }
   ],
   "source": [
    "# use \"update\" to change or add one or multiple items to a dictionary\n",
    "d = {'Alice':10, 'Bob':20, 'Cathy':30, 'Denny':40, 'Elle':50}\n",
    "print(d)\n",
    "\n",
    "d.update({'Alice':100, 'Cathy':300})\n",
    "print(d)\n",
    "\n",
    "d.update({'Apple':'red', 'Banana':'yellow'})\n",
    "print(d)\n",
    "\n",
    "d.update({'Elle':'happy', 'Orange':'orange'})\n",
    "print(d)\n"
   ]
  },
  {
   "cell_type": "code",
   "execution_count": 6,
   "metadata": {},
   "outputs": [
    {
     "name": "stdout",
     "output_type": "stream",
     "text": [
      "{'Alice': 10, 'Bob': 20, 'Cathy': 30, 'Denny': 40, 'Elle': 50}\n",
      "10\n",
      "{'Bob': 20, 'Cathy': 30, 'Denny': 40, 'Elle': 50}\n"
     ]
    }
   ],
   "source": [
    "# remove an item using pop\n",
    "d = {'Alice':10, 'Bob':20, 'Cathy':30, 'Denny':40, 'Elle':50}\n",
    "print(d)\n",
    "\n",
    "print( d.pop('Alice') )\n",
    "print( d )\n"
   ]
  },
  {
   "cell_type": "markdown",
   "metadata": {},
   "source": [
    "# Error will occur if we try to access a key that does not exist"
   ]
  },
  {
   "cell_type": "code",
   "execution_count": 7,
   "metadata": {},
   "outputs": [
    {
     "ename": "KeyError",
     "evalue": "'Jack'",
     "output_type": "error",
     "traceback": [
      "\u001b[1;31m---------------------------------------------------------------------------\u001b[0m",
      "\u001b[1;31mKeyError\u001b[0m                                  Traceback (most recent call last)",
      "Cell \u001b[1;32mIn[7], line 2\u001b[0m\n\u001b[0;32m      1\u001b[0m \u001b[38;5;66;03m# accessing a key that does not exist --> error\u001b[39;00m\n\u001b[1;32m----> 2\u001b[0m d[\u001b[38;5;124m'\u001b[39m\u001b[38;5;124mJack\u001b[39m\u001b[38;5;124m'\u001b[39m]\n",
      "\u001b[1;31mKeyError\u001b[0m: 'Jack'"
     ]
    }
   ],
   "source": [
    "# accessing a key that does not exist --> error\n",
    "d['Jack']"
   ]
  },
  {
   "cell_type": "code",
   "execution_count": null,
   "metadata": {},
   "outputs": [
    {
     "ename": "KeyError",
     "evalue": "'Jack'",
     "output_type": "error",
     "traceback": [
      "\u001b[1;31m---------------------------------------------------------------------------\u001b[0m",
      "\u001b[1;31mKeyError\u001b[0m                                  Traceback (most recent call last)",
      "Cell \u001b[1;32mIn[119], line 1\u001b[0m\n\u001b[1;32m----> 1\u001b[0m d\u001b[38;5;241m.\u001b[39mpop(\u001b[38;5;124m'\u001b[39m\u001b[38;5;124mJack\u001b[39m\u001b[38;5;124m'\u001b[39m)\n",
      "\u001b[1;31mKeyError\u001b[0m: 'Jack'"
     ]
    }
   ],
   "source": [
    "d.pop('Jack') \n"
   ]
  },
  {
   "cell_type": "markdown",
   "metadata": {},
   "source": [
    "# in\n",
    "\n",
    "to avoid the error above, we can use \"in\" to check whether an item is a key in a dict\n",
    "\n",
    "\"in\" is also able to check whether an item is an element in a list"
   ]
  },
  {
   "cell_type": "code",
   "execution_count": null,
   "metadata": {},
   "outputs": [
    {
     "name": "stdout",
     "output_type": "stream",
     "text": [
      "False\n",
      "True\n",
      "False\n",
      "True\n"
     ]
    }
   ],
   "source": [
    "# check whether an item is a key in a dict\n",
    "print( 'Jack' in d )\n",
    "print( 'Bob' in d)\n",
    "\n",
    "# check whether an item is an element in a list\n",
    "print( 'Jack' in names )\n",
    "print( 'Bob' in names )\n"
   ]
  },
  {
   "cell_type": "markdown",
   "metadata": {},
   "source": [
    "# get\n",
    "\n",
    "another approach to avoid error when querying a dict with a key that does not exist"
   ]
  },
  {
   "cell_type": "code",
   "execution_count": null,
   "metadata": {},
   "outputs": [
    {
     "name": "stdout",
     "output_type": "stream",
     "text": [
      "20\n",
      "None\n",
      "-1\n"
     ]
    }
   ],
   "source": [
    "print(d.get('Bob'))\n",
    "\n",
    "print(d.get('jack'))        # \"get\" returns None if the key does not exist\n",
    "\n",
    "print(d.get('jack', -1))    # or we can specify what we want the return to be when the key does not exist"
   ]
  },
  {
   "cell_type": "markdown",
   "metadata": {},
   "source": [
    "# dict comprehension"
   ]
  },
  {
   "cell_type": "code",
   "execution_count": null,
   "metadata": {},
   "outputs": [
    {
     "name": "stdout",
     "output_type": "stream",
     "text": [
      "{'Alice': 10, 'Bob': 20, 'Cathy': 30, 'Denny': 40, 'Elle': 50}\n",
      "{'Bob': 20, 'Cathy': 30, 'Denny': 40, 'Elle': 50}\n",
      "{'Cathy': 30, 'Denny': 40, 'Elle': 50}\n",
      "{'Bob': 20, 'Denny': 40, 'Elle': 50}\n",
      "{'Alice': 10, 'Cathy': 30}\n",
      "{'Alice': 10, 'Cathy': 30}\n",
      "{'Alice': 10, 'Cathy': 30}\n"
     ]
    }
   ],
   "source": [
    "d = {'Alice':10, 'Bob':20, 'Cathy':30, 'Denny':40, 'Elle':50}\n",
    "print(d)\n",
    "\n",
    "# create a new list with a subset of the items, which is effectively removing one or mutliple items\n",
    "d2 = {key:value for key, value in d.items() if key!='Alice'}\n",
    "print(d2)\n",
    "\n",
    "d2 = {key:value for key, value in d.items() if value>25}\n",
    "print(d2)\n",
    "\n",
    "d2 = {key:value for key, value in d.items() if key not in ['Alice','Cathy']}\n",
    "print(d2)\n",
    "\n",
    "d2 = {key:value for key, value in d.items() if key in ['Alice','Cathy']}\n",
    "print(d2)\n",
    "\n",
    "d2 = {key:d[key] for key in d.keys() if key in ['Alice','Cathy']}\n",
    "print(d2)\n",
    "\n",
    "\n",
    "# dict (or list) comprehension can be written as a for loop\n",
    "d2={}\n",
    "for key,value in d.items():\n",
    "    if key in ['Alice','Cathy']:\n",
    "        d2[key]=value\n",
    "print(d2)"
   ]
  },
  {
   "cell_type": "code",
   "execution_count": null,
   "metadata": {},
   "outputs": [
    {
     "name": "stdout",
     "output_type": "stream",
     "text": [
      "{'Alice': 10, 'Bob': 20, 'Cathy': 30, 'Denny': 40, 'Elle': 50}\n",
      "{'ALICE': 13, 'BOB': 23, 'CATHY': 33, 'DENNY': 43, 'ELLE': 53}\n",
      "{'Alice': 10, 'Bob': 20, 'Cathy': 33, 'DENNY': 43, 'ELLE': 53}\n",
      "{'alice': 7, 'bob': 17, 'cathy': 33, 'DENNY': 43, 'ELLE': 53}\n"
     ]
    }
   ],
   "source": [
    "d = {'Alice':10, 'Bob':20, 'Cathy':30, 'Denny':40, 'Elle':50}\n",
    "print(d)\n",
    "\n",
    "# create a new list with updated values for all items, when the update is a valid operation for all values\n",
    "d2 = {key.upper():value+3 for key, value in d.items()}\n",
    "print(d2)\n",
    "\n",
    "# create a new list with updates to a subset of the values and keys\n",
    "d2 = { (key.upper() if value>35 else key):(value+3 if value>25 else value) for key, value in d.items()}\n",
    "print(d2)\n",
    "\n",
    "# create a new list with different updates to different subsets of the keys and the values\n",
    "d2 = { (key.upper() if value>35 else key.lower()):(value+3 if value>25 else value-3) for key, value in d.items()}\n",
    "print(d2)\n",
    "\n"
   ]
  }
 ],
 "metadata": {
  "kernelspec": {
   "display_name": "IntroML",
   "language": "python",
   "name": "python3"
  },
  "language_info": {
   "codemirror_mode": {
    "name": "ipython",
    "version": 3
   },
   "file_extension": ".py",
   "mimetype": "text/x-python",
   "name": "python",
   "nbconvert_exporter": "python",
   "pygments_lexer": "ipython3",
   "version": "3.12.2"
  }
 },
 "nbformat": 4,
 "nbformat_minor": 2
}
