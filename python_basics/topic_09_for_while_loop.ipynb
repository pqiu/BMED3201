{
  "cells": [
    {
      "cell_type": "markdown",
      "metadata": {
        "id": "view-in-github",
        "colab_type": "text"
      },
      "source": [
        "<a href=\"https://colab.research.google.com/github/pqiu/BMED3201/blob/main/python_basics/topic_09_for_while_loop.ipynb\" target=\"_parent\"><img src=\"https://colab.research.google.com/assets/colab-badge.svg\" alt=\"Open In Colab\"/></a>"
      ]
    },
    {
      "cell_type": "markdown",
      "metadata": {
        "id": "qbiJepFxL8v5"
      },
      "source": [
        "# for loop"
      ]
    },
    {
      "cell_type": "code",
      "execution_count": 1,
      "metadata": {
        "id": "YvRWLsw4L8v6",
        "outputId": "65996b44-1c42-4c66-bfa6-a84b62db8220",
        "colab": {
          "base_uri": "https://localhost:8080/"
        }
      },
      "outputs": [
        {
          "output_type": "stream",
          "name": "stdout",
          "text": [
            "i=0\n",
            "i=1\n",
            "i=2\n",
            "i=3\n",
            "i=4\n"
          ]
        }
      ],
      "source": [
        "for i in [0,1,2,3,4]:\n",
        "    print(f'i={i}')"
      ]
    },
    {
      "cell_type": "code",
      "execution_count": 2,
      "metadata": {
        "id": "CUXfM0oBL8v7",
        "outputId": "d88e17e1-8556-4f56-a679-b9db2420402a",
        "colab": {
          "base_uri": "https://localhost:8080/"
        }
      },
      "outputs": [
        {
          "output_type": "stream",
          "name": "stdout",
          "text": [
            "i=0\n",
            "i=1\n",
            "i=2\n",
            "i=3\n",
            "i=4\n",
            "sum=10\n"
          ]
        }
      ],
      "source": [
        "s = 0\n",
        "for i in range(5):\n",
        "    print(f'i={i}')\n",
        "    s+=i\n",
        "print(f'sum={s}')"
      ]
    },
    {
      "cell_type": "code",
      "execution_count": 3,
      "metadata": {
        "id": "_4KxM3gIL8v7",
        "outputId": "196f9a65-9274-410e-b6f2-f1b9fa676b1a",
        "colab": {
          "base_uri": "https://localhost:8080/"
        }
      },
      "outputs": [
        {
          "output_type": "stream",
          "name": "stdout",
          "text": [
            "Alice\n",
            "Bob\n",
            "Cathy\n",
            "Denny\n",
            "Elle\n"
          ]
        }
      ],
      "source": [
        "names = ['Alice', 'Bob', 'Cathy', 'Denny', 'Elle']\n",
        "for name in names:\n",
        "    print(name)"
      ]
    },
    {
      "cell_type": "markdown",
      "metadata": {
        "id": "77cXNRy4L8v7"
      },
      "source": [
        "# while loop"
      ]
    },
    {
      "cell_type": "code",
      "execution_count": 4,
      "metadata": {
        "id": "UHs7RYNlL8v8",
        "outputId": "d83925b6-1703-4768-9e81-2aaaff5b33c0",
        "colab": {
          "base_uri": "https://localhost:8080/"
        }
      },
      "outputs": [
        {
          "output_type": "stream",
          "name": "stdout",
          "text": [
            "i=0\n",
            "i=1\n",
            "i=2\n",
            "i=3\n",
            "i=4\n"
          ]
        }
      ],
      "source": [
        "i=0\n",
        "while i<5:\n",
        "    print(f'i={i}')\n",
        "    i=i+1"
      ]
    },
    {
      "cell_type": "markdown",
      "metadata": {
        "id": "yAvADjBOL8v8"
      },
      "source": [
        "# continue, break"
      ]
    },
    {
      "cell_type": "code",
      "execution_count": 5,
      "metadata": {
        "id": "6KIil0ZAL8v8",
        "outputId": "2a12ad88-92fd-4dc4-ba70-a3bfbff9aece",
        "colab": {
          "base_uri": "https://localhost:8080/"
        }
      },
      "outputs": [
        {
          "output_type": "stream",
          "name": "stdout",
          "text": [
            "i=0\n",
            "i=1\n",
            "i=3\n",
            "i=4\n"
          ]
        }
      ],
      "source": [
        "for i in range(5):\n",
        "    if i==2:\n",
        "        continue\n",
        "    print(f'i={i}')"
      ]
    },
    {
      "cell_type": "code",
      "execution_count": 6,
      "metadata": {
        "id": "qnZo0uMdL8v8",
        "outputId": "75cb5038-34b1-4e96-ec8d-dc1473642693",
        "colab": {
          "base_uri": "https://localhost:8080/"
        }
      },
      "outputs": [
        {
          "output_type": "stream",
          "name": "stdout",
          "text": [
            "i=0\n",
            "i=1\n"
          ]
        }
      ],
      "source": [
        "for i in range(5):\n",
        "    if i==2:\n",
        "        break\n",
        "    print(f'i={i}')"
      ]
    },
    {
      "cell_type": "markdown",
      "metadata": {
        "id": "KMCo4XJcL8v8"
      },
      "source": [
        "# Bad practice to always avoid: changing the iterating variable \"i\" inside the loop"
      ]
    },
    {
      "cell_type": "code",
      "execution_count": 7,
      "metadata": {
        "id": "Um98BZ5qL8v8",
        "outputId": "d8a4b98a-d5d8-4495-8c42-6dce1e79b90f",
        "colab": {
          "base_uri": "https://localhost:8080/"
        }
      },
      "outputs": [
        {
          "output_type": "stream",
          "name": "stdout",
          "text": [
            "i=0\n",
            "i=1\n",
            "i=3\n",
            "i=3\n",
            "i=4\n"
          ]
        }
      ],
      "source": [
        "for i in range(5):\n",
        "    if i==2:\n",
        "        i=i+1\n",
        "    print(f'i={i}')"
      ]
    },
    {
      "cell_type": "code",
      "execution_count": 8,
      "metadata": {
        "id": "dFcTdtvdL8v8",
        "outputId": "a8a39204-c42e-4a84-8e76-05f40f2cfede",
        "colab": {
          "base_uri": "https://localhost:8080/"
        }
      },
      "outputs": [
        {
          "output_type": "stream",
          "name": "stdout",
          "text": [
            "i=0\n",
            "i=1\n",
            "i=3\n",
            "i=4\n"
          ]
        }
      ],
      "source": [
        "i=0\n",
        "while i<5:\n",
        "    if i==2:\n",
        "        i=i+1\n",
        "    print(f'i={i}')\n",
        "    i=i+1"
      ]
    }
  ],
  "metadata": {
    "kernelspec": {
      "display_name": "IntroML",
      "language": "python",
      "name": "python3"
    },
    "language_info": {
      "codemirror_mode": {
        "name": "ipython",
        "version": 3
      },
      "file_extension": ".py",
      "mimetype": "text/x-python",
      "name": "python",
      "nbconvert_exporter": "python",
      "pygments_lexer": "ipython3",
      "version": "3.12.2"
    },
    "colab": {
      "provenance": [],
      "include_colab_link": true
    }
  },
  "nbformat": 4,
  "nbformat_minor": 0
}