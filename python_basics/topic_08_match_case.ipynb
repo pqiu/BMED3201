{
  "cells": [
    {
      "cell_type": "markdown",
      "metadata": {
        "id": "view-in-github",
        "colab_type": "text"
      },
      "source": [
        "<a href=\"https://colab.research.google.com/github/pqiu/BMED3201/blob/main/python_basics/topic_08_match_case.ipynb\" target=\"_parent\"><img src=\"https://colab.research.google.com/assets/colab-badge.svg\" alt=\"Open In Colab\"/></a>"
      ]
    },
    {
      "cell_type": "markdown",
      "metadata": {
        "id": "x71FQuzCLvl1"
      },
      "source": [
        "# match case"
      ]
    },
    {
      "cell_type": "code",
      "execution_count": 1,
      "metadata": {
        "id": "9A8gKopmLvl2",
        "outputId": "7c5a0161-9740-4c2e-bba8-ddc3733e1208",
        "colab": {
          "base_uri": "https://localhost:8080/"
        }
      },
      "outputs": [
        {
          "output_type": "stream",
          "name": "stdout",
          "text": [
            "score is B.\n"
          ]
        }
      ],
      "source": [
        "score = 'B'\n",
        "if score == 'A':\n",
        "    print('score is A.')\n",
        "elif score == 'B':\n",
        "    print('score is B.')\n",
        "elif score == 'C':\n",
        "    print('score is C.')\n",
        "else:\n",
        "    print('invalid score.')"
      ]
    },
    {
      "cell_type": "code",
      "execution_count": 2,
      "metadata": {
        "id": "t8DJzFV8Lvl3",
        "outputId": "37018af6-da1d-4030-f454-1c2c2f7876cd",
        "colab": {
          "base_uri": "https://localhost:8080/"
        }
      },
      "outputs": [
        {
          "output_type": "stream",
          "name": "stdout",
          "text": [
            "score is B.\n"
          ]
        }
      ],
      "source": [
        "score = 'B'\n",
        "\n",
        "match score:\n",
        "    case 'A':\n",
        "        print('score is A.')\n",
        "    case 'B':\n",
        "        print('score is B.')\n",
        "    case 'C':\n",
        "        print('score is C.')\n",
        "    case _: # if none of the above cases is a match\n",
        "        print('score is ???.')"
      ]
    },
    {
      "cell_type": "code",
      "execution_count": 3,
      "metadata": {
        "id": "-9RdwRFyLvl4",
        "outputId": "c7486a25-21a0-41d8-b4fc-dee5a3e67270",
        "colab": {
          "base_uri": "https://localhost:8080/"
        }
      },
      "outputs": [
        {
          "output_type": "stream",
          "name": "stdout",
          "text": [
            "11~18 years old.\n"
          ]
        }
      ],
      "source": [
        "age = 15.0\n",
        "match age:\n",
        "    case x if x < 10:\n",
        "        print(f'< 10 years old: {x}')\n",
        "    case 10:\n",
        "        print('10 years old.')\n",
        "    case 11 | 12 | 13 | 14 | 15 | 16 | 17 | 18:\n",
        "        print('11~18 years old.')\n",
        "    case 19:\n",
        "        print('19 years old.')\n",
        "    case _:\n",
        "        print('not sure.')\n",
        "\n",
        "# this example is just intended for illustrating how match-case works. It's logic is actually not great. For example, if we set age=15.1, the code will say \"not sure\", which is dumb\n"
      ]
    }
  ],
  "metadata": {
    "kernelspec": {
      "display_name": "IntroML",
      "language": "python",
      "name": "python3"
    },
    "language_info": {
      "codemirror_mode": {
        "name": "ipython",
        "version": 3
      },
      "file_extension": ".py",
      "mimetype": "text/x-python",
      "name": "python",
      "nbconvert_exporter": "python",
      "pygments_lexer": "ipython3",
      "version": "3.12.2"
    },
    "colab": {
      "provenance": [],
      "include_colab_link": true
    }
  },
  "nbformat": 4,
  "nbformat_minor": 0
}