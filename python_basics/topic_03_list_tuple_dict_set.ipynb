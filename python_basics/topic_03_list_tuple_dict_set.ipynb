{
  "cells": [
    {
      "cell_type": "markdown",
      "metadata": {
        "id": "view-in-github",
        "colab_type": "text"
      },
      "source": [
        "<a href=\"https://colab.research.google.com/github/pqiu/BMED3201/blob/main/python_basics/topic_03_list_tuple_dict_set.ipynb\" target=\"_parent\"><img src=\"https://colab.research.google.com/assets/colab-badge.svg\" alt=\"Open In Colab\"/></a>"
      ]
    },
    {
      "cell_type": "markdown",
      "metadata": {
        "id": "0pRfGL6ut-sd"
      },
      "source": [
        "# list\n",
        "\n",
        "A list is an ordered set of items/values that can be of any type. Elements can be added or removed\n",
        "\n",
        "[] is used to define a list"
      ]
    },
    {
      "cell_type": "code",
      "execution_count": 1,
      "metadata": {
        "colab": {
          "base_uri": "https://localhost:8080/"
        },
        "id": "r5Fqvt_Et-sf",
        "outputId": "a505266e-b7b9-44b6-de0b-4f2dafb8686c"
      },
      "outputs": [
        {
          "output_type": "stream",
          "name": "stdout",
          "text": [
            "['Alice', 'Bob', 'Cathy', 'Denny']\n"
          ]
        }
      ],
      "source": [
        "a = ['Alice', 'Bob', 'Cathy', 'Denny']\n",
        "print(a)"
      ]
    },
    {
      "cell_type": "code",
      "execution_count": 2,
      "metadata": {
        "colab": {
          "base_uri": "https://localhost:8080/"
        },
        "id": "l8K67PTgt-sf",
        "outputId": "df873ef3-759c-4f6c-c3cb-bb4dffce018a"
      },
      "outputs": [
        {
          "output_type": "stream",
          "name": "stdout",
          "text": [
            "['Alice', 1, True, None, 3.9]\n"
          ]
        }
      ],
      "source": [
        "a = ['Alice', 1, True, None, 3.9]\n",
        "print(a)"
      ]
    },
    {
      "cell_type": "code",
      "execution_count": 3,
      "metadata": {
        "colab": {
          "base_uri": "https://localhost:8080/"
        },
        "id": "X6vzcu-It-sg",
        "outputId": "17b7c3a0-a63c-4cb4-f4bd-9fc8d76fe7cf"
      },
      "outputs": [
        {
          "output_type": "stream",
          "name": "stdout",
          "text": [
            "['Alice', 1, ['a', 'b', 'c'], 3.9]\n"
          ]
        }
      ],
      "source": [
        "a = ['Alice', 1, ['a', 'b', 'c'], 3.9]\n",
        "print(a)"
      ]
    },
    {
      "cell_type": "markdown",
      "metadata": {
        "id": "QB3G_p-At-sg"
      },
      "source": [
        "# Access individual element of a list (by index)\n",
        "\n",
        "index starts from 0, ends at len()-1"
      ]
    },
    {
      "cell_type": "code",
      "execution_count": 4,
      "metadata": {
        "colab": {
          "base_uri": "https://localhost:8080/",
          "height": 35
        },
        "id": "3qzhav5wt-sg",
        "outputId": "0985f690-e5ad-4821-c0c1-adcb4c0da53b"
      },
      "outputs": [
        {
          "output_type": "execute_result",
          "data": {
            "text/plain": [
              "'Alice'"
            ],
            "application/vnd.google.colaboratory.intrinsic+json": {
              "type": "string"
            }
          },
          "metadata": {},
          "execution_count": 4
        }
      ],
      "source": [
        "a = ['Alice', 1, ['a', 'b', 'c'], 3.9]\n",
        "\n",
        "a[0]"
      ]
    },
    {
      "cell_type": "code",
      "execution_count": 5,
      "metadata": {
        "colab": {
          "base_uri": "https://localhost:8080/"
        },
        "id": "m-vhWO-Lt-sg",
        "outputId": "01a32683-6d9f-48ce-c8a4-1cd509b8e3da"
      },
      "outputs": [
        {
          "output_type": "execute_result",
          "data": {
            "text/plain": [
              "1"
            ]
          },
          "metadata": {},
          "execution_count": 5
        }
      ],
      "source": [
        "a[1]"
      ]
    },
    {
      "cell_type": "code",
      "execution_count": 6,
      "metadata": {
        "colab": {
          "base_uri": "https://localhost:8080/"
        },
        "id": "FF6WnbtMt-sh",
        "outputId": "44b3a999-2e6a-45d6-bf1a-475a4e745212"
      },
      "outputs": [
        {
          "output_type": "execute_result",
          "data": {
            "text/plain": [
              "['a', 'b', 'c']"
            ]
          },
          "metadata": {},
          "execution_count": 6
        }
      ],
      "source": [
        "a[2]"
      ]
    },
    {
      "cell_type": "code",
      "execution_count": 7,
      "metadata": {
        "colab": {
          "base_uri": "https://localhost:8080/",
          "height": 35
        },
        "id": "6LoHBsIMt-sh",
        "outputId": "b899838f-0910-4221-ec11-45db6ebffa34"
      },
      "outputs": [
        {
          "output_type": "execute_result",
          "data": {
            "text/plain": [
              "'a'"
            ],
            "application/vnd.google.colaboratory.intrinsic+json": {
              "type": "string"
            }
          },
          "metadata": {},
          "execution_count": 7
        }
      ],
      "source": [
        "a[2][0]"
      ]
    },
    {
      "cell_type": "code",
      "execution_count": 8,
      "metadata": {
        "colab": {
          "base_uri": "https://localhost:8080/"
        },
        "id": "Sec7Wv6nt-sh",
        "outputId": "c6862a19-6e7c-4437-9055-57b21d0c34ee"
      },
      "outputs": [
        {
          "output_type": "execute_result",
          "data": {
            "text/plain": [
              "3.9"
            ]
          },
          "metadata": {},
          "execution_count": 8
        }
      ],
      "source": [
        "a[-1]"
      ]
    },
    {
      "cell_type": "code",
      "execution_count": 9,
      "metadata": {
        "colab": {
          "base_uri": "https://localhost:8080/"
        },
        "id": "seJ0FQj_t-sh",
        "outputId": "08ad0f39-1889-45de-ab31-ff64a0c6b157"
      },
      "outputs": [
        {
          "output_type": "execute_result",
          "data": {
            "text/plain": [
              "['a', 'b', 'c']"
            ]
          },
          "metadata": {},
          "execution_count": 9
        }
      ],
      "source": [
        "a[-2]"
      ]
    },
    {
      "cell_type": "markdown",
      "metadata": {
        "id": "S30NV7XOt-sh"
      },
      "source": [
        "# remove or insert an element"
      ]
    },
    {
      "cell_type": "code",
      "execution_count": 10,
      "metadata": {
        "colab": {
          "base_uri": "https://localhost:8080/"
        },
        "id": "Joinyn-dt-sh",
        "outputId": "db061184-7a02-4bf2-9fd4-27968bde1f71"
      },
      "outputs": [
        {
          "output_type": "stream",
          "name": "stdout",
          "text": [
            "['Alice', 1, ['a', 'b', 'c'], 3.9]\n",
            "['Alice', 1, ['a', 'b', 'c']]\n"
          ]
        }
      ],
      "source": [
        "# remove an element\n",
        "a = ['Alice', 1, ['a', 'b', 'c'], 3.9]\n",
        "print(a)\n",
        "a.pop()\n",
        "print(a)"
      ]
    },
    {
      "cell_type": "code",
      "execution_count": 11,
      "metadata": {
        "colab": {
          "base_uri": "https://localhost:8080/"
        },
        "id": "GdDk0B2gt-si",
        "outputId": "0c653b3b-2a1d-4617-bf20-bd27ee32ce7f"
      },
      "outputs": [
        {
          "output_type": "stream",
          "name": "stdout",
          "text": [
            "['Alice', 1, ['a', 'b', 'c'], 3.9]\n",
            "['Alice', 1, 3.9]\n"
          ]
        }
      ],
      "source": [
        "# remove an element\n",
        "a = ['Alice', 1, ['a', 'b', 'c'], 3.9]\n",
        "print(a)\n",
        "a.pop(2)\n",
        "print(a)"
      ]
    },
    {
      "cell_type": "code",
      "execution_count": 12,
      "metadata": {
        "colab": {
          "base_uri": "https://localhost:8080/"
        },
        "id": "ld_iKQWft-si",
        "outputId": "22c50aaf-8c1b-47da-b151-1a4f4c6d20f0"
      },
      "outputs": [
        {
          "output_type": "stream",
          "name": "stdout",
          "text": [
            "['Alice', 1, 'x', 3.9]\n"
          ]
        }
      ],
      "source": [
        "# change one element\n",
        "a = ['Alice', 1, ['a', 'b', 'c'], 3.9]\n",
        "a[2]='x'\n",
        "print(a)"
      ]
    },
    {
      "cell_type": "code",
      "execution_count": 13,
      "metadata": {
        "colab": {
          "base_uri": "https://localhost:8080/"
        },
        "id": "w6_DYilJt-si",
        "outputId": "7e1d871c-cb7f-4764-c399-7ba5ba6b281e"
      },
      "outputs": [
        {
          "output_type": "stream",
          "name": "stdout",
          "text": [
            "['Alice', 1, ['a', 'b', 'x'], 3.9]\n"
          ]
        }
      ],
      "source": [
        "# change one element\n",
        "a = ['Alice', 1, ['a', 'b', 'c'], 3.9]\n",
        "a[2][2]='x'\n",
        "print(a)"
      ]
    },
    {
      "cell_type": "code",
      "execution_count": 14,
      "metadata": {
        "colab": {
          "base_uri": "https://localhost:8080/"
        },
        "id": "Bnpu7Vnzt-si",
        "outputId": "ae44f4f1-dda8-45af-9ed0-2c1e8b75def9"
      },
      "outputs": [
        {
          "output_type": "stream",
          "name": "stdout",
          "text": [
            "['Alice', 1, ['a', 'b', 'c'], 3.9, 'new']\n"
          ]
        }
      ],
      "source": [
        "# append an element at the end of the list\n",
        "a = ['Alice', 1, ['a', 'b', 'c'], 3.9]\n",
        "a.append('new')\n",
        "print(a)"
      ]
    },
    {
      "cell_type": "code",
      "execution_count": 15,
      "metadata": {
        "colab": {
          "base_uri": "https://localhost:8080/"
        },
        "id": "Pq1qnw9Wt-si",
        "outputId": "db3a4d2d-10f7-453c-faf2-63757006ab17"
      },
      "outputs": [
        {
          "output_type": "stream",
          "name": "stdout",
          "text": [
            "['Alice', 1, 'new', ['a', 'b', 'c'], 3.9]\n"
          ]
        }
      ],
      "source": [
        "# insert an element at a certain position\n",
        "a = ['Alice', 1, ['a', 'b', 'c'], 3.9]\n",
        "a.insert(2,'new')\n",
        "print(a)"
      ]
    },
    {
      "cell_type": "markdown",
      "metadata": {
        "id": "fTMmvp7Rt-si"
      },
      "source": [
        "# Generate a new list which contains a slice of a list, using list[X:Y] or list[X:Y:Z]\n",
        "- X: an integer to specify start index. If not specified, X=0\n",
        "- Y: an integer such that the end index is smaller than it. If not specified, Y is the length of the list\n",
        "- Z: an integer to represent the increment of index. if not specified, Z=1\n",
        ""
      ]
    },
    {
      "cell_type": "code",
      "execution_count": 16,
      "metadata": {
        "colab": {
          "base_uri": "https://localhost:8080/"
        },
        "id": "37tv2TtCt-si",
        "outputId": "cdcdfc2c-09f6-43ea-9db7-5dfb61464ff9"
      },
      "outputs": [
        {
          "output_type": "stream",
          "name": "stdout",
          "text": [
            "['a', 'b', 'c', 'd', 'e', 'f', 'g', 'h', 'i', 'j']\n",
            "length of the list is 10\n",
            "\n",
            "\n",
            "['a', 'b', 'c', 'd', 'e', 'f', 'g', 'h', 'i', 'j']\n",
            "['a', 'b', 'c', 'd', 'e']\n",
            "['b', 'c', 'd', 'e']\n",
            "[]\n",
            "['a', 'b', 'c', 'd', 'e', 'f', 'g', 'h', 'i']\n",
            "['a', 'b', 'c', 'd', 'e', 'f', 'g', 'h']\n",
            "['b', 'c', 'd', 'e', 'f', 'g', 'h']\n",
            "['g', 'h', 'i', 'j']\n",
            "['g', 'h', 'i']\n",
            "['c', 'e', 'g', 'i']\n"
          ]
        }
      ],
      "source": [
        "a = ['a', 'b', 'c', 'd', 'e', 'f', 'g', 'h', 'i', 'j']\n",
        "print( a )\n",
        "# length (number of element) of a\n",
        "print(f'length of the list is {len(a)}')\n",
        "\n",
        "print()\n",
        "print()\n",
        "\n",
        "# each expression inside the following print returns a list\n",
        "print( a[:] )       # same as a itself, almost never used this way\n",
        "print( a[0:5] )     # elements from index 0 to 5-1\n",
        "print( a[1:5] )     # elements from index 1 to 5-1\n",
        "print( a[5:5] )     # elements from index 5 to 5-1, which is empty\n",
        "print( a[:-1] )     # elements from beginning to the one before the last element\n",
        "print( a[:-2] )     # elements from beginning to the one before the last two elements\n",
        "print( a[1:-2] )    # elements from index 1 to the one before the last two elements\n",
        "print( a[-4:] )     # elements from 4th to the last to the last\n",
        "print( a[-4:-1] )   # elements from 4th to the last to the second to the last\n",
        "print( a[2:20:2] )  # elements from index 2 to 20-1, but every other element\n",
        "\n"
      ]
    },
    {
      "cell_type": "markdown",
      "metadata": {
        "id": "Vf0dSc8xt-si"
      },
      "source": [
        "# Same slice operations can be applied to strings. Strings can be viewed as a list of letters/characters"
      ]
    },
    {
      "cell_type": "code",
      "execution_count": 17,
      "metadata": {
        "colab": {
          "base_uri": "https://localhost:8080/"
        },
        "id": "Nxv0zimOt-si",
        "outputId": "78ef1081-d42a-4aab-966a-5de696788dbc"
      },
      "outputs": [
        {
          "output_type": "stream",
          "name": "stdout",
          "text": [
            "abcdefghij\n",
            "length of the list is 10\n",
            "\n",
            "\n",
            "abcdefghij\n",
            "abcde\n",
            "bcde\n",
            "\n",
            "abcdefghi\n",
            "abcdefgh\n",
            "bcdefgh\n",
            "ghij\n",
            "ghi\n",
            "cegi\n"
          ]
        }
      ],
      "source": [
        "a = 'abcdefghij'\n",
        "print( a )\n",
        "# length (number of element) of a\n",
        "print(f'length of the list is {len(a)}')\n",
        "\n",
        "print()\n",
        "print()\n",
        "\n",
        "# each expression inside the following print returns a list\n",
        "print( a[:] )       # same as a itself, almost never used this way\n",
        "print( a[0:5] )     # elements from index 0 to 5-1\n",
        "print( a[1:5] )     # elements from index 1 to 5-1\n",
        "print( a[5:5] )     # elements from index 5 to 5-1, which is empty\n",
        "print( a[:-1] )     # elements from beginning to the one before the last element\n",
        "print( a[:-2] )     # elements from beginning to the one before the last two elements\n",
        "print( a[1:-2] )    # elements from index 1 to the one before the last two elements\n",
        "print( a[-4:] )     # elements from 4th to the last to the last\n",
        "print( a[-4:-1] )   # elements from 4th to the last to the second to the last\n",
        "print( a[2:20:2] )  # elements from index 1 to 20-1, but every other element\n",
        "\n"
      ]
    },
    {
      "cell_type": "markdown",
      "metadata": {
        "id": "NxxUnReft-si"
      },
      "source": [
        "# The above indexing approach cannot generate a list with arbitary subset of element. This can be achieved via list comprehension, ??? filtering ??? (which will be demonstrated in a later topic)"
      ]
    },
    {
      "cell_type": "code",
      "execution_count": 18,
      "metadata": {
        "colab": {
          "base_uri": "https://localhost:8080/"
        },
        "id": "_71_xZ5jt-si",
        "outputId": "6d94e03b-41b5-492d-e01f-e31665100475"
      },
      "outputs": [
        {
          "output_type": "stream",
          "name": "stdout",
          "text": [
            "['b', 'e', 'f', 'j']\n",
            "['b', 'e', 'f', 'j']\n",
            "['b', 'e', 'f', 'j']\n",
            "['b', 'e', 'f', 'j']\n",
            "['B', 'E', 'F', 'J']\n"
          ]
        }
      ],
      "source": [
        "a = ['a', 'b', 'c', 'd', 'e', 'f', 'g', 'h', 'i', 'j']\n",
        "\n",
        "# specify indices of elements of interest\n",
        "index_of_interest = [1, 4, 5, 9]\n",
        "indicator_of_interest = [False, True, False, False, True, True, False, False, False, True]\n",
        "\n",
        "# we can use list comprehension to get the specified elements\n",
        "print( [item for item in a if a.index(item) in index_of_interest] )\n",
        "print( [item for item in a if indicator_of_interest[a.index(item)]])\n",
        "\n",
        "print( [a[i] for i in range(len(a)) if i in index_of_interest] )\n",
        "print( [a[i] for i in range(len(a)) if indicator_of_interest[i]] )\n",
        "print( [a[i].upper() for i in range(len(a)) if indicator_of_interest[i]] )\n",
        "\n"
      ]
    },
    {
      "cell_type": "code",
      "execution_count": 19,
      "metadata": {
        "colab": {
          "base_uri": "https://localhost:8080/"
        },
        "id": "ZyFE6LS9t-si",
        "outputId": "88322ab1-c26f-4226-9273-13831e8557a1"
      },
      "outputs": [
        {
          "output_type": "stream",
          "name": "stdout",
          "text": [
            "['A', 'b', 'C', 'D', 'e', 'f', 'G', 'H', 'I', 'j']\n",
            "['A', 'b', 'C', 'D', 'e', 'f', 'G', 'H', 'I', 'j']\n",
            "['A', 'b', 'C', 'D', 'e', 'f', 'G', 'H', 'I', 'j']\n",
            "['A', 'b', 'C', 'D', 'e', 'f', 'G', 'H', 'I', 'j']\n"
          ]
        }
      ],
      "source": [
        "a = ['a', 'b', 'c', 'd', 'e', 'f', 'g', 'h', 'i', 'j']\n",
        "\n",
        "# specify indices of elements of interest\n",
        "index_of_interest = [1, 4, 5, 9]\n",
        "indicator_of_interest = [False, True, False, False, True, True, False, False, False, True]\n",
        "\n",
        "# we can use list comprehension to update specified elements\n",
        "print( [item if a.index(item) in index_of_interest else item.upper() for item in a] )\n",
        "print( [item if indicator_of_interest[a.index(item)] else item.upper() for item in a] )\n",
        "\n",
        "print( [a[i] if i in index_of_interest else a[i].upper() for i in range(len(a)) ] )\n",
        "print( [a[i] if indicator_of_interest[i] else a[i].upper() for i in range(len(a))] )\n",
        "\n",
        "\n"
      ]
    },
    {
      "cell_type": "code",
      "execution_count": 20,
      "metadata": {
        "colab": {
          "base_uri": "https://localhost:8080/"
        },
        "id": "rArXAsNDt-si",
        "outputId": "6fbd9b34-e56e-4e37-f015-da5e3cf73ed9"
      },
      "outputs": [
        {
          "output_type": "stream",
          "name": "stdout",
          "text": [
            "[1, 4, 5, 9]\n",
            "[1, 4, 5, 9]\n",
            "[False, True, False, False, True, True, False, False, False, True]\n"
          ]
        }
      ],
      "source": [
        "a = ['a', 'b', 'c', 'd', 'e', 'f', 'g', 'h', 'i', 'j']\n",
        "\n",
        "# specify elements of interest\n",
        "elements_of_interest = ['b', 'e', 'f', 'j']\n",
        "\n",
        "# we can obtain the indices of thse elements of interest\n",
        "print( [i for i in range(len(a)) if a[i] in elements_of_interest] )\n",
        "print( [a.index(item) for item in elements_of_interest] )             # this does not work well if any element of interest appear in a multiple times\n",
        "print( [a[i] in elements_of_interest for i in range(len(a))] )\n",
        "\n"
      ]
    },
    {
      "cell_type": "markdown",
      "metadata": {
        "id": "MaMaIZ9st-sj"
      },
      "source": [
        "# One property of list is somewhat similar to pointers in C/C++"
      ]
    },
    {
      "cell_type": "code",
      "execution_count": 21,
      "metadata": {
        "colab": {
          "base_uri": "https://localhost:8080/"
        },
        "id": "ejTNfsl6t-sj",
        "outputId": "687b14c1-6574-4f44-d3a7-a1591a809eda"
      },
      "outputs": [
        {
          "output_type": "stream",
          "name": "stdout",
          "text": [
            "['a', 'b', 'c', 'd', 'e', 'f', 'g', 'h', 'i', 'j']\n",
            "['a', 'b', 'c', 'd', 'e', 'f', 'g', 'h', 'i', 'j']\n",
            "[1, 'b', 'c', 'd', 'e', 'f', 'g', 'h', 'i', 'j']\n",
            "[1, 'b', 'c', 'd', 'e', 'f', 'g', 'h', 'i', 'j']\n"
          ]
        }
      ],
      "source": [
        "a = ['a', 'b', 'c', 'd', 'e', 'f', 'g', 'h', 'i', 'j']\n",
        "print( a )\n",
        "\n",
        "b = a\n",
        "print(b)\n",
        "\n",
        "b[0]=1\n",
        "print(b)\n",
        "\n",
        "print(a)\n",
        "\n",
        "# NOTE:\n",
        "# a is kind of like a pointer that points to the location where the list is stored\n",
        "# b is set to be the same as a, and therefore also a pointer pointing to the same location\n",
        "# when b[0] is updated, the list changed\n",
        "# a and b still point to the same location\n",
        "# therefore, print(b) and print(a) both show the updated value\n",
        "\n"
      ]
    },
    {
      "cell_type": "code",
      "execution_count": 22,
      "metadata": {
        "colab": {
          "base_uri": "https://localhost:8080/"
        },
        "id": "yQouhm6at-sj",
        "outputId": "de60ace7-3ef3-463f-f5a6-ae0085009616"
      },
      "outputs": [
        {
          "output_type": "stream",
          "name": "stdout",
          "text": [
            "['a', 'b', 'c', 'd', 'e', 'f', 'g', 'h', 'i', 'j']\n",
            "['a', 'b', 'c', 'd', 'e', 'f', 'g', 'h', 'i', 'j']\n",
            "[1, 'b', 'c', 'd', 'e', 'f', 'g', 'h', 'i', 'j']\n",
            "['a', 'b', 'c', 'd', 'e', 'f', 'g', 'h', 'i', 'j']\n"
          ]
        }
      ],
      "source": [
        "a = ['a', 'b', 'c', 'd', 'e', 'f', 'g', 'h', 'i', 'j']\n",
        "print( a )\n",
        "\n",
        "b = a.copy()\n",
        "print(b)\n",
        "\n",
        "b[0]=1\n",
        "print(b)\n",
        "\n",
        "print(a)\n",
        "\n",
        "# NOTE:\n",
        "# a.copy() creates a new list which is a copy of the list a\n",
        "# b points to the location of this newly created list, which is of course a different location\n",
        "# when b[0] is updated, this change only happens in the location where the new list is stored\n",
        "# therefore, print(a) still shows the original list\n"
      ]
    },
    {
      "cell_type": "code",
      "execution_count": 23,
      "metadata": {
        "colab": {
          "base_uri": "https://localhost:8080/"
        },
        "id": "GSJP2Zzxt-sj",
        "outputId": "37fe839b-5302-44ff-9d50-f4d7eaa6bbe0"
      },
      "outputs": [
        {
          "output_type": "stream",
          "name": "stdout",
          "text": [
            "['a', 'b', 'c', 'd', 'e', 'f', 'g', 'h', 'i', 'j']\n",
            "['a', 'b', 'c', 'd', 'e', 'f', 'g', 'h', 'i', 'j']\n",
            "[1, 'b', 'c', 'd', 'e', 'f', 'g', 'h', 'i', 'j']\n",
            "['a', 'b', 'c', 'd', 'e', 'f', 'g', 'h', 'i', 'j']\n"
          ]
        }
      ],
      "source": [
        "a = ['a', 'b', 'c', 'd', 'e', 'f', 'g', 'h', 'i', 'j']\n",
        "print( a )\n",
        "\n",
        "b = a[:]\n",
        "print(b)\n",
        "\n",
        "b[0]=1\n",
        "print(b)\n",
        "\n",
        "print(a)\n",
        "\n",
        "# NOTE:\n",
        "# a[:] has the same effect as a.copy()\n",
        "# this is because a[:] creates a new list which is a slice of the list a, and here the slide is the entirety of a\n",
        "# therefore, b points to the location of this newly created list, which is a different location\n",
        "# when b[0] is updated, this change only happens in the location where the new list is stored\n",
        "# therefore, print(a) still shows the original list\n"
      ]
    },
    {
      "cell_type": "markdown",
      "metadata": {
        "id": "mIg2p3jlt-sj"
      },
      "source": [
        "# a few useful functions for lists"
      ]
    },
    {
      "cell_type": "code",
      "execution_count": 24,
      "metadata": {
        "colab": {
          "base_uri": "https://localhost:8080/"
        },
        "id": "6wn1MElQt-sj",
        "outputId": "2f7b8e3d-a91f-4192-b379-bc375b6b274b"
      },
      "outputs": [
        {
          "output_type": "stream",
          "name": "stdout",
          "text": [
            "0\n",
            "2\n",
            "0\n"
          ]
        }
      ],
      "source": [
        "a = ['a', 'a', 'c', 'd', 'e', 'f', 'g', 'h', 'i', 'j']\n",
        "\n",
        "# find the index of the first appearence of an element\n",
        "print( a.index('a') )\n",
        "\n",
        "# count the number of times a particular element appearing in the list\n",
        "print( a.count('a') )\n",
        "print( a.count('b') )"
      ]
    },
    {
      "cell_type": "markdown",
      "metadata": {
        "id": "CItsJL33t-sj"
      },
      "source": [
        "# useful reference\n",
        "https://www.w3schools.com/python/python_ref_list.asp"
      ]
    }
  ],
  "metadata": {
    "kernelspec": {
      "display_name": "IntroML",
      "language": "python",
      "name": "python3"
    },
    "language_info": {
      "codemirror_mode": {
        "name": "ipython",
        "version": 3
      },
      "file_extension": ".py",
      "mimetype": "text/x-python",
      "name": "python",
      "nbconvert_exporter": "python",
      "pygments_lexer": "ipython3",
      "version": "3.12.2"
    },
    "colab": {
      "provenance": [],
      "include_colab_link": true
    }
  },
  "nbformat": 4,
  "nbformat_minor": 0
}