{
 "cells": [
  {
   "cell_type": "markdown",
   "metadata": {},
   "source": [
    "# list\n",
    "\n",
    "A list is an ordered set of items/values that can be of any type. Elements can be added or removed\n",
    "\n",
    "[] is used to define a list"
   ]
  },
  {
   "cell_type": "code",
   "execution_count": 2,
   "metadata": {},
   "outputs": [
    {
     "name": "stdout",
     "output_type": "stream",
     "text": [
      "['Alice', 'Bob', 'Cathy', 'Denny']\n"
     ]
    }
   ],
   "source": [
    "a = ['Alice', 'Bob', 'Cathy', 'Denny']\n",
    "print(a)"
   ]
  },
  {
   "cell_type": "code",
   "execution_count": 4,
   "metadata": {},
   "outputs": [
    {
     "name": "stdout",
     "output_type": "stream",
     "text": [
      "['Alice', 1, True, None, 3.9]\n"
     ]
    }
   ],
   "source": [
    "a = ['Alice', 1, True, None, 3.9]\n",
    "print(a)"
   ]
  },
  {
   "cell_type": "code",
   "execution_count": 6,
   "metadata": {},
   "outputs": [
    {
     "name": "stdout",
     "output_type": "stream",
     "text": [
      "['Alice', 1, ['a', 'b', 'c'], 3.9]\n"
     ]
    }
   ],
   "source": [
    "a = ['Alice', 1, ['a', 'b', 'c'], 3.9]\n",
    "print(a)"
   ]
  },
  {
   "cell_type": "markdown",
   "metadata": {},
   "source": [
    "# Access individual element of a list (by index)\n",
    "\n",
    "index starts from 0, ends at len()-1 "
   ]
  },
  {
   "cell_type": "code",
   "execution_count": 44,
   "metadata": {},
   "outputs": [
    {
     "data": {
      "text/plain": [
       "'Alice'"
      ]
     },
     "execution_count": 44,
     "metadata": {},
     "output_type": "execute_result"
    }
   ],
   "source": [
    "a = ['Alice', 1, ['a', 'b', 'c'], 3.9]\n",
    "\n",
    "a[0]"
   ]
  },
  {
   "cell_type": "code",
   "execution_count": 45,
   "metadata": {},
   "outputs": [
    {
     "data": {
      "text/plain": [
       "1"
      ]
     },
     "execution_count": 45,
     "metadata": {},
     "output_type": "execute_result"
    }
   ],
   "source": [
    "a[1]"
   ]
  },
  {
   "cell_type": "code",
   "execution_count": 46,
   "metadata": {},
   "outputs": [
    {
     "data": {
      "text/plain": [
       "['a', 'b', 'c']"
      ]
     },
     "execution_count": 46,
     "metadata": {},
     "output_type": "execute_result"
    }
   ],
   "source": [
    "a[2]"
   ]
  },
  {
   "cell_type": "code",
   "execution_count": 47,
   "metadata": {},
   "outputs": [
    {
     "data": {
      "text/plain": [
       "'a'"
      ]
     },
     "execution_count": 47,
     "metadata": {},
     "output_type": "execute_result"
    }
   ],
   "source": [
    "a[2][0]"
   ]
  },
  {
   "cell_type": "code",
   "execution_count": 48,
   "metadata": {},
   "outputs": [
    {
     "data": {
      "text/plain": [
       "3.9"
      ]
     },
     "execution_count": 48,
     "metadata": {},
     "output_type": "execute_result"
    }
   ],
   "source": [
    "a[-1]"
   ]
  },
  {
   "cell_type": "code",
   "execution_count": 49,
   "metadata": {},
   "outputs": [
    {
     "data": {
      "text/plain": [
       "['a', 'b', 'c']"
      ]
     },
     "execution_count": 49,
     "metadata": {},
     "output_type": "execute_result"
    }
   ],
   "source": [
    "a[-2]"
   ]
  },
  {
   "cell_type": "markdown",
   "metadata": {},
   "source": [
    "# remove or insert an element"
   ]
  },
  {
   "cell_type": "code",
   "execution_count": 50,
   "metadata": {},
   "outputs": [
    {
     "name": "stdout",
     "output_type": "stream",
     "text": [
      "['Alice', 1, ['a', 'b', 'c'], 3.9]\n",
      "['Alice', 1, ['a', 'b', 'c']]\n"
     ]
    }
   ],
   "source": [
    "# remove an element\n",
    "a = ['Alice', 1, ['a', 'b', 'c'], 3.9]\n",
    "print(a)\n",
    "a.pop()\n",
    "print(a)"
   ]
  },
  {
   "cell_type": "code",
   "execution_count": 51,
   "metadata": {},
   "outputs": [
    {
     "name": "stdout",
     "output_type": "stream",
     "text": [
      "['Alice', 1, ['a', 'b', 'c'], 3.9]\n",
      "['Alice', 1, 3.9]\n"
     ]
    }
   ],
   "source": [
    "# remove an element\n",
    "a = ['Alice', 1, ['a', 'b', 'c'], 3.9]\n",
    "print(a)\n",
    "a.pop(2)\n",
    "print(a)"
   ]
  },
  {
   "cell_type": "code",
   "execution_count": 52,
   "metadata": {},
   "outputs": [
    {
     "name": "stdout",
     "output_type": "stream",
     "text": [
      "['Alice', 1, 'x', 3.9]\n"
     ]
    }
   ],
   "source": [
    "# change one element\n",
    "a = ['Alice', 1, ['a', 'b', 'c'], 3.9]\n",
    "a[2]='x'\n",
    "print(a)"
   ]
  },
  {
   "cell_type": "code",
   "execution_count": 53,
   "metadata": {},
   "outputs": [
    {
     "name": "stdout",
     "output_type": "stream",
     "text": [
      "['Alice', 1, ['a', 'b', 'x'], 3.9]\n"
     ]
    }
   ],
   "source": [
    "# change one element\n",
    "a = ['Alice', 1, ['a', 'b', 'c'], 3.9]\n",
    "a[2][2]='x'\n",
    "print(a)"
   ]
  },
  {
   "cell_type": "code",
   "execution_count": 54,
   "metadata": {},
   "outputs": [
    {
     "name": "stdout",
     "output_type": "stream",
     "text": [
      "['Alice', 1, ['a', 'b', 'c'], 3.9, 'new']\n"
     ]
    }
   ],
   "source": [
    "# append an element at the end of the list\n",
    "a = ['Alice', 1, ['a', 'b', 'c'], 3.9]\n",
    "a.append('new')\n",
    "print(a)"
   ]
  },
  {
   "cell_type": "code",
   "execution_count": 55,
   "metadata": {},
   "outputs": [
    {
     "name": "stdout",
     "output_type": "stream",
     "text": [
      "['Alice', 1, 'new', ['a', 'b', 'c'], 3.9]\n"
     ]
    }
   ],
   "source": [
    "# insert an element at a certain position\n",
    "a = ['Alice', 1, ['a', 'b', 'c'], 3.9]\n",
    "a.insert(2,'new')\n",
    "print(a)"
   ]
  },
  {
   "cell_type": "markdown",
   "metadata": {},
   "source": [
    "# Generate a new list which contains a slice of a list, using list[X:Y] or list[X:Y:Z]\n",
    "- X: an integer to specify start index. If not specified, X=0\n",
    "- Y: an integer such that the end index is smaller than it. If not specified, Y is the length of the list\n",
    "- Z: an integer to represent the increment of index. if not specified, Z=1\n",
    " "
   ]
  },
  {
   "cell_type": "code",
   "execution_count": 163,
   "metadata": {},
   "outputs": [
    {
     "name": "stdout",
     "output_type": "stream",
     "text": [
      "['a', 'b', 'c', 'd', 'e', 'f', 'g', 'h', 'i', 'j']\n",
      "length of the list is 10\n",
      "\n",
      "\n",
      "['a', 'b', 'c', 'd', 'e', 'f', 'g', 'h', 'i', 'j']\n",
      "['a', 'b', 'c', 'd', 'e']\n",
      "['b', 'c', 'd', 'e']\n",
      "[]\n",
      "['a', 'b', 'c', 'd', 'e', 'f', 'g', 'h', 'i']\n",
      "['a', 'b', 'c', 'd', 'e', 'f', 'g', 'h']\n",
      "['b', 'c', 'd', 'e', 'f', 'g', 'h']\n",
      "['g', 'h', 'i', 'j']\n",
      "['g', 'h', 'i']\n",
      "['c', 'e', 'g', 'i']\n"
     ]
    }
   ],
   "source": [
    "a = ['a', 'b', 'c', 'd', 'e', 'f', 'g', 'h', 'i', 'j']\n",
    "print( a )\n",
    "# length (number of element) of a\n",
    "print(f'length of the list is {len(a)}')\n",
    "\n",
    "print()\n",
    "print()\n",
    "\n",
    "# each expression inside the following print returns a list\n",
    "print( a[:] )       # same as a itself, almost never used this way\n",
    "print( a[0:5] )     # elements from index 0 to 5-1\n",
    "print( a[1:5] )     # elements from index 1 to 5-1\n",
    "print( a[5:5] )     # elements from index 5 to 5-1, which is empty\n",
    "print( a[:-1] )     # elements from beginning to the one before the last element \n",
    "print( a[:-2] )     # elements from beginning to the one before the last two elements\n",
    "print( a[1:-2] )    # elements from index 1 to the one before the last two elements\n",
    "print( a[-4:] )    # elements from index 1 to the one before the last two elements\n",
    "print( a[-4:-1] )    # elements from index 1 to the one before the last two elements\n",
    "print( a[2:10:2] )  # elements from index 1 to 10-1, but every other element\n",
    "\n"
   ]
  },
  {
   "cell_type": "markdown",
   "metadata": {},
   "source": [
    "# Same slice operations can be applied to strings. Strings can be viewed as a list of letters/characters"
   ]
  },
  {
   "cell_type": "code",
   "execution_count": 167,
   "metadata": {},
   "outputs": [
    {
     "name": "stdout",
     "output_type": "stream",
     "text": [
      "abcdefghij\n",
      "length of the list is 10\n",
      "\n",
      "\n",
      "abcdefghij\n",
      "abcde\n",
      "bcde\n",
      "\n",
      "abcdefghi\n",
      "abcdefgh\n",
      "bcdefgh\n",
      "ghij\n",
      "ghi\n",
      "cegi\n"
     ]
    }
   ],
   "source": [
    "a = 'abcdefghij'\n",
    "print( a )\n",
    "# length (number of element) of a\n",
    "print(f'length of the list is {len(a)}')\n",
    "\n",
    "print()\n",
    "print()\n",
    "\n",
    "# each expression inside the following print returns a list\n",
    "print( a[:] )       # same as a itself, almost never used this way\n",
    "print( a[0:5] )     # elements from index 0 to 5-1\n",
    "print( a[1:5] )     # elements from index 1 to 5-1\n",
    "print( a[5:5] )     # elements from index 5 to 5-1, which is empty\n",
    "print( a[:-1] )     # elements from beginning to the one before the last element \n",
    "print( a[:-2] )     # elements from beginning to the one before the last two elements\n",
    "print( a[1:-2] )    # elements from index 1 to the one before the last two elements\n",
    "print( a[-4:] )    # elements from index 1 to the one before the last two elements\n",
    "print( a[-4:-1] )    # elements from index 1 to the one before the last two elements\n",
    "print( a[2:10:2] )  # elements from index 1 to 10-1, but every other element\n",
    "\n"
   ]
  },
  {
   "cell_type": "markdown",
   "metadata": {},
   "source": [
    "# The above indexing approach cannot generate a list with arbitary subset of element. This can be achieved via list comprehension, ??? filtering ??? (which will be demonstrated in a later topic)"
   ]
  },
  {
   "cell_type": "code",
   "execution_count": 170,
   "metadata": {},
   "outputs": [
    {
     "name": "stdout",
     "output_type": "stream",
     "text": [
      "['b', 'e', 'f', 'j']\n",
      "['b', 'e', 'f', 'j']\n",
      "['b', 'e', 'f', 'j']\n",
      "['b', 'e', 'f', 'j']\n",
      "['B', 'E', 'F', 'J']\n"
     ]
    }
   ],
   "source": [
    "a = ['a', 'b', 'c', 'd', 'e', 'f', 'g', 'h', 'i', 'j']\n",
    "\n",
    "# specify indices of elements of interest\n",
    "index_of_interest = [1, 4, 5, 9]\n",
    "indicator_of_interest = [False, True, False, False, True, True, False, False, False, True]\n",
    "\n",
    "# we can use list comprehension to get the specified elements\n",
    "print( [item for item in a if a.index(item) in index_of_interest] )\n",
    "print( [item for item in a if indicator_of_interest[a.index(item)]])\n",
    "\n",
    "print( [a[i] for i in range(len(a)) if i in index_of_interest] )\n",
    "print( [a[i] for i in range(len(a)) if indicator_of_interest[i]] )\n",
    "print( [a[i].upper() for i in range(len(a)) if indicator_of_interest[i]] )\n",
    "\n"
   ]
  },
  {
   "cell_type": "code",
   "execution_count": 181,
   "metadata": {},
   "outputs": [
    {
     "name": "stdout",
     "output_type": "stream",
     "text": [
      "['A', 'b', 'C', 'D', 'e', 'f', 'G', 'H', 'I', 'j']\n",
      "['A', 'b', 'C', 'D', 'e', 'f', 'G', 'H', 'I', 'j']\n",
      "['A', 'b', 'C', 'D', 'e', 'f', 'G', 'H', 'I', 'j']\n",
      "['A', 'b', 'C', 'D', 'e', 'f', 'G', 'H', 'I', 'j']\n"
     ]
    }
   ],
   "source": [
    "a = ['a', 'b', 'c', 'd', 'e', 'f', 'g', 'h', 'i', 'j']\n",
    "\n",
    "# specify indices of elements of interest\n",
    "index_of_interest = [1, 4, 5, 9]\n",
    "indicator_of_interest = [False, True, False, False, True, True, False, False, False, True]\n",
    "\n",
    "# we can use list comprehension to update specified elements\n",
    "print( [item if a.index(item) in index_of_interest else item.upper() for item in a] )\n",
    "print( [item if indicator_of_interest[a.index(item)] else item.upper() for item in a] )\n",
    "\n",
    "print( [a[i] if i in index_of_interest else a[i].upper() for i in range(len(a)) ] )\n",
    "print( [a[i] if indicator_of_interest[i] else a[i].upper() for i in range(len(a))] )\n",
    "\n",
    "\n"
   ]
  },
  {
   "cell_type": "code",
   "execution_count": 182,
   "metadata": {},
   "outputs": [
    {
     "name": "stdout",
     "output_type": "stream",
     "text": [
      "[1, 4, 5, 9]\n",
      "[1, 4, 5, 9]\n",
      "[False, True, False, False, True, True, False, False, False, True]\n"
     ]
    }
   ],
   "source": [
    "a = ['a', 'b', 'c', 'd', 'e', 'f', 'g', 'h', 'i', 'j']\n",
    "\n",
    "# specify elements of interest\n",
    "elements_of_interest = ['b', 'e', 'f', 'j']\n",
    "\n",
    "# we can obtain the indices of thse elements of interest\n",
    "print( [i for i in range(len(a)) if a[i] in elements_of_interest] )\n",
    "print( [a.index(item) for item in elements_of_interest] )             # this does not work well if any element of interest appear in a multiple times\n",
    "print( [a[i] in elements_of_interest for i in range(len(a))] )\n",
    "\n"
   ]
  },
  {
   "cell_type": "markdown",
   "metadata": {},
   "source": [
    "# One property of list is somewhat similar to pointers in C/C++"
   ]
  },
  {
   "cell_type": "code",
   "execution_count": 8,
   "metadata": {},
   "outputs": [
    {
     "name": "stdout",
     "output_type": "stream",
     "text": [
      "['a', 'b', 'c', 'd', 'e', 'f', 'g', 'h', 'i', 'j']\n",
      "['a', 'b', 'c', 'd', 'e', 'f', 'g', 'h', 'i', 'j']\n",
      "[1, 'b', 'c', 'd', 'e', 'f', 'g', 'h', 'i', 'j']\n",
      "[1, 'b', 'c', 'd', 'e', 'f', 'g', 'h', 'i', 'j']\n"
     ]
    }
   ],
   "source": [
    "a = ['a', 'b', 'c', 'd', 'e', 'f', 'g', 'h', 'i', 'j']\n",
    "print( a ) \n",
    "\n",
    "b = a\n",
    "print(b)\n",
    "\n",
    "b[0]=1\n",
    "print(b)\n",
    "\n",
    "print(a)\n",
    "\n",
    "# NOTE:\n",
    "# a is kind of like a pointer that points to the location where the list is stored\n",
    "# b is set to be the same as a, and therefore also a pointer pointing to the same location\n",
    "# when b[0] is updated, the list changed\n",
    "# a and b still point to the same location\n",
    "# therefore, print(b) and print(a) both show the updated value\n",
    "\n"
   ]
  },
  {
   "cell_type": "code",
   "execution_count": 134,
   "metadata": {},
   "outputs": [
    {
     "name": "stdout",
     "output_type": "stream",
     "text": [
      "['a', 'b', 'c', 'd', 'e', 'f', 'g', 'h', 'i', 'j']\n",
      "['a', 'b', 'c', 'd', 'e', 'f', 'g', 'h', 'i', 'j']\n",
      "[1, 'b', 'c', 'd', 'e', 'f', 'g', 'h', 'i', 'j']\n",
      "['a', 'b', 'c', 'd', 'e', 'f', 'g', 'h', 'i', 'j']\n"
     ]
    }
   ],
   "source": [
    "a = ['a', 'b', 'c', 'd', 'e', 'f', 'g', 'h', 'i', 'j']\n",
    "print( a ) \n",
    "\n",
    "b = a.copy()\n",
    "print(b)\n",
    "\n",
    "b[0]=1\n",
    "print(b)\n",
    "\n",
    "print(a)\n",
    "\n",
    "# NOTE:\n",
    "# a.copy() creates a new list which is a copy of the list a\n",
    "# b points to the location of this newly created list, which is of course a different location\n",
    "# when b[0] is updated, this change only happens in the location where the new list is stored\n",
    "# therefore, print(a) still shows the original list\n"
   ]
  },
  {
   "cell_type": "code",
   "execution_count": 162,
   "metadata": {},
   "outputs": [
    {
     "name": "stdout",
     "output_type": "stream",
     "text": [
      "['a', 'b', 'c', 'd', 'e', 'f', 'g', 'h', 'i', 'j']\n",
      "['a', 'b', 'c', 'd', 'e', 'f', 'g', 'h', 'i', 'j']\n",
      "[1, 'b', 'c', 'd', 'e', 'f', 'g', 'h', 'i', 'j']\n",
      "['a', 'b', 'c', 'd', 'e', 'f', 'g', 'h', 'i', 'j']\n"
     ]
    }
   ],
   "source": [
    "a = ['a', 'b', 'c', 'd', 'e', 'f', 'g', 'h', 'i', 'j']\n",
    "print( a ) \n",
    "\n",
    "b = a[:]\n",
    "print(b)\n",
    "\n",
    "b[0]=1\n",
    "print(b)\n",
    "\n",
    "print(a)\n",
    "\n",
    "# NOTE:\n",
    "# a[:] has the same effect as a.copy()\n",
    "# this is because a[:] creates a new list which is a slice of the list a, and here the slide is the entirety of a\n",
    "# therefore, b points to the location of this newly created list, which is a different location\n",
    "# when b[0] is updated, this change only happens in the location where the new list is stored\n",
    "# therefore, print(a) still shows the original list\n"
   ]
  },
  {
   "cell_type": "markdown",
   "metadata": {},
   "source": [
    "# a few useful functions for lists"
   ]
  },
  {
   "cell_type": "code",
   "execution_count": 184,
   "metadata": {},
   "outputs": [
    {
     "name": "stdout",
     "output_type": "stream",
     "text": [
      "0\n",
      "2\n",
      "0\n"
     ]
    }
   ],
   "source": [
    "a = ['a', 'a', 'c', 'd', 'e', 'f', 'g', 'h', 'i', 'j']\n",
    "\n",
    "# find the index of the first appearence of an element \n",
    "print( a.index('a') )\n",
    "\n",
    "# count the number of times a particular element appearing in the list\n",
    "print( a.count('a') )\n",
    "print( a.count('b') )"
   ]
  },
  {
   "cell_type": "markdown",
   "metadata": {},
   "source": [
    "# useful reference\n",
    "https://www.w3schools.com/python/python_ref_list.asp"
   ]
  }
 ],
 "metadata": {
  "kernelspec": {
   "display_name": "IntroML",
   "language": "python",
   "name": "python3"
  },
  "language_info": {
   "codemirror_mode": {
    "name": "ipython",
    "version": 3
   },
   "file_extension": ".py",
   "mimetype": "text/x-python",
   "name": "python",
   "nbconvert_exporter": "python",
   "pygments_lexer": "ipython3",
   "version": "3.12.2"
  }
 },
 "nbformat": 4,
 "nbformat_minor": 2
}
