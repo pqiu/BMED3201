{
  "cells": [
    {
      "cell_type": "markdown",
      "metadata": {
        "id": "view-in-github",
        "colab_type": "text"
      },
      "source": [
        "<a href=\"https://colab.research.google.com/github/pqiu/BMED3201/blob/main/python_basics/topic_06_set.ipynb\" target=\"_parent\"><img src=\"https://colab.research.google.com/assets/colab-badge.svg\" alt=\"Open In Colab\"/></a>"
      ]
    },
    {
      "cell_type": "markdown",
      "metadata": {
        "id": "CxPKdy2oGw2g"
      },
      "source": [
        "# set\n",
        "\n",
        "set is a collection of keys but does not contain any values (different from dict).\n",
        "\n",
        "set only contain unique elements"
      ]
    },
    {
      "cell_type": "code",
      "execution_count": 1,
      "metadata": {
        "colab": {
          "base_uri": "https://localhost:8080/"
        },
        "id": "-D6pkRBtGw2h",
        "outputId": "974d2d55-4afa-4e32-97db-2c913ee87de9"
      },
      "outputs": [
        {
          "output_type": "stream",
          "name": "stdout",
          "text": [
            "{1, 2, 3, 5}\n",
            "<class 'set'>\n"
          ]
        }
      ],
      "source": [
        "# create a set from a list. If the list contain duplicated elements, only the unique ones are kept\n",
        "s = set([1,3,3,2,5])\n",
        "print(s)\n",
        "print(type(s))"
      ]
    },
    {
      "cell_type": "code",
      "execution_count": 2,
      "metadata": {
        "colab": {
          "base_uri": "https://localhost:8080/"
        },
        "id": "mBRVaVRnGw2i",
        "outputId": "46f1d34d-87bb-490c-b1d5-f2abf6ad0570"
      },
      "outputs": [
        {
          "output_type": "stream",
          "name": "stdout",
          "text": [
            "{1, 2, 3, 5}\n",
            "<class 'set'>\n"
          ]
        }
      ],
      "source": [
        "# use {} to create a set\n",
        "s = {1,3,3,2,5}\n",
        "print(s)\n",
        "print(type(s))"
      ]
    },
    {
      "cell_type": "code",
      "execution_count": 3,
      "metadata": {
        "colab": {
          "base_uri": "https://localhost:8080/"
        },
        "id": "R--Z8I_4Gw2j",
        "outputId": "b1736296-d6cb-4fcc-b7a8-fbbac00afe3a"
      },
      "outputs": [
        {
          "output_type": "stream",
          "name": "stdout",
          "text": [
            "{1, 2, 3, 5}\n",
            "{1, 2, 3, 5, 11}\n",
            "{1, 2, 5, 11}\n"
          ]
        }
      ],
      "source": [
        "# add or remove element to a set\n",
        "s = {1,3,3,2,5}\n",
        "print(s)\n",
        "\n",
        "s.add(11)\n",
        "print(s)\n",
        "\n",
        "s.remove(3)\n",
        "print(s)\n"
      ]
    },
    {
      "cell_type": "markdown",
      "metadata": {
        "id": "svP6PiwkGw2j"
      },
      "source": [
        "# set operations"
      ]
    },
    {
      "cell_type": "code",
      "execution_count": 4,
      "metadata": {
        "colab": {
          "base_uri": "https://localhost:8080/"
        },
        "id": "2y1CfHFUGw2j",
        "outputId": "56183e5e-1ea9-4693-93d7-166ba4707543"
      },
      "outputs": [
        {
          "output_type": "stream",
          "name": "stdout",
          "text": [
            "{1, 2, 3, 4}\n",
            "{2, 3}\n",
            "{1}\n"
          ]
        }
      ],
      "source": [
        "s1 = set([1,2,3])\n",
        "s2 = set([2,3,4])\n",
        "\n",
        "print( s1 | s2 )\n",
        "print( s1 & s2 )\n",
        "print( s1 - s2 )\n"
      ]
    }
  ],
  "metadata": {
    "kernelspec": {
      "display_name": "IntroML",
      "language": "python",
      "name": "python3"
    },
    "language_info": {
      "codemirror_mode": {
        "name": "ipython",
        "version": 3
      },
      "file_extension": ".py",
      "mimetype": "text/x-python",
      "name": "python",
      "nbconvert_exporter": "python",
      "pygments_lexer": "ipython3",
      "version": "3.12.2"
    },
    "colab": {
      "provenance": [],
      "include_colab_link": true
    }
  },
  "nbformat": 4,
  "nbformat_minor": 0
}