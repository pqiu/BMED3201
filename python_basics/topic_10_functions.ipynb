{
 "cells": [
  {
   "cell_type": "markdown",
   "metadata": {},
   "source": [
    "# function is a block of code that can be called \n",
    "\n",
    "when we write a block of code that represent a \"functional unit\" which is separate from other functionalities, and we may want to use it many times, we should consider to write this block of code as a function\n",
    "\n"
   ]
  },
  {
   "cell_type": "code",
   "execution_count": null,
   "metadata": {},
   "outputs": [
    {
     "name": "stdout",
     "output_type": "stream",
     "text": [
      "1\n",
      "<class 'int'>\n",
      "[1, 2, 3, 4, 5, 6, 7, 8]\n",
      "[8, 7, 6, 5, 4, 3, 2, 1]\n"
     ]
    }
   ],
   "source": [
    "# there are a lot of functions that python offers\n",
    "# https://docs.python.org/3/library/functions.html#abs\n",
    "\n",
    "print( abs(-1) )\n",
    "\n",
    "print( type(-1) )\n",
    "\n",
    "print( sorted([1,3,5,7,2,4,6,8]) )\n",
    "\n",
    "print( sorted([1,3,5,7,2,4,6,8])[::-1] )\n",
    "\n"
   ]
  },
  {
   "cell_type": "markdown",
   "metadata": {},
   "source": [
    "# define our own function: parameters, returned values\n"
   ]
  },
  {
   "cell_type": "code",
   "execution_count": 56,
   "metadata": {},
   "outputs": [
    {
     "name": "stdout",
     "output_type": "stream",
     "text": [
      "3\n"
     ]
    }
   ],
   "source": [
    "# define a function \n",
    "def my_sum(x,y):\n",
    "    return x+y\n",
    "# code inside the function ends here\n",
    "# return one variable\n",
    "\n",
    "s = my_sum(1,2)\n",
    "print(s)\n"
   ]
  },
  {
   "cell_type": "code",
   "execution_count": 57,
   "metadata": {},
   "outputs": [
    {
     "name": "stdout",
     "output_type": "stream",
     "text": [
      "s=10\n",
      "d=4\n"
     ]
    }
   ],
   "source": [
    "# define a function \n",
    "def my_sum_and_diff(x,y):\n",
    "    return x+y, abs(x-y)\n",
    "# code inside the function ends here\n",
    "# return multiple variables (one tuple)\n",
    "\n",
    "s, d = my_sum_and_diff(3,7)\n",
    "print(f's={s}')\n",
    "print(f'd={d}')"
   ]
  },
  {
   "cell_type": "code",
   "execution_count": 68,
   "metadata": {},
   "outputs": [
    {
     "name": "stdout",
     "output_type": "stream",
     "text": [
      "s=58\n",
      "d=40\n",
      "s=2482\n",
      "d=2320\n",
      "s=2482\n",
      "d=2320\n"
     ]
    }
   ],
   "source": [
    "# define a function \n",
    "def my_exp_sum_and_diff(x,y,p=2):\n",
    "    x2=x**p\n",
    "    y2=y**p\n",
    "    return x2+y2, abs(x2-y2)\n",
    "# code inside the function ends here\n",
    "# when the function is called: x, y have to be the first to parameters provided. p can be omitted and its default value will be used\n",
    "# if we specify the name of the parameters, the parameters can be provided in any order\n",
    "\n",
    "\n",
    "s, d = my_exp_sum_and_diff(3,7)\n",
    "print(f's={s}')\n",
    "print(f'd={d}')\n",
    "\n",
    "s, d = my_exp_sum_and_diff(3,7,4)\n",
    "print(f's={s}')\n",
    "print(f'd={d}')\n",
    "\n",
    "s, d = my_exp_sum_and_diff(p=4,x=7,y=3)\n",
    "print(f's={s}')\n",
    "print(f'd={d}')\n"
   ]
  },
  {
   "cell_type": "markdown",
   "metadata": {},
   "source": [
    "# NOTE: it is okay that a function does not have any input parameters, or does not return anything, or has neither of the two"
   ]
  },
  {
   "cell_type": "markdown",
   "metadata": {},
   "source": [
    "# local variables vs. global variables"
   ]
  },
  {
   "cell_type": "code",
   "execution_count": 30,
   "metadata": {},
   "outputs": [
    {
     "name": "stdout",
     "output_type": "stream",
     "text": [
      "1\n",
      "funciton result is 13\n",
      "funciton result is 5\n",
      "funciton result is 35\n",
      "1\n"
     ]
    }
   ],
   "source": [
    "\n",
    "# define a function\n",
    "def function_name(x, y, p=2): \n",
    "    result = x**p + y**p\n",
    "    z=300\n",
    "    return result\n",
    "\n",
    "\n",
    "\n",
    "# this is the code that is run\n",
    "z=1\n",
    "print( z )\n",
    "print( 'funciton result is ' + str(function_name(2,3)) )     # parameters with default values \n",
    "print( 'funciton result is ' + str(function_name(2,3,1)) )\n",
    "print( 'funciton result is ' + str(function_name(2,3,3)) )\n",
    "print( z )  \n",
    "# variables defined within a function is local to the function\n",
    "# the main program can have variables of the same names as variables defined within a function\n",
    "# running the function does not affect the variables in the main program\n",
    "\n"
   ]
  },
  {
   "cell_type": "code",
   "execution_count": 33,
   "metadata": {},
   "outputs": [
    {
     "name": "stdout",
     "output_type": "stream",
     "text": [
      "1\n",
      "z=1\n",
      "funciton result is 14\n",
      "z=1\n",
      "funciton result is 6\n",
      "z=1\n",
      "funciton result is 36\n",
      "1\n"
     ]
    }
   ],
   "source": [
    "\n",
    "# define a function\n",
    "def function_name(x, y, p=2): \n",
    "    result = x**p + y**p + z\n",
    "    print(f'z={z}')\n",
    "    return result\n",
    "# code inside the function ends here\n",
    "# when the function is called: x, y have to be the first to parameters provided. \n",
    "# p can be omitted and its default value will be used\n",
    "\n",
    "# this is the code that is run\n",
    "\n",
    "z=1\n",
    "print( z )\n",
    "print( 'funciton result is ' + str(function_name(2,3)) )     # parameters with default values \n",
    "print( 'funciton result is ' + str(function_name(2,3,1)) )\n",
    "print( 'funciton result is ' + str(function_name(2,3,3)) )\n",
    "print( z )  \n",
    "# variables used inside the funciton but not defined inside the function:\n",
    "# they have to be defined in the main program before the function is called \n",
    "# they are treated as global variables\n",
    "\n"
   ]
  },
  {
   "cell_type": "code",
   "execution_count": 46,
   "metadata": {},
   "outputs": [
    {
     "name": "stdout",
     "output_type": "stream",
     "text": [
      "['apple', 'banana', 'cramberry', 'dragonfruit']\n",
      "['apple', 'banana', 'cramberry', 'dragonfruit']\n",
      "['banana', 'cramberry', 'dragonfruit']\n"
     ]
    }
   ],
   "source": [
    "# be careful with lists\n",
    "def remove_first_element(L):\n",
    "    L=L[1:]\n",
    "    return L\n",
    "\n",
    "\n",
    "example_list = ['apple', 'banana', 'cramberry', 'dragonfruit']\n",
    "print(example_list)\n",
    "\n",
    "remove_first_element(example_list)\n",
    "print(example_list)\n",
    "\n",
    "example_list = remove_first_element(example_list)\n",
    "print(example_list)\n"
   ]
  },
  {
   "cell_type": "code",
   "execution_count": 51,
   "metadata": {},
   "outputs": [
    {
     "name": "stdout",
     "output_type": "stream",
     "text": [
      "['apple', 'banana', 'cramberry', 'dragonfruit']\n",
      "['apple', 1, 'cramberry', 'dragonfruit']\n",
      "\n",
      "['apple', 'banana', 'cramberry', 'dragonfruit']\n",
      "['apple', 'banana', 'cramberry', 'dragonfruit']\n",
      "['apple', 1, 'cramberry', 'dragonfruit']\n"
     ]
    }
   ],
   "source": [
    "# be careful with lists\n",
    "def change_second_element(L):\n",
    "    L[1]=1\n",
    "    return L\n",
    "\n",
    "\n",
    "example_list = ['apple', 'banana', 'cramberry', 'dragonfruit']\n",
    "print(example_list)\n",
    "change_second_element(example_list)\n",
    "print(example_list)\n",
    "# this example shows that changes made inside a funciton can affect the variable in the main program\n",
    "# this is becaue the pointer nature of the list\n",
    "\n",
    "print()\n",
    "\n",
    "example_list = ['apple', 'banana', 'cramberry', 'dragonfruit']\n",
    "print(example_list)\n",
    "change_second_element(example_list.copy())\n",
    "print(example_list)\n",
    "example_list = change_second_element(example_list.copy())\n",
    "print(example_list)"
   ]
  },
  {
   "cell_type": "code",
   "execution_count": 55,
   "metadata": {},
   "outputs": [
    {
     "name": "stdout",
     "output_type": "stream",
     "text": [
      "['apple', 'banana', 'cramberry', 'dragonfruit']\n",
      "['apple', 1, 'cramberry', 'dragonfruit']\n"
     ]
    }
   ],
   "source": [
    "# another example with lists\n",
    "\n",
    "def function_name(x, y, p=2): \n",
    "    result = x**p + y**p + z\n",
    "    example_list[1]=1\n",
    "    return result \n",
    "\n",
    "\n",
    "example_list = ['apple', 'banana', 'cramberry', 'dragonfruit']\n",
    "print(example_list)\n",
    "function_name(1,1,1)\n",
    "print(example_list)\n",
    "# insde the function, example_list is not defined, and therefore is interpreted as a global variable\n",
    "# the line \"example_list[1]=1\" does not change the variable example_list. It is still the same pointer that points to the same location. This line only changes the content at the location\n",
    "# Inside the function, try adding a new line \"example_list = [1,2,3,4]\", either before or after the line \"example_list[1]=1\", and see what would happen\n",
    "\n",
    "\n"
   ]
  }
 ],
 "metadata": {
  "kernelspec": {
   "display_name": "IntroML",
   "language": "python",
   "name": "python3"
  },
  "language_info": {
   "codemirror_mode": {
    "name": "ipython",
    "version": 3
   },
   "file_extension": ".py",
   "mimetype": "text/x-python",
   "name": "python",
   "nbconvert_exporter": "python",
   "pygments_lexer": "ipython3",
   "version": "3.12.2"
  }
 },
 "nbformat": 4,
 "nbformat_minor": 2
}
