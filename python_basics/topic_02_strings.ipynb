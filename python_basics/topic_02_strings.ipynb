{
  "cells": [
    {
      "cell_type": "markdown",
      "metadata": {
        "id": "view-in-github",
        "colab_type": "text"
      },
      "source": [
        "<a href=\"https://colab.research.google.com/github/pqiu/BMED3201/blob/main/python_basics/topic_02_strings.ipynb\" target=\"_parent\"><img src=\"https://colab.research.google.com/assets/colab-badge.svg\" alt=\"Open In Colab\"/></a>"
      ]
    },
    {
      "cell_type": "markdown",
      "metadata": {
        "id": "HbZJh5iJsE3Y"
      },
      "source": [
        "# strings"
      ]
    },
    {
      "cell_type": "code",
      "execution_count": 1,
      "metadata": {
        "id": "OWSMn0AbsE3a",
        "outputId": "17d44b0a-1f56-4d63-c81c-98db7d8a54f8",
        "colab": {
          "base_uri": "https://localhost:8080/"
        }
      },
      "outputs": [
        {
          "output_type": "stream",
          "name": "stdout",
          "text": [
            "abcdefg\n",
            "<class 'str'>\n"
          ]
        }
      ],
      "source": [
        "a = 'abcdefg'\n",
        "print(a)\n",
        "print(type(a))"
      ]
    },
    {
      "cell_type": "markdown",
      "metadata": {
        "id": "w3OOWEK7sE3b"
      },
      "source": [
        "# Conver one character into integer"
      ]
    },
    {
      "cell_type": "code",
      "execution_count": 2,
      "metadata": {
        "id": "z8V6TW6gsE3b",
        "outputId": "880b2413-5388-4cd0-be0a-66ae9aa3a080",
        "colab": {
          "base_uri": "https://localhost:8080/"
        }
      },
      "outputs": [
        {
          "output_type": "execute_result",
          "data": {
            "text/plain": [
              "66"
            ]
          },
          "metadata": {},
          "execution_count": 2
        }
      ],
      "source": [
        "ord('B')"
      ]
    },
    {
      "cell_type": "markdown",
      "metadata": {
        "id": "3JLTP_eNsE3b"
      },
      "source": [
        "# Conver one integer to character"
      ]
    },
    {
      "cell_type": "code",
      "execution_count": 3,
      "metadata": {
        "id": "EtrqZ91KsE3b",
        "outputId": "b62b6e3d-d16c-4036-a4a8-4a81631be58b",
        "colab": {
          "base_uri": "https://localhost:8080/",
          "height": 35
        }
      },
      "outputs": [
        {
          "output_type": "execute_result",
          "data": {
            "text/plain": [
              "'B'"
            ],
            "application/vnd.google.colaboratory.intrinsic+json": {
              "type": "string"
            }
          },
          "metadata": {},
          "execution_count": 3
        }
      ],
      "source": [
        "# convert on integer to character\n",
        "chr(66)"
      ]
    },
    {
      "cell_type": "markdown",
      "metadata": {
        "id": "PZ-zrejVsE3c"
      },
      "source": [
        "# Three special chr useful in tab delimit files (csv, tsv, txt, ...)"
      ]
    },
    {
      "cell_type": "code",
      "execution_count": 4,
      "metadata": {
        "id": "1ZZ8s5B2sE3c",
        "outputId": "e75b6879-4ad1-459a-fb7a-958ee3d4ffb9",
        "colab": {
          "base_uri": "https://localhost:8080/",
          "height": 35
        }
      },
      "outputs": [
        {
          "output_type": "execute_result",
          "data": {
            "text/plain": [
              "'\\t'"
            ],
            "application/vnd.google.colaboratory.intrinsic+json": {
              "type": "string"
            }
          },
          "metadata": {},
          "execution_count": 4
        }
      ],
      "source": [
        "chr(9)"
      ]
    },
    {
      "cell_type": "code",
      "execution_count": 5,
      "metadata": {
        "id": "NQr234L1sE3c",
        "outputId": "bea55540-887d-422b-ddfa-7674a248b754",
        "colab": {
          "base_uri": "https://localhost:8080/",
          "height": 35
        }
      },
      "outputs": [
        {
          "output_type": "execute_result",
          "data": {
            "text/plain": [
              "'\\n'"
            ],
            "application/vnd.google.colaboratory.intrinsic+json": {
              "type": "string"
            }
          },
          "metadata": {},
          "execution_count": 5
        }
      ],
      "source": [
        "chr(10)"
      ]
    },
    {
      "cell_type": "code",
      "execution_count": 6,
      "metadata": {
        "id": "L24zcQ_xsE3c",
        "outputId": "d9bbbdca-fab2-4da3-9e8a-08436fd5a61e",
        "colab": {
          "base_uri": "https://localhost:8080/",
          "height": 35
        }
      },
      "outputs": [
        {
          "output_type": "execute_result",
          "data": {
            "text/plain": [
              "'\\r'"
            ],
            "application/vnd.google.colaboratory.intrinsic+json": {
              "type": "string"
            }
          },
          "metadata": {},
          "execution_count": 6
        }
      ],
      "source": [
        "chr(13)"
      ]
    },
    {
      "cell_type": "markdown",
      "metadata": {
        "id": "fCd5qjJrsE3c"
      },
      "source": [
        "# compute the length of a string: len()"
      ]
    },
    {
      "cell_type": "code",
      "execution_count": 7,
      "metadata": {
        "id": "zqP7QWINsE3c",
        "outputId": "00ca6fff-1168-4308-d559-c21ca86de3cb",
        "colab": {
          "base_uri": "https://localhost:8080/"
        }
      },
      "outputs": [
        {
          "output_type": "stream",
          "name": "stdout",
          "text": [
            "String stored in variable a: abcdefg\n",
            "String stored in variable a: abcdefg\n",
            "The length of the string is: 7\n",
            "The length of the string is: 7\n"
          ]
        }
      ],
      "source": [
        "print('String stored in variable a: ', end='') #\n",
        "print(a)\n",
        "print(f'String stored in variable a: {a:s}')\n",
        "\n",
        "print('The length of the string is: ', end='') #\n",
        "print(len(a))\n",
        "print(f'The length of the string is: {len(a):d}')\n"
      ]
    },
    {
      "cell_type": "markdown",
      "metadata": {
        "id": "Rcomd1UqsE3d"
      },
      "source": [
        "# len() can be applied to list, dict, tuple"
      ]
    },
    {
      "cell_type": "code",
      "execution_count": 8,
      "metadata": {
        "id": "NS2m1oC3sE3d",
        "outputId": "5fc11316-aa4a-4ddc-eb6d-c72198c22a90",
        "colab": {
          "base_uri": "https://localhost:8080/"
        }
      },
      "outputs": [
        {
          "output_type": "stream",
          "name": "stdout",
          "text": [
            "[1, 'a', 90]\n",
            "<class 'list'>\n",
            "3\n",
            "\n",
            "{'x': 1, 'y': 'dd', 'z': 1.1}\n",
            "<class 'dict'>\n",
            "3\n",
            "\n",
            "(1, 'a', 90)\n",
            "<class 'tuple'>\n",
            "3\n",
            "\n"
          ]
        }
      ],
      "source": [
        "# len() can also compute the len of a list, dict, or tuple\n",
        "s1 = [1, 'a', 90]\n",
        "print(s1)\n",
        "print(type(s1))\n",
        "print(len(s1))\n",
        "print()\n",
        "\n",
        "s2 = {'x':1, 'y':'dd', 'z':1.1}\n",
        "print(s2)\n",
        "print(type(s2))\n",
        "print(len(s2))\n",
        "print()\n",
        "\n",
        "s3 = 1, 'a', 90\n",
        "print(s3)\n",
        "print(type(s3))\n",
        "print(len(s3))\n",
        "print()"
      ]
    },
    {
      "cell_type": "markdown",
      "metadata": {
        "id": "xmVtgcFMsE3d"
      },
      "source": [
        "# len() can be applied to numpy array"
      ]
    },
    {
      "cell_type": "code",
      "execution_count": 9,
      "metadata": {
        "id": "6E9mmgP9sE3d",
        "outputId": "85f13bc2-23f9-41a5-e48f-5eccd19bccaa",
        "colab": {
          "base_uri": "https://localhost:8080/"
        }
      },
      "outputs": [
        {
          "output_type": "stream",
          "name": "stdout",
          "text": [
            "[1 2 3 4 5]\n",
            "<class 'numpy.ndarray'>\n",
            "5\n",
            "(5,)\n",
            "\n",
            "[[ 1  2  3  4  5]\n",
            " [ 6  7  8  9 10]]\n",
            "<class 'numpy.ndarray'>\n",
            "2\n",
            "(2, 5)\n"
          ]
        }
      ],
      "source": [
        "import numpy as np\n",
        "\n",
        "X1 = np.array([1,2,3,4,5])\n",
        "print(X1)\n",
        "print(type(X1))\n",
        "print(len(X1))\n",
        "print(X1.shape)\n",
        "print()\n",
        "\n",
        "X2 = np.array([[1,2,3,4,5],[6,7,8,9,10]])\n",
        "print(X2)\n",
        "print(type(X2))\n",
        "print(len(X2))\n",
        "print(X2.shape)\n"
      ]
    },
    {
      "cell_type": "markdown",
      "metadata": {
        "id": "6PjGKYW-sE3d"
      },
      "source": [
        "# string: formatting using %\n",
        "- %d for int\n",
        "- %f for float\n",
        "- %s for str\n",
        "- %x for hex"
      ]
    },
    {
      "cell_type": "code",
      "execution_count": 10,
      "metadata": {
        "id": "24WaMBY6sE3d",
        "outputId": "f46ed599-45cf-4199-e509-4489300a4a70",
        "colab": {
          "base_uri": "https://localhost:8080/"
        }
      },
      "outputs": [
        {
          "output_type": "stream",
          "name": "stdout",
          "text": [
            "1\n",
            "  1\n",
            "001\n",
            "1.629400\n",
            "1.63\n",
            "  1.63\n",
            "001.63\n",
            "2\n",
            "1.6294\n"
          ]
        }
      ],
      "source": [
        "# formatting of float numbers\n",
        "print('%d' % 1.6294)\n",
        "print('%3d' % 1.6294)\n",
        "print('%03d' % 1.6294)\n",
        "print('%f' % 1.6294)\n",
        "print('%.2f' % 1.6294)\n",
        "print('%6.2f' % 1.6294)\n",
        "print('%06.2f' % 1.6294)\n",
        "print('%.f' % 1.6294)\n",
        "print('%s' % 1.6294)\n"
      ]
    },
    {
      "cell_type": "code",
      "execution_count": 11,
      "metadata": {
        "id": "ovfcb3IwsE3d",
        "outputId": "6dcf5c13-27d6-45fc-a30c-81eb7803fd66",
        "colab": {
          "base_uri": "https://localhost:8080/"
        }
      },
      "outputs": [
        {
          "output_type": "stream",
          "name": "stdout",
          "text": [
            "1, 1.123457, 001.10, abc, aa\n"
          ]
        }
      ],
      "source": [
        "print('%d, %f, %06.2f, %s, %x' % (1.6, 1.1234567, 1.1, 'abc', 170))"
      ]
    },
    {
      "cell_type": "markdown",
      "metadata": {
        "id": "BRL4jHUSsE3d"
      },
      "source": [
        "# string: formatting using format()\n",
        "Inside the string to be formatted, {0}, {1} ... can be used to indicate where to insert the parameters in format()"
      ]
    },
    {
      "cell_type": "code",
      "execution_count": 12,
      "metadata": {
        "id": "KRKF3yfasE3d",
        "outputId": "8b5f087c-eac5-4ca1-956e-cbb7d8fa4049",
        "colab": {
          "base_uri": "https://localhost:8080/",
          "height": 35
        }
      },
      "outputs": [
        {
          "output_type": "execute_result",
          "data": {
            "text/plain": [
              "'Hello, abc is a string whose length is 003'"
            ],
            "application/vnd.google.colaboratory.intrinsic+json": {
              "type": "string"
            }
          },
          "metadata": {},
          "execution_count": 12
        }
      ],
      "source": [
        "'Hello, {0:s} is a string whose length is {1:03d}'.format('abc', len('abc'))"
      ]
    },
    {
      "cell_type": "code",
      "execution_count": 13,
      "metadata": {
        "id": "zg4tKnoDsE3e",
        "outputId": "c53cfdcd-b74a-486b-e863-4fd0b6005690",
        "colab": {
          "base_uri": "https://localhost:8080/",
          "height": 35
        }
      },
      "outputs": [
        {
          "output_type": "execute_result",
          "data": {
            "text/plain": [
              "'The last parameter in format() is 3, and the first parameter is 1. They do not have to appear in the same order'"
            ],
            "application/vnd.google.colaboratory.intrinsic+json": {
              "type": "string"
            }
          },
          "metadata": {},
          "execution_count": 13
        }
      ],
      "source": [
        "'The last parameter in format() is {2}, and the first parameter is {0}. They do not have to appear in the same order'.format(1,2,3)"
      ]
    },
    {
      "cell_type": "code",
      "execution_count": 14,
      "metadata": {
        "id": "8WeE5c5lsE3e",
        "outputId": "7922af9a-0a65-4db8-c1c9-aacc4cb5b89d",
        "colab": {
          "base_uri": "https://localhost:8080/",
          "height": 35
        }
      },
      "outputs": [
        {
          "output_type": "execute_result",
          "data": {
            "text/plain": [
              "\"One parameter 2 can be called multiple times, such as 2. It' okay if some parameters are not called\""
            ],
            "application/vnd.google.colaboratory.intrinsic+json": {
              "type": "string"
            }
          },
          "metadata": {},
          "execution_count": 14
        }
      ],
      "source": [
        "'One parameter {1} can be called multiple times, such as {1}. It\\' okay if some parameters are not called'.format(1,2,3)"
      ]
    },
    {
      "cell_type": "markdown",
      "metadata": {
        "id": "dCl-Dk85sE3e"
      },
      "source": [
        "# string: formatting using f-string\n",
        "Anything inside {} is interpreted, and replaced by the interpreted value"
      ]
    },
    {
      "cell_type": "code",
      "execution_count": 15,
      "metadata": {
        "id": "TbAlmM-wsE3e",
        "outputId": "b6f03184-4924-4d14-ae54-db23e23d6a49",
        "colab": {
          "base_uri": "https://localhost:8080/"
        }
      },
      "outputs": [
        {
          "output_type": "stream",
          "name": "stdout",
          "text": [
            "The area of a circle with \n",
            "radius 2.5 is 19.62\n"
          ]
        }
      ],
      "source": [
        "r = 2.5\n",
        "s = 3.14 * r ** 2\n",
        "print(f'The area of a circle with \\nradius {r} is {s:.2f}')"
      ]
    },
    {
      "cell_type": "markdown",
      "metadata": {
        "id": "-0-up8wKsE3e"
      },
      "source": [
        "# string: formatting using r-string\n",
        "Nothing is interpreted"
      ]
    },
    {
      "cell_type": "code",
      "execution_count": 16,
      "metadata": {
        "id": "q-61-AXIsE3e",
        "outputId": "0486da6f-b9e9-4275-809b-c2e1c966f249",
        "colab": {
          "base_uri": "https://localhost:8080/"
        }
      },
      "outputs": [
        {
          "output_type": "stream",
          "name": "stdout",
          "text": [
            "The area of a circle with \\nradius {r} is {s:.2f}\n"
          ]
        }
      ],
      "source": [
        "r = 2.5\n",
        "s = 3.14 * r ** 2\n",
        "print(r'The area of a circle with \\nradius {r} is {s:.2f}')"
      ]
    },
    {
      "cell_type": "markdown",
      "metadata": {
        "id": "qAWy2GdTsE3e"
      },
      "source": [
        "# Methods of string operations\n"
      ]
    },
    {
      "cell_type": "code",
      "execution_count": 17,
      "metadata": {
        "id": "V3EBAXRMsE3e",
        "outputId": "fccb6d96-a479-42e9-de15-eb3bbfbfe384",
        "colab": {
          "base_uri": "https://localhost:8080/"
        }
      },
      "outputs": [
        {
          "output_type": "stream",
          "name": "stdout",
          "text": [
            "abcDEFabc\n",
            "ABCDEFABC\n",
            "abcdefabc\n",
            "Abcdefabc\n"
          ]
        }
      ],
      "source": [
        "# concatenation of two strings\n",
        "s = 'abc' + 'DEF' + 'abc'\n",
        "print(s)\n",
        "\n",
        "# turn string into upper case, lower case, or first letter upper case\n",
        "print( s.upper() )\n",
        "print( s.lower() )\n",
        "print( s.capitalize() )"
      ]
    },
    {
      "cell_type": "code",
      "execution_count": 18,
      "metadata": {
        "id": "vG9twFvdsE3e",
        "outputId": "41a48b39-9a54-4e3a-e193-412081ac4aa5",
        "colab": {
          "base_uri": "https://localhost:8080/"
        }
      },
      "outputs": [
        {
          "output_type": "stream",
          "name": "stdout",
          "text": [
            "2\n",
            "True\n",
            "True\n",
            "0\n",
            "6\n",
            "6\n",
            "-DEF-\n",
            "['a', 'DEFa', '']\n",
            "abcDEFa\n"
          ]
        }
      ],
      "source": [
        "s = 'abc' + 'DEF' + 'abc'\n",
        "print( s.count('ab') )\n",
        "print( s.startswith('ab') )\n",
        "print( s.endswith('abc') )\n",
        "print( s.find('abc') )\n",
        "print( s.find('abc', s.find('abc')+1) )\n",
        "print( s.rfind('abc') )\n",
        "print( s.replace('abc','-') )\n",
        "print( s.split('bc') )\n",
        "print( s.strip('bc') )\n",
        "\n"
      ]
    },
    {
      "cell_type": "markdown",
      "metadata": {
        "id": "t3xX8GzCsE3e"
      },
      "source": [
        "# convert between string and list"
      ]
    },
    {
      "cell_type": "code",
      "execution_count": 19,
      "metadata": {
        "id": "g3GO78SGsE3e",
        "outputId": "ff28d24a-b755-4af8-b3ef-82f44121a42b",
        "colab": {
          "base_uri": "https://localhost:8080/"
        }
      },
      "outputs": [
        {
          "output_type": "stream",
          "name": "stdout",
          "text": [
            "xyz opq rst\n"
          ]
        }
      ],
      "source": [
        "s=' '\n",
        "print(s.join(['xyz','opq','rst']))"
      ]
    },
    {
      "cell_type": "code",
      "execution_count": 20,
      "metadata": {
        "id": "cJjQiNN8sE3e",
        "outputId": "6a2d1048-8f55-4be2-b467-f0f56aca8790",
        "colab": {
          "base_uri": "https://localhost:8080/"
        }
      },
      "outputs": [
        {
          "output_type": "stream",
          "name": "stdout",
          "text": [
            "hello\n",
            "h e l l o\n",
            "h-e-l-l-o\n",
            "['h', 'e', 'l', 'l', 'o']\n",
            "['h', 'e', 'l', 'l', 'o']\n",
            "['h', 'e', 'l', 'l', 'o']\n",
            "['he', 'll', 'oo', '']\n",
            "['he', '', 'll', '', 'oo', '', '']\n",
            "['he--ll--oo--']\n"
          ]
        }
      ],
      "source": [
        "# convert list into string\n",
        "l = ['h','e','l','l','o']\n",
        "print(''.join(l))\n",
        "print(' '.join(l))\n",
        "print('-'.join(l))\n",
        "\n",
        "\n",
        "# conver string to list, where each letter in string is an element of the list\n",
        "s = \"hello\"\n",
        "print( list(s) )\n",
        "print( [i for i in s] )\n",
        "print( [s[i] for i in range(len(s))] )\n",
        "\n",
        "\n",
        "# convert string to list with a defined separator\n",
        "s = \"he--ll--oo--\"\n",
        "print(s.split('--'))\n",
        "print(s.split('-'))\n",
        "print(s.split('---'))\n"
      ]
    },
    {
      "cell_type": "markdown",
      "metadata": {
        "id": "I5HdAsX6sE3e"
      },
      "source": [
        "# A good reference website\n",
        "https://www.w3schools.com/python/python_ref_string.asp"
      ]
    }
  ],
  "metadata": {
    "kernelspec": {
      "display_name": "IntroML",
      "language": "python",
      "name": "python3"
    },
    "language_info": {
      "codemirror_mode": {
        "name": "ipython",
        "version": 3
      },
      "file_extension": ".py",
      "mimetype": "text/x-python",
      "name": "python",
      "nbconvert_exporter": "python",
      "pygments_lexer": "ipython3",
      "version": "3.12.2"
    },
    "colab": {
      "provenance": [],
      "include_colab_link": true
    }
  },
  "nbformat": 4,
  "nbformat_minor": 0
}