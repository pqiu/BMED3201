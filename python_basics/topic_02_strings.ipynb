{
 "cells": [
  {
   "cell_type": "markdown",
   "metadata": {},
   "source": [
    "# strings"
   ]
  },
  {
   "cell_type": "code",
   "execution_count": 1,
   "metadata": {},
   "outputs": [
    {
     "name": "stdout",
     "output_type": "stream",
     "text": [
      "abcdefg\n",
      "<class 'str'>\n"
     ]
    }
   ],
   "source": [
    "a = 'abcdefg'\n",
    "print(a)\n",
    "print(type(a))"
   ]
  },
  {
   "cell_type": "markdown",
   "metadata": {},
   "source": [
    "# Conver one character into integer"
   ]
  },
  {
   "cell_type": "code",
   "execution_count": 2,
   "metadata": {},
   "outputs": [
    {
     "data": {
      "text/plain": [
       "66"
      ]
     },
     "execution_count": 2,
     "metadata": {},
     "output_type": "execute_result"
    }
   ],
   "source": [
    "ord('B')"
   ]
  },
  {
   "cell_type": "markdown",
   "metadata": {},
   "source": [
    "# Conver one integer to character"
   ]
  },
  {
   "cell_type": "code",
   "execution_count": 3,
   "metadata": {},
   "outputs": [
    {
     "data": {
      "text/plain": [
       "'B'"
      ]
     },
     "execution_count": 3,
     "metadata": {},
     "output_type": "execute_result"
    }
   ],
   "source": [
    "# convert on integer to character\n",
    "chr(66)"
   ]
  },
  {
   "cell_type": "markdown",
   "metadata": {},
   "source": [
    "# Three special chr useful in tab delimit files (csv, tsv, txt, ...)"
   ]
  },
  {
   "cell_type": "code",
   "execution_count": 4,
   "metadata": {},
   "outputs": [
    {
     "data": {
      "text/plain": [
       "'\\t'"
      ]
     },
     "execution_count": 4,
     "metadata": {},
     "output_type": "execute_result"
    }
   ],
   "source": [
    "chr(9)"
   ]
  },
  {
   "cell_type": "code",
   "execution_count": 5,
   "metadata": {},
   "outputs": [
    {
     "data": {
      "text/plain": [
       "'\\n'"
      ]
     },
     "execution_count": 5,
     "metadata": {},
     "output_type": "execute_result"
    }
   ],
   "source": [
    "chr(10)"
   ]
  },
  {
   "cell_type": "code",
   "execution_count": 6,
   "metadata": {},
   "outputs": [
    {
     "data": {
      "text/plain": [
       "'\\r'"
      ]
     },
     "execution_count": 6,
     "metadata": {},
     "output_type": "execute_result"
    }
   ],
   "source": [
    "chr(13)"
   ]
  },
  {
   "cell_type": "markdown",
   "metadata": {},
   "source": [
    "# compute the length of a string: len()"
   ]
  },
  {
   "cell_type": "code",
   "execution_count": 7,
   "metadata": {},
   "outputs": [
    {
     "name": "stdout",
     "output_type": "stream",
     "text": [
      "String stored in variable a: abcdefg\n",
      "String stored in variable a: abcdefg\n",
      "The length of the string is: 7\n",
      "The length of the string is: 7\n"
     ]
    }
   ],
   "source": [
    "print('String stored in variable a: ', end='') # \n",
    "print(a)\n",
    "print(f'String stored in variable a: {a:s}')\n",
    "\n",
    "print('The length of the string is: ', end='') # \n",
    "print(len(a))\n",
    "print(f'The length of the string is: {len(a):d}')\n"
   ]
  },
  {
   "cell_type": "markdown",
   "metadata": {},
   "source": [
    "# len() can be applied to list, dict, tuple"
   ]
  },
  {
   "cell_type": "code",
   "execution_count": 8,
   "metadata": {},
   "outputs": [
    {
     "name": "stdout",
     "output_type": "stream",
     "text": [
      "[1, 'a', 90]\n",
      "<class 'list'>\n",
      "3\n",
      "\n",
      "{'x': 1, 'y': 'dd', 'z': 1.1}\n",
      "<class 'dict'>\n",
      "3\n",
      "\n",
      "(1, 'a', 90)\n",
      "<class 'tuple'>\n",
      "3\n",
      "\n"
     ]
    }
   ],
   "source": [
    "# len() can also compute the len of a list, dict, or tuple \n",
    "s1 = [1, 'a', 90]\n",
    "print(s1)\n",
    "print(type(s1))\n",
    "print(len(s1))\n",
    "print()\n",
    "\n",
    "s2 = {'x':1, 'y':'dd', 'z':1.1}\n",
    "print(s2)\n",
    "print(type(s2))\n",
    "print(len(s2))\n",
    "print()\n",
    "\n",
    "s3 = 1, 'a', 90\n",
    "print(s3)\n",
    "print(type(s3))\n",
    "print(len(s3))\n",
    "print()"
   ]
  },
  {
   "cell_type": "markdown",
   "metadata": {},
   "source": [
    "# len() can be applied to numpy array"
   ]
  },
  {
   "cell_type": "code",
   "execution_count": 9,
   "metadata": {},
   "outputs": [
    {
     "name": "stdout",
     "output_type": "stream",
     "text": [
      "[1 2 3 4 5]\n",
      "<class 'numpy.ndarray'>\n",
      "5\n",
      "(5,)\n",
      "\n",
      "[[ 1  2  3  4  5]\n",
      " [ 6  7  8  9 10]]\n",
      "<class 'numpy.ndarray'>\n",
      "2\n",
      "(2, 5)\n"
     ]
    }
   ],
   "source": [
    "import numpy as np\n",
    "\n",
    "X1 = np.array([1,2,3,4,5])\n",
    "print(X1)\n",
    "print(type(X1))\n",
    "print(len(X1))\n",
    "print(X1.shape)\n",
    "print() \n",
    "\n",
    "X2 = np.array([[1,2,3,4,5],[6,7,8,9,10]])\n",
    "print(X2)\n",
    "print(type(X2))\n",
    "print(len(X2))\n",
    "print(X2.shape)\n"
   ]
  },
  {
   "cell_type": "markdown",
   "metadata": {},
   "source": [
    "# string: formatting using % \n",
    "- %d for int\n",
    "- %f for float\n",
    "- %s for str\n",
    "- %x for hex"
   ]
  },
  {
   "cell_type": "code",
   "execution_count": 9,
   "metadata": {},
   "outputs": [
    {
     "name": "stdout",
     "output_type": "stream",
     "text": [
      "1\n",
      "  1\n",
      "001\n",
      "1.629400\n",
      "1.63\n",
      "  1.63\n",
      "001.63\n",
      "2\n",
      "1.6294\n"
     ]
    }
   ],
   "source": [
    "# formatting of float numbers\n",
    "print('%d' % 1.6294)\n",
    "print('%3d' % 1.6294)\n",
    "print('%03d' % 1.6294)\n",
    "print('%f' % 1.6294)\n",
    "print('%.2f' % 1.6294)\n",
    "print('%6.2f' % 1.6294)\n",
    "print('%06.2f' % 1.6294)\n",
    "print('%.f' % 1.6294)\n",
    "print('%s' % 1.6294)\n"
   ]
  },
  {
   "cell_type": "code",
   "execution_count": 11,
   "metadata": {},
   "outputs": [
    {
     "name": "stdout",
     "output_type": "stream",
     "text": [
      "1, 1.123457, 001.10, abc, aa\n"
     ]
    }
   ],
   "source": [
    "print('%d, %f, %06.2f, %s, %x' % (1.6, 1.1234567, 1.1, 'abc', 170))"
   ]
  },
  {
   "cell_type": "markdown",
   "metadata": {},
   "source": [
    "# string: formatting using format()\n",
    "Inside the string to be formatted, {0}, {1} ... can be used to indicate where to insert the parameters in format() "
   ]
  },
  {
   "cell_type": "code",
   "execution_count": 12,
   "metadata": {},
   "outputs": [
    {
     "data": {
      "text/plain": [
       "'Hello, abc is a string whose length is 003'"
      ]
     },
     "execution_count": 12,
     "metadata": {},
     "output_type": "execute_result"
    }
   ],
   "source": [
    "'Hello, {0:s} is a string whose length is {1:03d}'.format('abc', len('abc'))"
   ]
  },
  {
   "cell_type": "code",
   "execution_count": 13,
   "metadata": {},
   "outputs": [
    {
     "data": {
      "text/plain": [
       "'The last parameter in format() is 3, and the first parameter is 1. They do not have to appear in the same order'"
      ]
     },
     "execution_count": 13,
     "metadata": {},
     "output_type": "execute_result"
    }
   ],
   "source": [
    "'The last parameter in format() is {2}, and the first parameter is {0}. They do not have to appear in the same order'.format(1,2,3)"
   ]
  },
  {
   "cell_type": "code",
   "execution_count": 14,
   "metadata": {},
   "outputs": [
    {
     "data": {
      "text/plain": [
       "\"One parameter 2 can be called multiple times, such as 2. It' okay if some parameters are not called\""
      ]
     },
     "execution_count": 14,
     "metadata": {},
     "output_type": "execute_result"
    }
   ],
   "source": [
    "'One parameter {1} can be called multiple times, such as {1}. It\\' okay if some parameters are not called'.format(1,2,3)"
   ]
  },
  {
   "cell_type": "markdown",
   "metadata": {},
   "source": [
    "# string: formatting using f-string\n",
    "Anything inside {} is interpreted, and replaced by the interpreted value"
   ]
  },
  {
   "cell_type": "code",
   "execution_count": 15,
   "metadata": {},
   "outputs": [
    {
     "name": "stdout",
     "output_type": "stream",
     "text": [
      "The area of a circle with \n",
      "radius 2.5 is 19.62\n"
     ]
    }
   ],
   "source": [
    "r = 2.5\n",
    "s = 3.14 * r ** 2\n",
    "print(f'The area of a circle with \\nradius {r} is {s:.2f}')"
   ]
  },
  {
   "cell_type": "markdown",
   "metadata": {},
   "source": [
    "# string: formatting using r-string\n",
    "Nothing is interpreted"
   ]
  },
  {
   "cell_type": "code",
   "execution_count": 16,
   "metadata": {},
   "outputs": [
    {
     "name": "stdout",
     "output_type": "stream",
     "text": [
      "The area of a circle with \\nradius {r} is {s:.2f}\n"
     ]
    }
   ],
   "source": [
    "r = 2.5\n",
    "s = 3.14 * r ** 2\n",
    "print(r'The area of a circle with \\nradius {r} is {s:.2f}')"
   ]
  },
  {
   "cell_type": "markdown",
   "metadata": {},
   "source": [
    "# Methods of string operations\n"
   ]
  },
  {
   "cell_type": "code",
   "execution_count": 17,
   "metadata": {},
   "outputs": [
    {
     "name": "stdout",
     "output_type": "stream",
     "text": [
      "abcDEFabc\n",
      "ABCDEFABC\n",
      "abcdefabc\n",
      "Abcdefabc\n"
     ]
    }
   ],
   "source": [
    "# concatenation of two strings\n",
    "s = 'abc' + 'DEF' + 'abc' \n",
    "print(s)\n",
    "\n",
    "# turn string into upper case, lower case, or first letter upper case\n",
    "print( s.upper() )\n",
    "print( s.lower() )\n",
    "print( s.capitalize() )"
   ]
  },
  {
   "cell_type": "code",
   "execution_count": 12,
   "metadata": {},
   "outputs": [
    {
     "name": "stdout",
     "output_type": "stream",
     "text": [
      "2\n",
      "True\n",
      "True\n",
      "0\n",
      "6\n",
      "6\n",
      "-DEF-\n",
      "['a', 'DEFa', '']\n",
      "abcDEFa\n"
     ]
    }
   ],
   "source": [
    "s = 'abc' + 'DEF' + 'abc' \n",
    "print( s.count('ab') )\n",
    "print( s.startswith('ab') )\n",
    "print( s.endswith('abc') )\n",
    "print( s.find('abc') )\n",
    "print( s.find('abc', s.find('abc')+1) )\n",
    "print( s.rfind('abc') )\n",
    "print( s.replace('abc','-') )\n",
    "print( s.split('bc') )\n",
    "print( s.strip('bc') )\n",
    "\n"
   ]
  },
  {
   "cell_type": "markdown",
   "metadata": {},
   "source": [
    "# convert between string and list"
   ]
  },
  {
   "cell_type": "code",
   "execution_count": 19,
   "metadata": {},
   "outputs": [
    {
     "name": "stdout",
     "output_type": "stream",
     "text": [
      "xyz opq rst\n"
     ]
    }
   ],
   "source": [
    "s=' '\n",
    "print(s.join(['xyz','opq','rst']))"
   ]
  },
  {
   "cell_type": "code",
   "execution_count": 20,
   "metadata": {},
   "outputs": [
    {
     "name": "stdout",
     "output_type": "stream",
     "text": [
      "hello\n",
      "h e l l o\n",
      "h-e-l-l-o\n",
      "['h', 'e', 'l', 'l', 'o']\n",
      "['h', 'e', 'l', 'l', 'o']\n",
      "['h', 'e', 'l', 'l', 'o']\n",
      "['he', 'll', 'oo', '']\n",
      "['he', '', 'll', '', 'oo', '', '']\n",
      "['he--ll--oo--']\n"
     ]
    }
   ],
   "source": [
    "# convert list into string\n",
    "l = ['h','e','l','l','o']\n",
    "print(''.join(l))\n",
    "print(' '.join(l))\n",
    "print('-'.join(l))\n",
    "\n",
    "\n",
    "# conver string to list, where each letter in string is an element of the list\n",
    "s = \"hello\"\n",
    "print( list(s) )\n",
    "print( [i for i in s] )\n",
    "print( [s[i] for i in range(len(s))] )\n",
    "\n",
    "\n",
    "# convert string to list with a defined separator\n",
    "s = \"he--ll--oo--\"\n",
    "print(s.split('--'))\n",
    "print(s.split('-'))\n",
    "print(s.split('---'))\n"
   ]
  },
  {
   "cell_type": "markdown",
   "metadata": {},
   "source": [
    "# A good reference website\n",
    "https://www.w3schools.com/python/python_ref_string.asp"
   ]
  }
 ],
 "metadata": {
  "kernelspec": {
   "display_name": "IntroML",
   "language": "python",
   "name": "python3"
  },
  "language_info": {
   "codemirror_mode": {
    "name": "ipython",
    "version": 3
   },
   "file_extension": ".py",
   "mimetype": "text/x-python",
   "name": "python",
   "nbconvert_exporter": "python",
   "pygments_lexer": "ipython3",
   "version": "3.12.2"
  }
 },
 "nbformat": 4,
 "nbformat_minor": 2
}
