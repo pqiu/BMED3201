{
  "cells": [
    {
      "cell_type": "markdown",
      "metadata": {
        "id": "view-in-github",
        "colab_type": "text"
      },
      "source": [
        "<a href=\"https://colab.research.google.com/github/pqiu/BMED3201/blob/main/python_basics/topic_07_if_else.ipynb\" target=\"_parent\"><img src=\"https://colab.research.google.com/assets/colab-badge.svg\" alt=\"Open In Colab\"/></a>"
      ]
    },
    {
      "cell_type": "markdown",
      "metadata": {
        "id": "c_2hho3bJ6L_"
      },
      "source": [
        "# if, elif, else"
      ]
    },
    {
      "cell_type": "code",
      "execution_count": 1,
      "metadata": {
        "colab": {
          "base_uri": "https://localhost:8080/"
        },
        "id": "pcBMip_xJ6MA",
        "outputId": "1f0511e8-1b80-46d4-b425-c8676e32996f"
      },
      "outputs": [
        {
          "output_type": "stream",
          "name": "stdout",
          "text": [
            "your age is 10\n",
            "teenager\n"
          ]
        }
      ],
      "source": [
        "\n",
        "age = 10\n",
        "if age >= 18:\n",
        "    print('your age is', age)\n",
        "    print('adult')\n",
        "elif age >= 6:\n",
        "    print('your age is', age)\n",
        "    print('teenager')\n",
        "else:\n",
        "    print('your age is', age)\n",
        "    print('kid')\n",
        "\n"
      ]
    },
    {
      "cell_type": "markdown",
      "metadata": {
        "id": "OdRshqpcJ6MB"
      },
      "source": [
        "# input"
      ]
    },
    {
      "cell_type": "code",
      "execution_count": 2,
      "metadata": {
        "colab": {
          "base_uri": "https://localhost:8080/",
          "height": 228
        },
        "id": "TbR-YGh_J6MB",
        "outputId": "394a9ca8-506d-4eb0-bd81-c7743d1535f0"
      },
      "outputs": [
        {
          "name": "stdout",
          "output_type": "stream",
          "text": [
            "Please input your age24\n"
          ]
        },
        {
          "output_type": "error",
          "ename": "TypeError",
          "evalue": "'>=' not supported between instances of 'str' and 'int'",
          "traceback": [
            "\u001b[0;31m---------------------------------------------------------------------------\u001b[0m",
            "\u001b[0;31mTypeError\u001b[0m                                 Traceback (most recent call last)",
            "\u001b[0;32m<ipython-input-2-892ed38d149f>\u001b[0m in \u001b[0;36m<cell line: 0>\u001b[0;34m()\u001b[0m\n\u001b[1;32m      4\u001b[0m \u001b[0mage\u001b[0m \u001b[0;34m=\u001b[0m \u001b[0minput\u001b[0m\u001b[0;34m(\u001b[0m\u001b[0;34m'Please input your age'\u001b[0m\u001b[0;34m)\u001b[0m\u001b[0;34m\u001b[0m\u001b[0;34m\u001b[0m\u001b[0m\n\u001b[1;32m      5\u001b[0m \u001b[0;34m\u001b[0m\u001b[0m\n\u001b[0;32m----> 6\u001b[0;31m \u001b[0;32mif\u001b[0m \u001b[0mage\u001b[0m \u001b[0;34m>=\u001b[0m \u001b[0;36m18\u001b[0m\u001b[0;34m:\u001b[0m\u001b[0;34m\u001b[0m\u001b[0;34m\u001b[0m\u001b[0m\n\u001b[0m\u001b[1;32m      7\u001b[0m     \u001b[0mprint\u001b[0m\u001b[0;34m(\u001b[0m\u001b[0;34m'your age is'\u001b[0m\u001b[0;34m,\u001b[0m \u001b[0mage\u001b[0m\u001b[0;34m)\u001b[0m\u001b[0;34m\u001b[0m\u001b[0;34m\u001b[0m\u001b[0m\n\u001b[1;32m      8\u001b[0m     \u001b[0mprint\u001b[0m\u001b[0;34m(\u001b[0m\u001b[0;34m'adult'\u001b[0m\u001b[0;34m)\u001b[0m\u001b[0;34m\u001b[0m\u001b[0;34m\u001b[0m\u001b[0m\n",
            "\u001b[0;31mTypeError\u001b[0m: '>=' not supported between instances of 'str' and 'int'"
          ]
        }
      ],
      "source": [
        "# use input() to obain user input of age\n",
        "# this code does not run why?\n",
        "\n",
        "age = input('Please input your age')\n",
        "\n",
        "if age >= 18:\n",
        "    print('your age is', age)\n",
        "    print('adult')\n",
        "elif age >= 6:\n",
        "    print('your age is', age)\n",
        "    print('teenager')\n",
        "else:\n",
        "    print('your age is', age)\n",
        "    print('kid')\n"
      ]
    },
    {
      "cell_type": "code",
      "execution_count": 3,
      "metadata": {
        "colab": {
          "base_uri": "https://localhost:8080/"
        },
        "id": "SbLqUi_uJ6MC",
        "outputId": "4f448593-e593-48bc-cc08-ece4fc3f5ed5"
      },
      "outputs": [
        {
          "output_type": "stream",
          "name": "stdout",
          "text": [
            "Please input your age24\n",
            "variable \"age\" has value 24 and is of type <class 'str'>\n",
            "variable \"age\" has value 24.0 and is of type <class 'float'>\n",
            "your age is 24.0\n",
            "adult\n"
          ]
        }
      ],
      "source": [
        "# input() returns a str, regardless of whether user input can be interpreted as a valid number\n",
        "# adding a line to convert the data type of \"age\" into float, so that it can be compared with other numbers in if statement\n",
        "# this code works now if the user input is a valid number, but still show error if the input is not a number\n",
        "\n",
        "age = input('Please input your age')\n",
        "print(f'variable \"age\" has value {age} and is of type {type(age)}')\n",
        "age = float(age)\n",
        "print(f'variable \"age\" has value {age} and is of type {type(age)}')\n",
        "\n",
        "if age >= 18:\n",
        "    print('your age is', age)\n",
        "    print('adult')\n",
        "elif age >= 6:\n",
        "    print('your age is', age)\n",
        "    print('teenager')\n",
        "else:\n",
        "    print('your age is', age)\n",
        "    print('kid')\n",
        "\n",
        ""
      ]
    },
    {
      "cell_type": "markdown",
      "metadata": {
        "id": "f9KJshmHJ6MC"
      },
      "source": [
        "# try, except"
      ]
    },
    {
      "cell_type": "code",
      "execution_count": 4,
      "metadata": {
        "colab": {
          "base_uri": "https://localhost:8080/"
        },
        "id": "8DRsvrCZJ6MC",
        "outputId": "019da2cf-32b1-4e73-fe74-58735cf04b55"
      },
      "outputs": [
        {
          "output_type": "stream",
          "name": "stdout",
          "text": [
            "Please input your age: 24\n",
            "variable \"age\" has value 24 and is of type <class 'str'>\n",
            "variable \"age\" has value 24.0 and is of type <class 'float'>\n",
            "your age is 24.0\n",
            "adult\n"
          ]
        }
      ],
      "source": [
        "# input() returns a str, regardless of whether user input can be interpreted as a valid number\n",
        "# adding a line to convert the data type of \"age\" into float, so that it can be compared with other numbers in if statement\n",
        "# this code works now if the user input is a valid number, but still show error if the input is not a number\n",
        "\n",
        "age = input('Please input your age: ')\n",
        "print(f'variable \"age\" has value {age} and is of type {type(age)}')\n",
        "try:\n",
        "    age = float(age)\n",
        "except:  # when code under try runs into error, the code under except runs (this can be extended to match error codes)\n",
        "    print('Cannot convert input into float')\n",
        "\n",
        "if type(age)==float:\n",
        "    print(f'variable \"age\" has value {age} and is of type {type(age)}')\n",
        "    if age >= 18:\n",
        "        print('your age is', age)\n",
        "        print('adult')\n",
        "    elif age >= 6:\n",
        "        print('your age is', age)\n",
        "        print('teenager')\n",
        "    else:\n",
        "        print('your age is', age)\n",
        "        print('kid')\n",
        "else:\n",
        "    print('cannot compare input with numerical values to decide among adult/teenager/kid')\n",
        ""
      ]
    }
  ],
  "metadata": {
    "kernelspec": {
      "display_name": "IntroML",
      "language": "python",
      "name": "python3"
    },
    "language_info": {
      "codemirror_mode": {
        "name": "ipython",
        "version": 3
      },
      "file_extension": ".py",
      "mimetype": "text/x-python",
      "name": "python",
      "nbconvert_exporter": "python",
      "pygments_lexer": "ipython3",
      "version": "3.12.2"
    },
    "colab": {
      "provenance": [],
      "include_colab_link": true
    }
  },
  "nbformat": 4,
  "nbformat_minor": 0
}