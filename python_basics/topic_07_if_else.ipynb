{
 "cells": [
  {
   "cell_type": "markdown",
   "metadata": {},
   "source": [
    "# if, elif, else"
   ]
  },
  {
   "cell_type": "code",
   "execution_count": 36,
   "metadata": {},
   "outputs": [
    {
     "name": "stdout",
     "output_type": "stream",
     "text": [
      "your age is 10\n",
      "teenager\n"
     ]
    }
   ],
   "source": [
    "\n",
    "age = 10\n",
    "if age >= 18:\n",
    "    print('your age is', age)\n",
    "    print('adult')\n",
    "elif age >= 6:\n",
    "    print('your age is', age)\n",
    "    print('teenager')\n",
    "else:\n",
    "    print('your age is', age)\n",
    "    print('kid')\n",
    "    \n"
   ]
  },
  {
   "cell_type": "markdown",
   "metadata": {},
   "source": [
    "# input"
   ]
  },
  {
   "cell_type": "code",
   "execution_count": 38,
   "metadata": {},
   "outputs": [
    {
     "ename": "TypeError",
     "evalue": "'>=' not supported between instances of 'str' and 'int'",
     "output_type": "error",
     "traceback": [
      "\u001b[1;31m---------------------------------------------------------------------------\u001b[0m",
      "\u001b[1;31mTypeError\u001b[0m                                 Traceback (most recent call last)",
      "Cell \u001b[1;32mIn[38], line 6\u001b[0m\n\u001b[0;32m      1\u001b[0m \u001b[38;5;66;03m# use input() to obain user input of age\u001b[39;00m\n\u001b[0;32m      2\u001b[0m \u001b[38;5;66;03m# this code does not run why?\u001b[39;00m\n\u001b[0;32m      4\u001b[0m age \u001b[38;5;241m=\u001b[39m \u001b[38;5;28minput\u001b[39m(\u001b[38;5;124m'\u001b[39m\u001b[38;5;124mPlease input your age\u001b[39m\u001b[38;5;124m'\u001b[39m)\n\u001b[1;32m----> 6\u001b[0m \u001b[38;5;28;01mif\u001b[39;00m age \u001b[38;5;241m>\u001b[39m\u001b[38;5;241m=\u001b[39m \u001b[38;5;241m18\u001b[39m:\n\u001b[0;32m      7\u001b[0m     \u001b[38;5;28mprint\u001b[39m(\u001b[38;5;124m'\u001b[39m\u001b[38;5;124myour age is\u001b[39m\u001b[38;5;124m'\u001b[39m, age)\n\u001b[0;32m      8\u001b[0m     \u001b[38;5;28mprint\u001b[39m(\u001b[38;5;124m'\u001b[39m\u001b[38;5;124madult\u001b[39m\u001b[38;5;124m'\u001b[39m)\n",
      "\u001b[1;31mTypeError\u001b[0m: '>=' not supported between instances of 'str' and 'int'"
     ]
    }
   ],
   "source": [
    "# use input() to obain user input of age\n",
    "# this code does not run why?\n",
    "\n",
    "age = input('Please input your age')\n",
    "\n",
    "if age >= 18:\n",
    "    print('your age is', age)\n",
    "    print('adult')\n",
    "elif age >= 6:\n",
    "    print('your age is', age)\n",
    "    print('teenager')\n",
    "else:\n",
    "    print('your age is', age)\n",
    "    print('kid')\n"
   ]
  },
  {
   "cell_type": "code",
   "execution_count": 39,
   "metadata": {},
   "outputs": [
    {
     "name": "stdout",
     "output_type": "stream",
     "text": [
      "variable \"age\" has value 10 and is of type <class 'str'>\n",
      "variable \"age\" has value 10.0 and is of type <class 'float'>\n",
      "your age is 10.0\n",
      "teenager\n"
     ]
    }
   ],
   "source": [
    "# input() returns a str, regardless of whether user input can be interpreted as a valid number\n",
    "# adding a line to convert the data type of \"age\" into float, so that it can be compared with other numbers in if statement\n",
    "# this code works now if the user input is a valid number, but still show error if the input is not a number\n",
    "\n",
    "age = input('Please input your age')\n",
    "print(f'variable \"age\" has value {age} and is of type {type(age)}')\n",
    "age = float(age)\n",
    "print(f'variable \"age\" has value {age} and is of type {type(age)}')\n",
    "\n",
    "if age >= 18:\n",
    "    print('your age is', age)\n",
    "    print('adult')\n",
    "elif age >= 6:\n",
    "    print('your age is', age)\n",
    "    print('teenager')\n",
    "else:\n",
    "    print('your age is', age)\n",
    "    print('kid')\n",
    "\n",
    "    "
   ]
  },
  {
   "cell_type": "markdown",
   "metadata": {},
   "source": [
    "# try, except"
   ]
  },
  {
   "cell_type": "code",
   "execution_count": 44,
   "metadata": {},
   "outputs": [
    {
     "name": "stdout",
     "output_type": "stream",
     "text": [
      "variable \"age\" has value kfkkff and is of type <class 'str'>\n",
      "Cannot convert input into float\n"
     ]
    }
   ],
   "source": [
    "# input() returns a str, regardless of whether user input can be interpreted as a valid number\n",
    "# adding a line to convert the data type of \"age\" into float, so that it can be compared with other numbers in if statement\n",
    "# this code works now if the user input is a valid number, but still show error if the input is not a number\n",
    "\n",
    "age = input('Please input your age: ')\n",
    "print(f'variable \"age\" has value {age} and is of type {type(age)}')\n",
    "try:\n",
    "    age = float(age)\n",
    "except:  # when code under try runs into error, the code under except runs (this can be extended to match error codes)\n",
    "    print('Cannot convert input into float')\n",
    "\n",
    "if type(age)==float:\n",
    "    print(f'variable \"age\" has value {age} and is of type {type(age)}')\n",
    "    if age >= 18:\n",
    "        print('your age is', age)\n",
    "        print('adult')\n",
    "    elif age >= 6:\n",
    "        print('your age is', age)\n",
    "        print('teenager')\n",
    "    else:\n",
    "        print('your age is', age)\n",
    "        print('kid')\n",
    "else:\n",
    "    print('cannot compare input with numerical values to decide among adult/teenager/kid')\n",
    "    "
   ]
  }
 ],
 "metadata": {
  "kernelspec": {
   "display_name": "IntroML",
   "language": "python",
   "name": "python3"
  },
  "language_info": {
   "codemirror_mode": {
    "name": "ipython",
    "version": 3
   },
   "file_extension": ".py",
   "mimetype": "text/x-python",
   "name": "python",
   "nbconvert_exporter": "python",
   "pygments_lexer": "ipython3",
   "version": "3.12.2"
  }
 },
 "nbformat": 4,
 "nbformat_minor": 2
}
