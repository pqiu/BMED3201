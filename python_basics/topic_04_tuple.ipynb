{
  "cells": [
    {
      "cell_type": "markdown",
      "metadata": {
        "id": "view-in-github",
        "colab_type": "text"
      },
      "source": [
        "<a href=\"https://colab.research.google.com/github/pqiu/BMED3201/blob/main/python_basics/topic_04_tuple.ipynb\" target=\"_parent\"><img src=\"https://colab.research.google.com/assets/colab-badge.svg\" alt=\"Open In Colab\"/></a>"
      ]
    },
    {
      "cell_type": "markdown",
      "metadata": {
        "id": "8d5BEMSTChjt"
      },
      "source": [
        "# tuple\n",
        "\n",
        "A tuple is very similar to a list. A tuple is also an ordered set of items/values that can be of any type. But once defined, it can not be changed, elements can not be added, removed or changed.\n",
        "\n",
        "() is used to define a tuple\n",
        "\n"
      ]
    },
    {
      "cell_type": "code",
      "execution_count": 1,
      "metadata": {
        "id": "fszGJRXrChjv",
        "outputId": "83f90eb3-1c03-455d-9189-adad06572b3d",
        "colab": {
          "base_uri": "https://localhost:8080/"
        }
      },
      "outputs": [
        {
          "output_type": "stream",
          "name": "stdout",
          "text": [
            "('a', 'b', 1, ['x', 'y', 'z'], True)\n",
            "<class 'tuple'>\n"
          ]
        }
      ],
      "source": [
        "t = ('a', 'b', 1, ['x','y','z'], True)\n",
        "print(t)\n",
        "print(type(t))"
      ]
    },
    {
      "cell_type": "code",
      "execution_count": 2,
      "metadata": {
        "id": "XU-r3g9dChjw",
        "outputId": "cca0eee4-9fe0-4926-d1fe-b9116b3e9c8f",
        "colab": {
          "base_uri": "https://localhost:8080/"
        }
      },
      "outputs": [
        {
          "output_type": "stream",
          "name": "stdout",
          "text": [
            "('a', 'b', 1, ['x', 'y', 'z'], True)\n",
            "<class 'tuple'>\n",
            "5\n"
          ]
        }
      ],
      "source": [
        "# when defining a tuple that contain mroe than one element, () may be omitted, we just need to pay attention to the order of operation\n",
        "t = 'a', 'b', 1, ['x','y','z'], True\n",
        "print(t)\n",
        "print(type(t))\n",
        "print(len(t))"
      ]
    },
    {
      "cell_type": "code",
      "execution_count": 3,
      "metadata": {
        "id": "drFHc99gChjw",
        "outputId": "a50fe43a-f343-4c54-a507-227bf61e670a",
        "colab": {
          "base_uri": "https://localhost:8080/"
        }
      },
      "outputs": [
        {
          "output_type": "stream",
          "name": "stdout",
          "text": [
            "('a',)\n",
            "('a',)\n"
          ]
        }
      ],
      "source": [
        "# if we want to define a tuple with only 1 element, we need the ,\n",
        "t = ('a',)\n",
        "print(t)\n",
        "\n",
        "t = 'a',\n",
        "print(t)\n"
      ]
    },
    {
      "cell_type": "markdown",
      "metadata": {
        "id": "EiCK_gJQChjw"
      },
      "source": [
        "# elements of a tuple can be accessed the same way as a list"
      ]
    },
    {
      "cell_type": "code",
      "execution_count": 4,
      "metadata": {
        "id": "E0wfXO2TChjw",
        "outputId": "d33ef519-b64a-448e-c624-ee980ecfe05d",
        "colab": {
          "base_uri": "https://localhost:8080/"
        }
      },
      "outputs": [
        {
          "output_type": "stream",
          "name": "stdout",
          "text": [
            "a\n",
            "b\n",
            "['x', 'y', 'z']\n",
            "True\n"
          ]
        }
      ],
      "source": [
        "t = 'a', 'b', 1, ['x','y','z'], True\n",
        "print(t[0])\n",
        "print(t[1])\n",
        "print(t[3])\n",
        "print(t[-1])"
      ]
    },
    {
      "cell_type": "code",
      "execution_count": 5,
      "metadata": {
        "id": "NCGfXviTChjx",
        "outputId": "34cfaf45-1aac-4052-d855-407fd467b5c9",
        "colab": {
          "base_uri": "https://localhost:8080/"
        }
      },
      "outputs": [
        {
          "output_type": "stream",
          "name": "stdout",
          "text": [
            "('a', 'b', 1, ['x', 'y', 'z'])\n",
            "('b', 1)\n",
            "(1, ['x', 'y', 'z'])\n"
          ]
        }
      ],
      "source": [
        "print(t[0:4])\n",
        "print(t[1:3])\n",
        "print(t[2:-1])\n"
      ]
    },
    {
      "cell_type": "markdown",
      "metadata": {
        "id": "ukfuYwNQChjx"
      },
      "source": [
        "# attempting to change an element in a tuple will lead to error"
      ]
    },
    {
      "cell_type": "code",
      "execution_count": 6,
      "metadata": {
        "id": "FNm6ahDpChjx",
        "outputId": "687f4850-256f-4e05-83e1-17100a56fea6",
        "colab": {
          "base_uri": "https://localhost:8080/",
          "height": 141
        }
      },
      "outputs": [
        {
          "output_type": "error",
          "ename": "TypeError",
          "evalue": "'tuple' object does not support item assignment",
          "traceback": [
            "\u001b[0;31m---------------------------------------------------------------------------\u001b[0m",
            "\u001b[0;31mTypeError\u001b[0m                                 Traceback (most recent call last)",
            "\u001b[0;32m<ipython-input-6-531e22094236>\u001b[0m in \u001b[0;36m<cell line: 0>\u001b[0;34m()\u001b[0m\n\u001b[0;32m----> 1\u001b[0;31m \u001b[0mt\u001b[0m\u001b[0;34m[\u001b[0m\u001b[0;36m0\u001b[0m\u001b[0;34m]\u001b[0m\u001b[0;34m=\u001b[0m\u001b[0;36m1\u001b[0m\u001b[0;34m\u001b[0m\u001b[0;34m\u001b[0m\u001b[0m\n\u001b[0m",
            "\u001b[0;31mTypeError\u001b[0m: 'tuple' object does not support item assignment"
          ]
        }
      ],
      "source": [
        "t[0]=1"
      ]
    },
    {
      "cell_type": "markdown",
      "metadata": {
        "id": "Ar59I8ewChjx"
      },
      "source": [
        "# However, here is an exmple where a tuple appears to be changed"
      ]
    },
    {
      "cell_type": "code",
      "execution_count": 7,
      "metadata": {
        "id": "x3zTRpULChjx",
        "outputId": "04951ef6-a958-4729-9cc1-3f0978aea4fe",
        "colab": {
          "base_uri": "https://localhost:8080/"
        }
      },
      "outputs": [
        {
          "output_type": "stream",
          "name": "stdout",
          "text": [
            "('a', 'b', 1, ['x', 'y', 'z'], True)\n",
            "('a', 'b', 1, ['x', 'YYY', 'z'], True)\n"
          ]
        }
      ],
      "source": [
        "t = 'a', 'b', 1, ['x','y','z'], True\n",
        "print(t)\n",
        "t[3][1]='YYY'\n",
        "print(t)\n",
        "\n",
        "# Note;\n",
        "# This example actually does not violate the definition that a tuple cannot be changed once it is defined\n",
        "# Remember that a list is kind of like a pointer in C/C++\n",
        "# Here, the fourth element of this tuple is a pointer that points to the location of the list ['x','y','z']\n",
        "# In the above code, we used the fourth element of the tuple to find the location of the list, and updated the second element of the list\n",
        "# However, technically, the tuple is not changed. The fourth element of the tuple is still pointing to the same location\n"
      ]
    }
  ],
  "metadata": {
    "kernelspec": {
      "display_name": "IntroML",
      "language": "python",
      "name": "python3"
    },
    "language_info": {
      "codemirror_mode": {
        "name": "ipython",
        "version": 3
      },
      "file_extension": ".py",
      "mimetype": "text/x-python",
      "name": "python",
      "nbconvert_exporter": "python",
      "pygments_lexer": "ipython3",
      "version": "3.12.2"
    },
    "colab": {
      "provenance": [],
      "include_colab_link": true
    }
  },
  "nbformat": 4,
  "nbformat_minor": 0
}