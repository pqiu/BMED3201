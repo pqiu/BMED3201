{
 "cells": [
  {
   "cell_type": "markdown",
   "metadata": {},
   "source": [
    "# tuple\n",
    "\n",
    "A tuple is very similar to a list. A tuple is also an ordered set of items/values that can be of any type. But once defined, it can not be changed, elements can not be added, removed or changed. \n",
    "\n",
    "() is used to define a tuple\n",
    "\n"
   ]
  },
  {
   "cell_type": "code",
   "execution_count": 11,
   "metadata": {},
   "outputs": [
    {
     "name": "stdout",
     "output_type": "stream",
     "text": [
      "('a', 'b', 1, ['x', 'y', 'z'], True)\n",
      "<class 'tuple'>\n"
     ]
    }
   ],
   "source": [
    "t = ('a', 'b', 1, ['x','y','z'], True)\n",
    "print(t)\n",
    "print(type(t))"
   ]
  },
  {
   "cell_type": "code",
   "execution_count": 12,
   "metadata": {},
   "outputs": [
    {
     "name": "stdout",
     "output_type": "stream",
     "text": [
      "('a', 'b', 1, ['x', 'y', 'z'], True)\n",
      "<class 'tuple'>\n",
      "5\n"
     ]
    }
   ],
   "source": [
    "# when defining a tuple that contain mroe than one element, () may be omitted, we just need to pay attention to the order of operation\n",
    "t = 'a', 'b', 1, ['x','y','z'], True\n",
    "print(t)\n",
    "print(type(t))\n",
    "print(len(t))"
   ]
  },
  {
   "cell_type": "code",
   "execution_count": 13,
   "metadata": {},
   "outputs": [
    {
     "name": "stdout",
     "output_type": "stream",
     "text": [
      "('a',)\n",
      "('a',)\n"
     ]
    }
   ],
   "source": [
    "# if we want to define a tuple with only 1 element, we need the ,\n",
    "t = ('a',)\n",
    "print(t)\n",
    "\n",
    "t = 'a',\n",
    "print(t)\n"
   ]
  },
  {
   "cell_type": "markdown",
   "metadata": {},
   "source": [
    "# elements of a tuple can be accessed the same way as a list"
   ]
  },
  {
   "cell_type": "code",
   "execution_count": 14,
   "metadata": {},
   "outputs": [
    {
     "name": "stdout",
     "output_type": "stream",
     "text": [
      "a\n",
      "b\n",
      "['x', 'y', 'z']\n",
      "True\n"
     ]
    }
   ],
   "source": [
    "t = 'a', 'b', 1, ['x','y','z'], True\n",
    "print(t[0])\n",
    "print(t[1])\n",
    "print(t[3])\n",
    "print(t[-1])"
   ]
  },
  {
   "cell_type": "code",
   "execution_count": 15,
   "metadata": {},
   "outputs": [
    {
     "name": "stdout",
     "output_type": "stream",
     "text": [
      "('a', 'b', 1, ['x', 'y', 'z'])\n",
      "('b', 1)\n",
      "(1, ['x', 'y', 'z'])\n"
     ]
    }
   ],
   "source": [
    "print(t[0:4])\n",
    "print(t[1:3])\n",
    "print(t[2:-1])\n"
   ]
  },
  {
   "cell_type": "markdown",
   "metadata": {},
   "source": [
    "# attempting to change an element in a tuple will lead to error"
   ]
  },
  {
   "cell_type": "code",
   "execution_count": 16,
   "metadata": {},
   "outputs": [
    {
     "ename": "TypeError",
     "evalue": "'tuple' object does not support item assignment",
     "output_type": "error",
     "traceback": [
      "\u001b[1;31m---------------------------------------------------------------------------\u001b[0m",
      "\u001b[1;31mTypeError\u001b[0m                                 Traceback (most recent call last)",
      "Cell \u001b[1;32mIn[16], line 1\u001b[0m\n\u001b[1;32m----> 1\u001b[0m t[\u001b[38;5;241m0\u001b[39m]\u001b[38;5;241m=\u001b[39m\u001b[38;5;241m1\u001b[39m\n",
      "\u001b[1;31mTypeError\u001b[0m: 'tuple' object does not support item assignment"
     ]
    }
   ],
   "source": [
    "t[0]=1"
   ]
  },
  {
   "cell_type": "markdown",
   "metadata": {},
   "source": [
    "# However, here is an exmple where a tuple appears to be changed"
   ]
  },
  {
   "cell_type": "code",
   "execution_count": 17,
   "metadata": {},
   "outputs": [
    {
     "name": "stdout",
     "output_type": "stream",
     "text": [
      "('a', 'b', 1, ['x', 'y', 'z'], True)\n",
      "('a', 'b', 1, ['x', 'YYY', 'z'], True)\n"
     ]
    }
   ],
   "source": [
    "t = 'a', 'b', 1, ['x','y','z'], True\n",
    "print(t)\n",
    "t[3][1]='YYY'\n",
    "print(t)\n",
    "\n",
    "# Note;\n",
    "# This example actually does not violate the definition that a tuple cannot be changed once it is defined\n",
    "# Remember that a list is kind of like a pointer in C/C++\n",
    "# Here, the fourth element of this tuple is a pointer that points to the location of the list ['x','y','z']\n",
    "# In the above code, we used the fourth element of the tuple to find the location of the list, and updated the second element of the list\n",
    "# However, technically, the tuple is not changed. The fourth element of the tuple is still pointing to the same location\n"
   ]
  }
 ],
 "metadata": {
  "kernelspec": {
   "display_name": "IntroML",
   "language": "python",
   "name": "python3"
  },
  "language_info": {
   "codemirror_mode": {
    "name": "ipython",
    "version": 3
   },
   "file_extension": ".py",
   "mimetype": "text/x-python",
   "name": "python",
   "nbconvert_exporter": "python",
   "pygments_lexer": "ipython3",
   "version": "3.12.2"
  }
 },
 "nbformat": 4,
 "nbformat_minor": 2
}
