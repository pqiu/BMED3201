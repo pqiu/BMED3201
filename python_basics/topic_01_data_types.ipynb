{
  "cells": [
    {
      "cell_type": "markdown",
      "metadata": {
        "id": "view-in-github",
        "colab_type": "text"
      },
      "source": [
        "<a href=\"https://colab.research.google.com/github/pqiu/BMED3201/blob/main/python_basics/topic_01_data_types.ipynb\" target=\"_parent\"><img src=\"https://colab.research.google.com/assets/colab-badge.svg\" alt=\"Open In Colab\"/></a>"
      ]
    },
    {
      "cell_type": "markdown",
      "metadata": {
        "id": "D_aqPZmU5QSU"
      },
      "source": [
        "# integers"
      ]
    },
    {
      "cell_type": "code",
      "execution_count": 2,
      "metadata": {
        "id": "uPABVWMA5QSW",
        "outputId": "8611d5db-caab-4474-ef57-d7eebf013135",
        "colab": {
          "base_uri": "https://localhost:8080/"
        }
      },
      "outputs": [
        {
          "output_type": "stream",
          "name": "stdout",
          "text": [
            "1\n",
            "-10\n",
            "0\n",
            "10000000\n",
            "<class 'int'>\n",
            "a = 001\n"
          ]
        }
      ],
      "source": [
        "# int\n",
        "a = 1\n",
        "b = -10\n",
        "c = 0\n",
        "d = 10_000_000\n",
        "\n",
        "print(a)\n",
        "print(b)\n",
        "print(c)\n",
        "print(d)\n",
        "print(type(d))\n",
        "print(f'a = {a:03d}')\n",
        "\n"
      ]
    },
    {
      "cell_type": "markdown",
      "metadata": {
        "id": "uyFfAD7C5QSY"
      },
      "source": [
        "# integers represented as binary or hex"
      ]
    },
    {
      "cell_type": "code",
      "execution_count": 3,
      "metadata": {
        "id": "JD6aEHWu5QSY",
        "outputId": "c58cb079-7a80-4ecb-abc2-ed1fbdb24aed",
        "colab": {
          "base_uri": "https://localhost:8080/"
        }
      },
      "outputs": [
        {
          "output_type": "stream",
          "name": "stdout",
          "text": [
            "0b10011\n",
            "<class 'str'>\n",
            "0x13\n",
            "<class 'str'>\n"
          ]
        }
      ],
      "source": [
        "# turn an integer into binary\n",
        "s = bin(19)\n",
        "print(s)\n",
        "print(type(s))\n",
        "\n",
        "# turn an integer into 16 bit hex\n",
        "s = hex(19)\n",
        "print(s)\n",
        "print(type(s))\n"
      ]
    },
    {
      "cell_type": "code",
      "execution_count": 4,
      "metadata": {
        "id": "V8-GELy-5QSZ",
        "outputId": "af1fa1c9-052d-4dd1-c9c6-f646d4ed8d42",
        "colab": {
          "base_uri": "https://localhost:8080/",
          "height": 280
        }
      },
      "outputs": [
        {
          "output_type": "stream",
          "name": "stdout",
          "text": [
            "0b10011\n",
            "<class 'str'>\n",
            "\n",
            "19\n",
            "11599889\n",
            "11599889\n"
          ]
        },
        {
          "output_type": "error",
          "ename": "ValueError",
          "evalue": "invalid literal for int() with base 10: '0b10011'",
          "traceback": [
            "\u001b[0;31m---------------------------------------------------------------------------\u001b[0m",
            "\u001b[0;31mValueError\u001b[0m                                Traceback (most recent call last)",
            "\u001b[0;32m<ipython-input-4-c3500f397bbe>\u001b[0m in \u001b[0;36m<cell line: 0>\u001b[0;34m()\u001b[0m\n\u001b[1;32m      8\u001b[0m \u001b[0mprint\u001b[0m\u001b[0;34m(\u001b[0m \u001b[0mint\u001b[0m\u001b[0;34m(\u001b[0m\u001b[0ms\u001b[0m\u001b[0;34m,\u001b[0m\u001b[0;36m16\u001b[0m\u001b[0;34m)\u001b[0m \u001b[0;34m)\u001b[0m\u001b[0;34m\u001b[0m\u001b[0;34m\u001b[0m\u001b[0m\n\u001b[1;32m      9\u001b[0m \u001b[0mprint\u001b[0m\u001b[0;34m(\u001b[0m \u001b[0;34m(\u001b[0m\u001b[0;36m16\u001b[0m\u001b[0;34m**\u001b[0m\u001b[0;36m5\u001b[0m\u001b[0;34m)\u001b[0m\u001b[0;34m*\u001b[0m\u001b[0;36m11\u001b[0m\u001b[0;34m+\u001b[0m\u001b[0;34m(\u001b[0m\u001b[0;36m16\u001b[0m\u001b[0;34m**\u001b[0m\u001b[0;36m4\u001b[0m\u001b[0;34m)\u001b[0m\u001b[0;34m*\u001b[0m\u001b[0;36m1\u001b[0m\u001b[0;34m+\u001b[0m\u001b[0;36m16\u001b[0m\u001b[0;34m+\u001b[0m\u001b[0;36m1\u001b[0m \u001b[0;34m)\u001b[0m\u001b[0;34m\u001b[0m\u001b[0;34m\u001b[0m\u001b[0m\n\u001b[0;32m---> 10\u001b[0;31m \u001b[0mprint\u001b[0m\u001b[0;34m(\u001b[0m \u001b[0mint\u001b[0m\u001b[0;34m(\u001b[0m\u001b[0ms\u001b[0m\u001b[0;34m,\u001b[0m\u001b[0;36m10\u001b[0m\u001b[0;34m)\u001b[0m \u001b[0;34m)\u001b[0m\u001b[0;34m\u001b[0m\u001b[0;34m\u001b[0m\u001b[0m\n\u001b[0m",
            "\u001b[0;31mValueError\u001b[0m: invalid literal for int() with base 10: '0b10011'"
          ]
        }
      ],
      "source": [
        "# turn binary or hex back to decimal\n",
        "\n",
        "s = bin(19)\n",
        "print(s)\n",
        "print( type(s) )\n",
        "print()\n",
        "print( int(s,2) )\n",
        "print( int(s,16) )\n",
        "print( (16**5)*11+(16**4)*1+16+1 )\n",
        "print( int(s,10) )"
      ]
    },
    {
      "cell_type": "code",
      "execution_count": 5,
      "metadata": {
        "id": "8ZAooKnp5QSZ",
        "outputId": "54ccd997-bba8-4477-934a-73d03f0da726",
        "colab": {
          "base_uri": "https://localhost:8080/"
        }
      },
      "outputs": [
        {
          "output_type": "stream",
          "name": "stdout",
          "text": [
            "10011\n",
            "<class 'str'>\n",
            "\n",
            "19\n",
            "10011\n",
            "65553\n",
            "83539\n"
          ]
        }
      ],
      "source": [
        "s = '10011'\n",
        "print(s)\n",
        "print(type(s))\n",
        "print()\n",
        "print( int(s,2) )\n",
        "print( int(s,10) )\n",
        "print( int(s,16) )\n",
        "print( int(s,17) )\n"
      ]
    },
    {
      "cell_type": "markdown",
      "metadata": {
        "id": "QqJpjZtN5QSa"
      },
      "source": [
        "# float"
      ]
    },
    {
      "cell_type": "code",
      "execution_count": 6,
      "metadata": {
        "id": "Acr3KeVR5QSa",
        "outputId": "46ec49b7-c859-440a-ef1a-852835dbd098",
        "colab": {
          "base_uri": "https://localhost:8080/"
        }
      },
      "outputs": [
        {
          "output_type": "stream",
          "name": "stdout",
          "text": [
            "3.1415926\n",
            "<class 'float'>\n"
          ]
        }
      ],
      "source": [
        "a = 3.1415926\n",
        "print(a)\n",
        "print(type(a))"
      ]
    },
    {
      "cell_type": "code",
      "execution_count": 7,
      "metadata": {
        "id": "LFrCy5L25QSb",
        "outputId": "f74fd50e-0e6c-4c3c-a344-40521d0d7938",
        "colab": {
          "base_uri": "https://localhost:8080/"
        }
      },
      "outputs": [
        {
          "output_type": "stream",
          "name": "stdout",
          "text": [
            "a = 3.1415926\n",
            "a = 3.142\n",
            "a =     3.142\n",
            "a = 3.141593e+00\n",
            "a =    3.142e+00\n",
            "\n",
            "a = 3.141593\n",
            "a = 3.142\n",
            "a =     3.142\n",
            "a = 3.141593e+00\n",
            "a =    3.142e+00\n"
          ]
        }
      ],
      "source": [
        "\n",
        "print(f'a = {a}')\n",
        "print(f'a = {a:.3f}')\n",
        "print(f'a = {a:9.3f}')\n",
        "print(f'a = {a:e}')\n",
        "print(f'a = {a:12.3e}')\n",
        "print()\n",
        "print('a = ', \"%f\" % a, sep=\"\")\n",
        "print('a = ', \"%.3f\" % a, sep=\"\")\n",
        "print('a = ', \"%9.3f\" % a, sep=\"\")\n",
        "print('a = ', \"%e\" % a, sep=\"\")\n",
        "print('a = ', \"%12.3e\" % a, sep=\"\")\n"
      ]
    },
    {
      "cell_type": "markdown",
      "metadata": {
        "id": "3EZt-OxW5QSb"
      },
      "source": [
        "# string"
      ]
    },
    {
      "cell_type": "code",
      "execution_count": 8,
      "metadata": {
        "id": "GxU7s9-v5QSb",
        "outputId": "539e251b-dd5f-44fb-92a1-57b404aefcb5",
        "colab": {
          "base_uri": "https://localhost:8080/"
        }
      },
      "outputs": [
        {
          "output_type": "stream",
          "name": "stdout",
          "text": [
            "abcdefg1234567hijklmn\n",
            "<class 'str'>\n",
            "abcdefg1234567hijklmn\n",
            "<class 'str'>\n"
          ]
        },
        {
          "output_type": "execute_result",
          "data": {
            "text/plain": [
              "True"
            ]
          },
          "metadata": {},
          "execution_count": 8
        }
      ],
      "source": [
        "a = \"abcdefg1234567hijklmn\"\n",
        "print(a)\n",
        "print(type(a))\n",
        "\n",
        "b = 'abcdefg1234567hijklmn'\n",
        "print(b)\n",
        "print(type(b))\n",
        "\n",
        "a==b"
      ]
    },
    {
      "cell_type": "code",
      "execution_count": 9,
      "metadata": {
        "id": "eiUEIj6L5QSc",
        "outputId": "1ca5cc4c-2882-4d49-bd8c-5b7bdd885a45",
        "colab": {
          "base_uri": "https://localhost:8080/"
        }
      },
      "outputs": [
        {
          "output_type": "stream",
          "name": "stdout",
          "text": [
            "I'm okay\n",
            "I\"m okay\n"
          ]
        }
      ],
      "source": [
        "a = \"I'm okay\"\n",
        "print(a)\n",
        "\n",
        "a = 'I\"m okay'\n",
        "print(a)\n"
      ]
    },
    {
      "cell_type": "code",
      "execution_count": 10,
      "metadata": {
        "id": "JsC4D5ns5QSc",
        "outputId": "71312ff5-d35d-4b07-e750-9b47781b5854",
        "colab": {
          "base_uri": "https://localhost:8080/",
          "height": 106
        }
      },
      "outputs": [
        {
          "output_type": "error",
          "ename": "SyntaxError",
          "evalue": "unterminated string literal (detected at line 1) (<ipython-input-10-687f14aa107c>, line 1)",
          "traceback": [
            "\u001b[0;36m  File \u001b[0;32m\"<ipython-input-10-687f14aa107c>\"\u001b[0;36m, line \u001b[0;32m1\u001b[0m\n\u001b[0;31m    a = 'I'm okay'\u001b[0m\n\u001b[0m                 ^\u001b[0m\n\u001b[0;31mSyntaxError\u001b[0m\u001b[0;31m:\u001b[0m unterminated string literal (detected at line 1)\n"
          ]
        }
      ],
      "source": [
        "a = 'I'm okay'\n",
        "print(a)"
      ]
    },
    {
      "cell_type": "code",
      "execution_count": 11,
      "metadata": {
        "id": "vDCgsoaR5QSc",
        "outputId": "663b440f-863b-40fe-e6f4-6e2f75e94843",
        "colab": {
          "base_uri": "https://localhost:8080/"
        }
      },
      "outputs": [
        {
          "output_type": "stream",
          "name": "stdout",
          "text": [
            "I'm okay\n",
            "I\"m okay\n"
          ]
        }
      ],
      "source": [
        "a = 'I\\'m okay'\n",
        "print(a)\n",
        "a = \"I\\\"m okay\"\n",
        "print(a)\n",
        "\n"
      ]
    },
    {
      "cell_type": "code",
      "execution_count": 12,
      "metadata": {
        "id": "7pPQ8Mz_5QSd",
        "outputId": "21991389-d75b-41bf-d300-bc7a779db159",
        "colab": {
          "base_uri": "https://localhost:8080/"
        }
      },
      "outputs": [
        {
          "output_type": "stream",
          "name": "stdout",
          "text": [
            "--------\n",
            "\t\\\n",
            "--------\n"
          ]
        }
      ],
      "source": [
        "print('--------\\n\\t\\\\\\n--------')"
      ]
    },
    {
      "cell_type": "code",
      "execution_count": 13,
      "metadata": {
        "id": "0NJFPwwY5QSd",
        "outputId": "732db3fd-779e-451a-c1f2-c0b4eee104c8",
        "colab": {
          "base_uri": "https://localhost:8080/"
        }
      },
      "outputs": [
        {
          "output_type": "stream",
          "name": "stdout",
          "text": [
            "--------\n",
            "\t\\\n",
            "--------\n",
            "\n",
            "--------\\n\\t\\\\\\n--------\n",
            "\n",
            "--------\n",
            "\n",
            "\t\\\n",
            "\n",
            "--------\n",
            "\n",
            "--------\n",
            "\\n\\t\\\\\\n\n",
            "--------\n"
          ]
        }
      ],
      "source": [
        "print(f'--------\\n\\t\\\\\\n--------')\n",
        "print()\n",
        "\n",
        "print(r'--------\\n\\t\\\\\\n--------')\n",
        "print()\n",
        "\n",
        "print('''--------\n",
        "\\n\\t\\\\\\n\n",
        "--------''')\n",
        "print()\n",
        "\n",
        "print(r'''--------\n",
        "\\n\\t\\\\\\n\n",
        "--------''')\n"
      ]
    },
    {
      "cell_type": "markdown",
      "metadata": {
        "id": "dIM8b6Jz5QSd"
      },
      "source": [
        "# Boolean"
      ]
    },
    {
      "cell_type": "code",
      "execution_count": 14,
      "metadata": {
        "id": "C8wtyqNx5QSd",
        "outputId": "6f3775ef-2cd0-4bc0-b30c-7a219f05536b",
        "colab": {
          "base_uri": "https://localhost:8080/"
        }
      },
      "outputs": [
        {
          "output_type": "execute_result",
          "data": {
            "text/plain": [
              "True"
            ]
          },
          "metadata": {},
          "execution_count": 14
        }
      ],
      "source": [
        "1 < 2"
      ]
    },
    {
      "cell_type": "code",
      "execution_count": 15,
      "metadata": {
        "id": "Unn_I2N75QSd",
        "outputId": "9af06553-e2b1-4190-92ef-bddec63d0b99",
        "colab": {
          "base_uri": "https://localhost:8080/"
        }
      },
      "outputs": [
        {
          "output_type": "execute_result",
          "data": {
            "text/plain": [
              "False"
            ]
          },
          "metadata": {},
          "execution_count": 15
        }
      ],
      "source": [
        "10 < 2"
      ]
    },
    {
      "cell_type": "code",
      "execution_count": 16,
      "metadata": {
        "id": "DMs8aWZR5QSe",
        "outputId": "a3ec32e8-39b2-43d8-8e60-ff169f1f971f",
        "colab": {
          "base_uri": "https://localhost:8080/"
        }
      },
      "outputs": [
        {
          "output_type": "execute_result",
          "data": {
            "text/plain": [
              "False"
            ]
          },
          "metadata": {},
          "execution_count": 16
        }
      ],
      "source": [
        "True and False"
      ]
    },
    {
      "cell_type": "code",
      "execution_count": 17,
      "metadata": {
        "id": "hEF0nXXZ5QSe",
        "outputId": "9d8d1247-7802-469a-a4d2-3f17c501eb96",
        "colab": {
          "base_uri": "https://localhost:8080/"
        }
      },
      "outputs": [
        {
          "output_type": "execute_result",
          "data": {
            "text/plain": [
              "True"
            ]
          },
          "metadata": {},
          "execution_count": 17
        }
      ],
      "source": [
        "True or False"
      ]
    },
    {
      "cell_type": "code",
      "execution_count": 18,
      "metadata": {
        "id": "D--f4Z2C5QSe",
        "outputId": "7c97013c-46ec-4429-89ec-1d2dfc6a41bd",
        "colab": {
          "base_uri": "https://localhost:8080/"
        }
      },
      "outputs": [
        {
          "output_type": "execute_result",
          "data": {
            "text/plain": [
              "True"
            ]
          },
          "metadata": {},
          "execution_count": 18
        }
      ],
      "source": [
        "5 > 3 and 3 > 1"
      ]
    },
    {
      "cell_type": "code",
      "execution_count": 20,
      "metadata": {
        "id": "N5zRpV3i5QSe",
        "outputId": "636db757-f3cb-4268-c0c8-b8639c249150",
        "colab": {
          "base_uri": "https://localhost:8080/"
        }
      },
      "outputs": [
        {
          "output_type": "execute_result",
          "data": {
            "text/plain": [
              "False"
            ]
          },
          "metadata": {},
          "execution_count": 20
        }
      ],
      "source": [
        "not True"
      ]
    },
    {
      "cell_type": "code",
      "execution_count": 21,
      "metadata": {
        "id": "7p9EELfR5QSe",
        "outputId": "54f9112a-461f-431b-f98d-4b082152301d",
        "colab": {
          "base_uri": "https://localhost:8080/"
        }
      },
      "outputs": [
        {
          "output_type": "execute_result",
          "data": {
            "text/plain": [
              "np.True_"
            ]
          },
          "metadata": {},
          "execution_count": 21
        }
      ],
      "source": [
        "import numpy as np\n",
        "np.logical_xor(True, False)"
      ]
    },
    {
      "cell_type": "markdown",
      "metadata": {
        "id": "dmPBKAoo5QSe"
      },
      "source": [
        "# Empty value None"
      ]
    },
    {
      "cell_type": "code",
      "execution_count": 22,
      "metadata": {
        "id": "Yu09YkoB5QSe"
      },
      "outputs": [],
      "source": [
        "a = None"
      ]
    },
    {
      "cell_type": "code",
      "execution_count": 23,
      "metadata": {
        "id": "GY9J2P1T5QSe",
        "outputId": "c0f5073a-8cd3-49a8-c7be-cc68ac36d00a",
        "colab": {
          "base_uri": "https://localhost:8080/"
        }
      },
      "outputs": [
        {
          "output_type": "stream",
          "name": "stdout",
          "text": [
            "None\n",
            "<class 'NoneType'>\n",
            "False\n"
          ]
        }
      ],
      "source": [
        "print(a)\n",
        "print(type(a))\n",
        "print(a==0)"
      ]
    },
    {
      "cell_type": "markdown",
      "metadata": {
        "id": "mHFLU_Ny5QSf"
      },
      "source": [
        "# variables"
      ]
    },
    {
      "cell_type": "code",
      "execution_count": 24,
      "metadata": {
        "id": "BwXsHyy15QSf",
        "outputId": "58c2658c-b91a-40bc-a2b9-d21744767485",
        "colab": {
          "base_uri": "https://localhost:8080/"
        }
      },
      "outputs": [
        {
          "output_type": "stream",
          "name": "stdout",
          "text": [
            "a = ABC\n",
            "b = ABC\n",
            "a = XYZ\n",
            "b = ABC\n"
          ]
        }
      ],
      "source": [
        "a = 'ABC'\n",
        "print(f'a = {a}')\n",
        "b = a\n",
        "print(f'b = {b}')\n",
        "a = 'XYZ'\n",
        "print(f'a = {a}')\n",
        "print(f'b = {b}')\n"
      ]
    },
    {
      "cell_type": "code",
      "execution_count": 25,
      "metadata": {
        "id": "zbnjnFhI5QSf",
        "outputId": "4e3134f8-cb58-4761-96a6-af11e91fc715",
        "colab": {
          "base_uri": "https://localhost:8080/"
        }
      },
      "outputs": [
        {
          "output_type": "stream",
          "name": "stdout",
          "text": [
            "a=11, b=21, c=32\n"
          ]
        }
      ],
      "source": [
        "a = 10\n",
        "b = 20\n",
        "a = a + 1\n",
        "b += 1\n",
        "c = a + b\n",
        "print(f'a={a}, b={b}, c={c}')"
      ]
    },
    {
      "cell_type": "code",
      "execution_count": 25,
      "metadata": {
        "id": "ZJ0rhOC-5QSf"
      },
      "outputs": [],
      "source": []
    },
    {
      "cell_type": "code",
      "execution_count": 25,
      "metadata": {
        "id": "Usn3OIZR5QSf"
      },
      "outputs": [],
      "source": []
    }
  ],
  "metadata": {
    "kernelspec": {
      "display_name": "IntroML",
      "language": "python",
      "name": "python3"
    },
    "language_info": {
      "codemirror_mode": {
        "name": "ipython",
        "version": 3
      },
      "file_extension": ".py",
      "mimetype": "text/x-python",
      "name": "python",
      "nbconvert_exporter": "python",
      "pygments_lexer": "ipython3",
      "version": "3.12.2"
    },
    "colab": {
      "provenance": [],
      "include_colab_link": true
    }
  },
  "nbformat": 4,
  "nbformat_minor": 0
}