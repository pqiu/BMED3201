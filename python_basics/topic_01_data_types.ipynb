{
  "cells": [
    {
      "cell_type": "markdown",
      "metadata": {
        "id": "view-in-github",
        "colab_type": "text"
      },
      "source": [
        "<a href=\"https://colab.research.google.com/github/pqiu/BMED3201/blob/main/python_basics/topic_01_data_types.ipynb\" target=\"_parent\"><img src=\"https://colab.research.google.com/assets/colab-badge.svg\" alt=\"Open In Colab\"/></a>"
      ]
    },
    {
      "cell_type": "markdown",
      "metadata": {
        "id": "D_aqPZmU5QSU"
      },
      "source": [
        "# integers"
      ]
    },
    {
      "cell_type": "code",
      "execution_count": 1,
      "metadata": {
        "colab": {
          "base_uri": "https://localhost:8080/"
        },
        "id": "uPABVWMA5QSW",
        "outputId": "9d3247a2-19cb-4012-b3bf-794a36b6a1e0"
      },
      "outputs": [
        {
          "output_type": "stream",
          "name": "stdout",
          "text": [
            "1\n",
            "-10\n",
            "0\n",
            "10000000\n",
            "<class 'int'>\n",
            "a = 001\n"
          ]
        }
      ],
      "source": [
        "# int\n",
        "a = 1\n",
        "b = -10\n",
        "c = 0\n",
        "d = 10_000_000\n",
        "\n",
        "print(a)\n",
        "print(b)\n",
        "print(c)\n",
        "print(d)\n",
        "print(type(d))\n",
        "print(f'a = {a:03d}')\n",
        "\n"
      ]
    },
    {
      "cell_type": "markdown",
      "metadata": {
        "id": "uyFfAD7C5QSY"
      },
      "source": [
        "# integers represented as binary or hex"
      ]
    },
    {
      "cell_type": "code",
      "execution_count": 2,
      "metadata": {
        "colab": {
          "base_uri": "https://localhost:8080/"
        },
        "id": "JD6aEHWu5QSY",
        "outputId": "4915d3db-bf41-4a93-cfee-042565e44410"
      },
      "outputs": [
        {
          "output_type": "stream",
          "name": "stdout",
          "text": [
            "0b10011\n",
            "<class 'str'>\n",
            "0x13\n",
            "<class 'str'>\n"
          ]
        }
      ],
      "source": [
        "# turn an integer into binary\n",
        "s = bin(19)\n",
        "print(s)\n",
        "print(type(s))\n",
        "\n",
        "# turn an integer into 16 bit hex\n",
        "s = hex(19)\n",
        "print(s)\n",
        "print(type(s))\n"
      ]
    },
    {
      "cell_type": "code",
      "execution_count": 3,
      "metadata": {
        "colab": {
          "base_uri": "https://localhost:8080/",
          "height": 280
        },
        "id": "V8-GELy-5QSZ",
        "outputId": "d0b4af00-0511-44be-c19c-e6b9753f57be"
      },
      "outputs": [
        {
          "output_type": "stream",
          "name": "stdout",
          "text": [
            "0b10011\n",
            "<class 'str'>\n",
            "\n",
            "19\n",
            "11599889\n",
            "11599889\n"
          ]
        },
        {
          "output_type": "error",
          "ename": "ValueError",
          "evalue": "invalid literal for int() with base 10: '0b10011'",
          "traceback": [
            "\u001b[0;31m---------------------------------------------------------------------------\u001b[0m",
            "\u001b[0;31mValueError\u001b[0m                                Traceback (most recent call last)",
            "\u001b[0;32m<ipython-input-3-c3500f397bbe>\u001b[0m in \u001b[0;36m<cell line: 0>\u001b[0;34m()\u001b[0m\n\u001b[1;32m      8\u001b[0m \u001b[0mprint\u001b[0m\u001b[0;34m(\u001b[0m \u001b[0mint\u001b[0m\u001b[0;34m(\u001b[0m\u001b[0ms\u001b[0m\u001b[0;34m,\u001b[0m\u001b[0;36m16\u001b[0m\u001b[0;34m)\u001b[0m \u001b[0;34m)\u001b[0m\u001b[0;34m\u001b[0m\u001b[0;34m\u001b[0m\u001b[0m\n\u001b[1;32m      9\u001b[0m \u001b[0mprint\u001b[0m\u001b[0;34m(\u001b[0m \u001b[0;34m(\u001b[0m\u001b[0;36m16\u001b[0m\u001b[0;34m**\u001b[0m\u001b[0;36m5\u001b[0m\u001b[0;34m)\u001b[0m\u001b[0;34m*\u001b[0m\u001b[0;36m11\u001b[0m\u001b[0;34m+\u001b[0m\u001b[0;34m(\u001b[0m\u001b[0;36m16\u001b[0m\u001b[0;34m**\u001b[0m\u001b[0;36m4\u001b[0m\u001b[0;34m)\u001b[0m\u001b[0;34m*\u001b[0m\u001b[0;36m1\u001b[0m\u001b[0;34m+\u001b[0m\u001b[0;36m16\u001b[0m\u001b[0;34m+\u001b[0m\u001b[0;36m1\u001b[0m \u001b[0;34m)\u001b[0m\u001b[0;34m\u001b[0m\u001b[0;34m\u001b[0m\u001b[0m\n\u001b[0;32m---> 10\u001b[0;31m \u001b[0mprint\u001b[0m\u001b[0;34m(\u001b[0m \u001b[0mint\u001b[0m\u001b[0;34m(\u001b[0m\u001b[0ms\u001b[0m\u001b[0;34m,\u001b[0m\u001b[0;36m10\u001b[0m\u001b[0;34m)\u001b[0m \u001b[0;34m)\u001b[0m\u001b[0;34m\u001b[0m\u001b[0;34m\u001b[0m\u001b[0m\n\u001b[0m",
            "\u001b[0;31mValueError\u001b[0m: invalid literal for int() with base 10: '0b10011'"
          ]
        }
      ],
      "source": [
        "# turn binary or hex back to decimal\n",
        "\n",
        "s = bin(19)\n",
        "print(s)\n",
        "print( type(s) )\n",
        "print()\n",
        "print( int(s,2) )\n",
        "print( int(s,16) )\n",
        "print( (16**5)*11+(16**4)*1+16+1 )\n",
        "print( int(s,10) )"
      ]
    },
    {
      "cell_type": "code",
      "execution_count": 4,
      "metadata": {
        "colab": {
          "base_uri": "https://localhost:8080/"
        },
        "id": "8ZAooKnp5QSZ",
        "outputId": "1d113b7a-5c71-41d6-9d41-21740bedf0a9"
      },
      "outputs": [
        {
          "output_type": "stream",
          "name": "stdout",
          "text": [
            "10011\n",
            "<class 'str'>\n",
            "\n",
            "19\n",
            "10011\n",
            "65553\n",
            "83539\n"
          ]
        }
      ],
      "source": [
        "s = '10011'\n",
        "print(s)\n",
        "print(type(s))\n",
        "print()\n",
        "print( int(s,2) )\n",
        "print( int(s,10) )\n",
        "print( int(s,16) )\n",
        "print( int(s,17) )\n"
      ]
    },
    {
      "cell_type": "markdown",
      "metadata": {
        "id": "QqJpjZtN5QSa"
      },
      "source": [
        "# float"
      ]
    },
    {
      "cell_type": "code",
      "execution_count": 5,
      "metadata": {
        "colab": {
          "base_uri": "https://localhost:8080/"
        },
        "id": "Acr3KeVR5QSa",
        "outputId": "e24250f5-ba7f-4008-afc3-e11878db9d3e"
      },
      "outputs": [
        {
          "output_type": "stream",
          "name": "stdout",
          "text": [
            "3.1415926\n",
            "<class 'float'>\n"
          ]
        }
      ],
      "source": [
        "a = 3.1415926\n",
        "print(a)\n",
        "print(type(a))"
      ]
    },
    {
      "cell_type": "code",
      "execution_count": 6,
      "metadata": {
        "colab": {
          "base_uri": "https://localhost:8080/"
        },
        "id": "LFrCy5L25QSb",
        "outputId": "ffc42592-bf09-4845-a3a2-f9e8e0dcf4d6"
      },
      "outputs": [
        {
          "output_type": "stream",
          "name": "stdout",
          "text": [
            "a = 3.1415926\n",
            "a = 3.142\n",
            "a =     3.142\n",
            "a = 3.141593e+00\n",
            "a =    3.142e+00\n",
            "\n",
            "a = 3.141593\n",
            "a = 3.142\n",
            "a =     3.142\n",
            "a = 3.141593e+00\n",
            "a =    3.142e+00\n"
          ]
        }
      ],
      "source": [
        "\n",
        "print(f'a = {a}')\n",
        "print(f'a = {a:.3f}')\n",
        "print(f'a = {a:9.3f}')\n",
        "print(f'a = {a:e}')\n",
        "print(f'a = {a:12.3e}')\n",
        "print()\n",
        "print('a = ', \"%f\" % a, sep=\"\")\n",
        "print('a = ', \"%.3f\" % a, sep=\"\")\n",
        "print('a = ', \"%9.3f\" % a, sep=\"\")\n",
        "print('a = ', \"%e\" % a, sep=\"\")\n",
        "print('a = ', \"%12.3e\" % a, sep=\"\")\n"
      ]
    },
    {
      "cell_type": "markdown",
      "metadata": {
        "id": "3EZt-OxW5QSb"
      },
      "source": [
        "# string"
      ]
    },
    {
      "cell_type": "code",
      "execution_count": 7,
      "metadata": {
        "colab": {
          "base_uri": "https://localhost:8080/"
        },
        "id": "GxU7s9-v5QSb",
        "outputId": "d851e14e-31fa-4824-8ff4-360a33395607"
      },
      "outputs": [
        {
          "output_type": "stream",
          "name": "stdout",
          "text": [
            "abcdefg1234567hijklmn\n",
            "<class 'str'>\n",
            "abcdefg1234567hijklmn\n",
            "<class 'str'>\n"
          ]
        },
        {
          "output_type": "execute_result",
          "data": {
            "text/plain": [
              "True"
            ]
          },
          "metadata": {},
          "execution_count": 7
        }
      ],
      "source": [
        "a = \"abcdefg1234567hijklmn\"\n",
        "print(a)\n",
        "print(type(a))\n",
        "\n",
        "b = 'abcdefg1234567hijklmn'\n",
        "print(b)\n",
        "print(type(b))\n",
        "\n",
        "a==b"
      ]
    },
    {
      "cell_type": "code",
      "execution_count": 8,
      "metadata": {
        "colab": {
          "base_uri": "https://localhost:8080/"
        },
        "id": "eiUEIj6L5QSc",
        "outputId": "2d702ba6-960d-4320-bccd-080153a1b683"
      },
      "outputs": [
        {
          "output_type": "stream",
          "name": "stdout",
          "text": [
            "I'm okay\n",
            "I\"m okay\n"
          ]
        }
      ],
      "source": [
        "a = \"I'm okay\"\n",
        "print(a)\n",
        "\n",
        "a = 'I\"m okay'\n",
        "print(a)\n"
      ]
    },
    {
      "cell_type": "code",
      "execution_count": 9,
      "metadata": {
        "colab": {
          "base_uri": "https://localhost:8080/",
          "height": 106
        },
        "id": "JsC4D5ns5QSc",
        "outputId": "e04b206a-c536-413a-833a-3b7a47783dc9"
      },
      "outputs": [
        {
          "output_type": "error",
          "ename": "SyntaxError",
          "evalue": "unterminated string literal (detected at line 1) (<ipython-input-9-687f14aa107c>, line 1)",
          "traceback": [
            "\u001b[0;36m  File \u001b[0;32m\"<ipython-input-9-687f14aa107c>\"\u001b[0;36m, line \u001b[0;32m1\u001b[0m\n\u001b[0;31m    a = 'I'm okay'\u001b[0m\n\u001b[0m                 ^\u001b[0m\n\u001b[0;31mSyntaxError\u001b[0m\u001b[0;31m:\u001b[0m unterminated string literal (detected at line 1)\n"
          ]
        }
      ],
      "source": [
        "a = 'I'm okay'\n",
        "print(a)"
      ]
    },
    {
      "cell_type": "code",
      "execution_count": 10,
      "metadata": {
        "colab": {
          "base_uri": "https://localhost:8080/"
        },
        "id": "vDCgsoaR5QSc",
        "outputId": "0ebc5814-6674-4843-9bdf-466639ff4458"
      },
      "outputs": [
        {
          "output_type": "stream",
          "name": "stdout",
          "text": [
            "I'm okay\n",
            "I\"m okay\n"
          ]
        }
      ],
      "source": [
        "a = 'I\\'m okay'\n",
        "print(a)\n",
        "a = \"I\\\"m okay\"\n",
        "print(a)\n",
        "\n"
      ]
    },
    {
      "cell_type": "code",
      "execution_count": 11,
      "metadata": {
        "colab": {
          "base_uri": "https://localhost:8080/"
        },
        "id": "7pPQ8Mz_5QSd",
        "outputId": "7d873371-f4fb-499e-8106-d6bb13e6990d"
      },
      "outputs": [
        {
          "output_type": "stream",
          "name": "stdout",
          "text": [
            "--------\n",
            "\t\\\n",
            "--------\n"
          ]
        }
      ],
      "source": [
        "print('--------\\n\\t\\\\\\n--------')"
      ]
    },
    {
      "cell_type": "code",
      "execution_count": 12,
      "metadata": {
        "colab": {
          "base_uri": "https://localhost:8080/"
        },
        "id": "0NJFPwwY5QSd",
        "outputId": "4ef7f71a-cf7a-42b0-9444-614694ce0126"
      },
      "outputs": [
        {
          "output_type": "stream",
          "name": "stdout",
          "text": [
            "--------\n",
            "\t\\\n",
            "--------\n",
            "\n",
            "--------\\n\\t\\\\\\n--------\n",
            "\n",
            "--------\n",
            "\n",
            "\t\\\n",
            "\n",
            "--------\n",
            "\n",
            "--------\n",
            "\\n\\t\\\\\\n\n",
            "--------\n"
          ]
        }
      ],
      "source": [
        "print(f'--------\\n\\t\\\\\\n--------')\n",
        "print()\n",
        "\n",
        "print(r'--------\\n\\t\\\\\\n--------')\n",
        "print()\n",
        "\n",
        "print('''--------\n",
        "\\n\\t\\\\\\n\n",
        "--------''')\n",
        "print()\n",
        "\n",
        "print(r'''--------\n",
        "\\n\\t\\\\\\n\n",
        "--------''')\n"
      ]
    },
    {
      "cell_type": "markdown",
      "metadata": {
        "id": "dIM8b6Jz5QSd"
      },
      "source": [
        "# Boolean"
      ]
    },
    {
      "cell_type": "code",
      "execution_count": 13,
      "metadata": {
        "colab": {
          "base_uri": "https://localhost:8080/"
        },
        "id": "C8wtyqNx5QSd",
        "outputId": "fb1c1261-4b17-4eff-c443-6f52f5fdd963"
      },
      "outputs": [
        {
          "output_type": "execute_result",
          "data": {
            "text/plain": [
              "True"
            ]
          },
          "metadata": {},
          "execution_count": 13
        }
      ],
      "source": [
        "1 < 2"
      ]
    },
    {
      "cell_type": "code",
      "execution_count": 14,
      "metadata": {
        "colab": {
          "base_uri": "https://localhost:8080/"
        },
        "id": "Unn_I2N75QSd",
        "outputId": "d135526e-871d-4ca3-f27c-1240d7ed2646"
      },
      "outputs": [
        {
          "output_type": "execute_result",
          "data": {
            "text/plain": [
              "False"
            ]
          },
          "metadata": {},
          "execution_count": 14
        }
      ],
      "source": [
        "10 < 2"
      ]
    },
    {
      "cell_type": "code",
      "execution_count": 15,
      "metadata": {
        "colab": {
          "base_uri": "https://localhost:8080/"
        },
        "id": "DMs8aWZR5QSe",
        "outputId": "19c8da64-cd2e-47b5-94eb-2775e5971e52"
      },
      "outputs": [
        {
          "output_type": "execute_result",
          "data": {
            "text/plain": [
              "False"
            ]
          },
          "metadata": {},
          "execution_count": 15
        }
      ],
      "source": [
        "True and False"
      ]
    },
    {
      "cell_type": "code",
      "execution_count": 16,
      "metadata": {
        "colab": {
          "base_uri": "https://localhost:8080/"
        },
        "id": "hEF0nXXZ5QSe",
        "outputId": "43316db3-8c7d-493c-c323-16a926a06253"
      },
      "outputs": [
        {
          "output_type": "execute_result",
          "data": {
            "text/plain": [
              "True"
            ]
          },
          "metadata": {},
          "execution_count": 16
        }
      ],
      "source": [
        "True or False"
      ]
    },
    {
      "cell_type": "code",
      "execution_count": 17,
      "metadata": {
        "colab": {
          "base_uri": "https://localhost:8080/"
        },
        "id": "D--f4Z2C5QSe",
        "outputId": "d8437e39-0929-4143-ad08-47aec9e89678"
      },
      "outputs": [
        {
          "output_type": "execute_result",
          "data": {
            "text/plain": [
              "True"
            ]
          },
          "metadata": {},
          "execution_count": 17
        }
      ],
      "source": [
        "5 > 3 and 3 > 1"
      ]
    },
    {
      "cell_type": "code",
      "execution_count": 18,
      "metadata": {
        "colab": {
          "base_uri": "https://localhost:8080/"
        },
        "id": "N5zRpV3i5QSe",
        "outputId": "4b44f8c4-e8d2-41f5-e5f6-a96c526a4377"
      },
      "outputs": [
        {
          "output_type": "execute_result",
          "data": {
            "text/plain": [
              "False"
            ]
          },
          "metadata": {},
          "execution_count": 18
        }
      ],
      "source": [
        "not True"
      ]
    },
    {
      "cell_type": "code",
      "execution_count": 19,
      "metadata": {
        "colab": {
          "base_uri": "https://localhost:8080/"
        },
        "id": "7p9EELfR5QSe",
        "outputId": "b5571359-e6d6-4ecd-b9c8-f0d5ea338ca9"
      },
      "outputs": [
        {
          "output_type": "execute_result",
          "data": {
            "text/plain": [
              "np.True_"
            ]
          },
          "metadata": {},
          "execution_count": 19
        }
      ],
      "source": [
        "import numpy as np\n",
        "np.logical_xor(True, False)"
      ]
    },
    {
      "cell_type": "markdown",
      "metadata": {
        "id": "dmPBKAoo5QSe"
      },
      "source": [
        "# Empty value None"
      ]
    },
    {
      "cell_type": "code",
      "execution_count": 20,
      "metadata": {
        "id": "Yu09YkoB5QSe"
      },
      "outputs": [],
      "source": [
        "a = None"
      ]
    },
    {
      "cell_type": "code",
      "execution_count": 21,
      "metadata": {
        "colab": {
          "base_uri": "https://localhost:8080/"
        },
        "id": "GY9J2P1T5QSe",
        "outputId": "881e3a60-040a-49fe-9ae1-198bf98a2e57"
      },
      "outputs": [
        {
          "output_type": "stream",
          "name": "stdout",
          "text": [
            "None\n",
            "<class 'NoneType'>\n",
            "False\n"
          ]
        }
      ],
      "source": [
        "print(a)\n",
        "print(type(a))\n",
        "print(a==0)"
      ]
    },
    {
      "cell_type": "markdown",
      "metadata": {
        "id": "mHFLU_Ny5QSf"
      },
      "source": [
        "# variables"
      ]
    },
    {
      "cell_type": "code",
      "execution_count": 22,
      "metadata": {
        "colab": {
          "base_uri": "https://localhost:8080/"
        },
        "id": "BwXsHyy15QSf",
        "outputId": "e551df42-678a-4a9f-8515-c80cce79b7d2"
      },
      "outputs": [
        {
          "output_type": "stream",
          "name": "stdout",
          "text": [
            "a = ABC\n",
            "b = ABC\n",
            "a = XYZ\n",
            "b = ABC\n"
          ]
        }
      ],
      "source": [
        "a = 'ABC'\n",
        "print(f'a = {a}')\n",
        "b = a\n",
        "print(f'b = {b}')\n",
        "a = 'XYZ'\n",
        "print(f'a = {a}')\n",
        "print(f'b = {b}')\n"
      ]
    },
    {
      "cell_type": "code",
      "execution_count": 23,
      "metadata": {
        "colab": {
          "base_uri": "https://localhost:8080/"
        },
        "id": "zbnjnFhI5QSf",
        "outputId": "0889a43a-5f7c-44c5-c290-2114124aeda0"
      },
      "outputs": [
        {
          "output_type": "stream",
          "name": "stdout",
          "text": [
            "a=11, b=21, c=32\n"
          ]
        }
      ],
      "source": [
        "a = 10\n",
        "b = 20\n",
        "a = a + 1\n",
        "b += 1\n",
        "c = a + b\n",
        "print(f'a={a}, b={b}, c={c}')"
      ]
    },
    {
      "cell_type": "code",
      "execution_count": null,
      "metadata": {
        "id": "ZJ0rhOC-5QSf"
      },
      "outputs": [],
      "source": []
    },
    {
      "cell_type": "code",
      "execution_count": null,
      "metadata": {
        "id": "Usn3OIZR5QSf"
      },
      "outputs": [],
      "source": []
    }
  ],
  "metadata": {
    "kernelspec": {
      "display_name": "IntroML",
      "language": "python",
      "name": "python3"
    },
    "language_info": {
      "codemirror_mode": {
        "name": "ipython",
        "version": 3
      },
      "file_extension": ".py",
      "mimetype": "text/x-python",
      "name": "python",
      "nbconvert_exporter": "python",
      "pygments_lexer": "ipython3",
      "version": "3.12.2"
    },
    "colab": {
      "provenance": [],
      "include_colab_link": true
    }
  },
  "nbformat": 4,
  "nbformat_minor": 0
}