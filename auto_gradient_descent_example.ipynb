{
 "cells": [
  {
   "cell_type": "markdown",
   "metadata": {},
   "source": [
    "# import supporting packages (not all are useful here) "
   ]
  },
  {
   "cell_type": "code",
   "execution_count": 1,
   "metadata": {},
   "outputs": [],
   "source": [
    "import numpy as np\n",
    "import pandas as pd\n",
    "import seaborn as sns\n",
    "import matplotlib.pyplot as plt\n",
    "from tqdm import tqdm\n",
    "\n",
    "from sklearn import linear_model\n",
    "from sklearn.metrics import mean_squared_error, r2_score\n",
    "from sklearn import svm\n",
    "\n",
    "from sklearn.ensemble import RandomForestClassifier\n",
    "from sklearn.metrics import accuracy_score, confusion_matrix, precision_score, recall_score, ConfusionMatrixDisplay\n",
    "from sklearn.model_selection import RandomizedSearchCV, train_test_split\n",
    "from scipy.stats import randint\n",
    "\n",
    "from sklearn.tree import export_graphviz\n",
    "from IPython.display import Image\n",
    "#import graphviz\n",
    "\n",
    "from sklearn.neural_network import MLPClassifier\n"
   ]
  },
  {
   "cell_type": "markdown",
   "metadata": {},
   "source": [
    "# import pytorch"
   ]
  },
  {
   "cell_type": "code",
   "execution_count": 2,
   "metadata": {},
   "outputs": [],
   "source": [
    "import torch\n",
    "from torch import nn\n",
    "#from torch.utils.data import DataLoader\n",
    "#from torchvision import datasets\n",
    "#from torchvision.transforms import ToTensor\n",
    "\n"
   ]
  },
  {
   "cell_type": "markdown",
   "metadata": {},
   "source": [
    "# define a univariate function to be minimized\n",
    "\n",
    "The function is: $f(x) = (x-10)^2$\n",
    "\n",
    "When defining this function as a class, we inherit from nn.Module, so that we can use the auto gradient functionality in PyTorch to compute derivatives\n",
    "\n"
   ]
  },
  {
   "cell_type": "code",
   "execution_count": 3,
   "metadata": {},
   "outputs": [],
   "source": [
    "# define a class that inherit from nn.Module, so that the auto_gradient capability is obtained\n",
    "class objective_function_layer(nn.Module):\n",
    "    def __init__(self):\n",
    "        super(objective_function_layer, self).__init__()\n",
    "\n",
    "    # we always have to define the forward function\n",
    "    def forward(self, x):\n",
    "        y = (x-10)**2\n",
    "        return y\n",
    "    \n",
    "    "
   ]
  },
  {
   "cell_type": "code",
   "execution_count": 4,
   "metadata": {},
   "outputs": [
    {
     "name": "stdout",
     "output_type": "stream",
     "text": [
      "objective_function_layer()\n"
     ]
    }
   ],
   "source": [
    "# initiate an instance of the class\n",
    "\n",
    "model = objective_function_layer()\n",
    "\n",
    "print(model)\n"
   ]
  },
  {
   "cell_type": "markdown",
   "metadata": {},
   "source": [
    "# Given an input tensor, evaluate the function and its gradient w.r.t. input"
   ]
  },
  {
   "cell_type": "code",
   "execution_count": 5,
   "metadata": {},
   "outputs": [
    {
     "name": "stdout",
     "output_type": "stream",
     "text": [
      "The input_tensor is: 0.0\n",
      "The dimension of the input_tensor is: 0\n",
      "The input_tensor.grad is currently: None\n"
     ]
    }
   ],
   "source": [
    "# define an input tensor of 0 dimsnion\n",
    "input_tensor = torch.tensor(0.0, requires_grad=True)\n",
    "print(f'The input_tensor is: {input_tensor}')\n",
    "print(f'The dimension of the input_tensor is: {input_tensor.dim()}')\n",
    "print(f'The input_tensor.grad is currently: {input_tensor.grad}')\n",
    "\n",
    "# we can also define an input tensor of 1 dimension by [0.0]"
   ]
  },
  {
   "cell_type": "code",
   "execution_count": 6,
   "metadata": {},
   "outputs": [
    {
     "name": "stdout",
     "output_type": "stream",
     "text": [
      "output  = 100.0\n"
     ]
    }
   ],
   "source": [
    "# compute/evaluate the function at the input_tensor's value\n",
    "output = model(input_tensor)\n",
    "print(f'output  = {output }')\n"
   ]
  },
  {
   "cell_type": "code",
   "execution_count": 7,
   "metadata": {},
   "outputs": [
    {
     "name": "stdout",
     "output_type": "stream",
     "text": [
      "Since we just did output.backward(), the input_tensor.grad is currently: -20.0\n"
     ]
    }
   ],
   "source": [
    "# compute/evaluate the gradient of the function at the input and output value\n",
    "output.backward()\n",
    "print(f'Since we just did output.backward(), the input_tensor.grad is currently: {input_tensor.grad}')"
   ]
  },
  {
   "cell_type": "markdown",
   "metadata": {},
   "source": [
    "# Implement gradient descent"
   ]
  },
  {
   "cell_type": "code",
   "execution_count": 8,
   "metadata": {
    "scrolled": true
   },
   "outputs": [
    {
     "name": "stdout",
     "output_type": "stream",
     "text": [
      "input = 4.0, output  = 100.0\n",
      "input = 6.4, output  = 36.0\n",
      "input = 7.840000057220459, output  = 12.959999084472656\n",
      "input = 8.704000091552734, output  = 4.665599346160889\n",
      "input = 9.222400283813476, output  = 1.679614782333374\n",
      "input = 9.533440399169923, output  = 0.6046607494354248\n",
      "input = 9.72006435394287, output  = 0.21767768263816833\n",
      "input = 9.832038497924804, output  = 0.07836407423019409\n",
      "input = 9.899223327636719, output  = 0.028210937976837158\n",
      "input = 9.939533996582032, output  = 0.010155937634408474\n",
      "input = 9.963720512390136, output  = 0.0036561144515872\n",
      "input = 9.978232192993165, output  = 0.0013162150280550122\n",
      "input = 9.986939430236816, output  = 0.0004738291318062693\n",
      "input = 9.99216365814209, output  = 0.00017057848162949085\n",
      "input = 9.995298194885255, output  = 6.14082528045401e-05\n",
      "input = 9.99717903137207, output  = 2.2105177777120844e-05\n",
      "input = 9.998307418823241, output  = 7.957863999763504e-06\n",
      "input = 9.998984336853027, output  = 2.865476744773332e-06\n",
      "input = 9.999390602111816, output  = 1.0315716281183995e-06\n",
      "input = 9.99963436126709, output  = 3.7136578612262383e-07\n",
      "input = 9.99978084564209, output  = 1.3341286830836907e-07\n",
      "input = 9.999868392944336, output  = 4.8112269723787904e-08\n",
      "input = 9.9999210357666, output  = 1.7320417100563645e-08\n",
      "input = 9.999952507019042, output  = 6.265509000513703e-09\n",
      "input = 9.999971389770508, output  = 2.2737367544323206e-09\n",
      "input = 9.999982833862305, output  = 8.185452315956354e-10\n",
      "input = 9.999989700317382, output  = 2.9467628337442875e-10\n",
      "input = 9.999993705749512, output  = 1.1004885891452432e-10\n",
      "input = 9.999995994567872, output  = 4.4565240386873484e-11\n",
      "input = 9.99999771118164, output  = 1.4551915228366852e-11\n",
      "input = 9.999998855590821, output  = 3.637978807091713e-12\n",
      "input = 9.99999942779541, output  = 9.094947017729282e-13\n",
      "input = 9.99999942779541, output  = 9.094947017729282e-13\n",
      "input = 9.99999942779541, output  = 9.094947017729282e-13\n",
      "input = 9.99999942779541, output  = 9.094947017729282e-13\n",
      "input = 9.99999942779541, output  = 9.094947017729282e-13\n",
      "input = 9.99999942779541, output  = 9.094947017729282e-13\n",
      "input = 9.99999942779541, output  = 9.094947017729282e-13\n",
      "input = 9.99999942779541, output  = 9.094947017729282e-13\n",
      "input = 9.99999942779541, output  = 9.094947017729282e-13\n",
      "input = 9.99999942779541, output  = 9.094947017729282e-13\n",
      "input = 9.99999942779541, output  = 9.094947017729282e-13\n",
      "input = 9.99999942779541, output  = 9.094947017729282e-13\n",
      "input = 9.99999942779541, output  = 9.094947017729282e-13\n",
      "input = 9.99999942779541, output  = 9.094947017729282e-13\n",
      "input = 9.99999942779541, output  = 9.094947017729282e-13\n",
      "input = 9.99999942779541, output  = 9.094947017729282e-13\n",
      "input = 9.99999942779541, output  = 9.094947017729282e-13\n",
      "input = 9.99999942779541, output  = 9.094947017729282e-13\n",
      "input = 9.99999942779541, output  = 9.094947017729282e-13\n",
      "input = 9.99999942779541, output  = 9.094947017729282e-13\n",
      "input = 9.99999942779541, output  = 9.094947017729282e-13\n",
      "input = 9.99999942779541, output  = 9.094947017729282e-13\n",
      "input = 9.99999942779541, output  = 9.094947017729282e-13\n",
      "input = 9.99999942779541, output  = 9.094947017729282e-13\n",
      "input = 9.99999942779541, output  = 9.094947017729282e-13\n",
      "input = 9.99999942779541, output  = 9.094947017729282e-13\n",
      "input = 9.99999942779541, output  = 9.094947017729282e-13\n",
      "input = 9.99999942779541, output  = 9.094947017729282e-13\n",
      "input = 9.99999942779541, output  = 9.094947017729282e-13\n",
      "input = 9.99999942779541, output  = 9.094947017729282e-13\n",
      "input = 9.99999942779541, output  = 9.094947017729282e-13\n",
      "input = 9.99999942779541, output  = 9.094947017729282e-13\n",
      "input = 9.99999942779541, output  = 9.094947017729282e-13\n",
      "input = 9.99999942779541, output  = 9.094947017729282e-13\n",
      "input = 9.99999942779541, output  = 9.094947017729282e-13\n",
      "input = 9.99999942779541, output  = 9.094947017729282e-13\n",
      "input = 9.99999942779541, output  = 9.094947017729282e-13\n",
      "input = 9.99999942779541, output  = 9.094947017729282e-13\n",
      "input = 9.99999942779541, output  = 9.094947017729282e-13\n",
      "input = 9.99999942779541, output  = 9.094947017729282e-13\n",
      "input = 9.99999942779541, output  = 9.094947017729282e-13\n",
      "input = 9.99999942779541, output  = 9.094947017729282e-13\n",
      "input = 9.99999942779541, output  = 9.094947017729282e-13\n",
      "input = 9.99999942779541, output  = 9.094947017729282e-13\n",
      "input = 9.99999942779541, output  = 9.094947017729282e-13\n",
      "input = 9.99999942779541, output  = 9.094947017729282e-13\n",
      "input = 9.99999942779541, output  = 9.094947017729282e-13\n",
      "input = 9.99999942779541, output  = 9.094947017729282e-13\n",
      "input = 9.99999942779541, output  = 9.094947017729282e-13\n",
      "input = 9.99999942779541, output  = 9.094947017729282e-13\n",
      "input = 9.99999942779541, output  = 9.094947017729282e-13\n",
      "input = 9.99999942779541, output  = 9.094947017729282e-13\n",
      "input = 9.99999942779541, output  = 9.094947017729282e-13\n",
      "input = 9.99999942779541, output  = 9.094947017729282e-13\n",
      "input = 9.99999942779541, output  = 9.094947017729282e-13\n",
      "input = 9.99999942779541, output  = 9.094947017729282e-13\n",
      "input = 9.99999942779541, output  = 9.094947017729282e-13\n",
      "input = 9.99999942779541, output  = 9.094947017729282e-13\n",
      "input = 9.99999942779541, output  = 9.094947017729282e-13\n",
      "input = 9.99999942779541, output  = 9.094947017729282e-13\n",
      "input = 9.99999942779541, output  = 9.094947017729282e-13\n",
      "input = 9.99999942779541, output  = 9.094947017729282e-13\n",
      "input = 9.99999942779541, output  = 9.094947017729282e-13\n",
      "input = 9.99999942779541, output  = 9.094947017729282e-13\n",
      "input = 9.99999942779541, output  = 9.094947017729282e-13\n",
      "input = 9.99999942779541, output  = 9.094947017729282e-13\n",
      "input = 9.99999942779541, output  = 9.094947017729282e-13\n",
      "input = 9.99999942779541, output  = 9.094947017729282e-13\n",
      "input = 9.99999942779541, output  = 9.094947017729282e-13\n"
     ]
    }
   ],
   "source": [
    "learning_rate = 0.2   # we can play with the learning rate, make it larger or smaller\n",
    "\n",
    "x = 0.0\n",
    "for i in range(100):\n",
    "    input_tensor = torch.tensor(x, requires_grad=True)\n",
    "    output = model(input_tensor)\n",
    "    output.backward()\n",
    "    x = input_tensor.item() - learning_rate*input_tensor.grad.item()\n",
    "    print(f'input = {x}, output  = {output.item()}')\n",
    "    \n",
    "    \n"
   ]
  },
  {
   "cell_type": "markdown",
   "metadata": {},
   "source": [
    "# try a two variable gradient descent analysis\n",
    "\n",
    "The function is: $f(x_1, x_2) = (x_1 - x_2)^2 + (x_1 - 10)^2$"
   ]
  },
  {
   "cell_type": "code",
   "execution_count": 9,
   "metadata": {},
   "outputs": [],
   "source": [
    "# define a class that inherit from nn.Module, so that the auto_gradient capability is obtained\n",
    "class objective_function_layer(nn.Module):\n",
    "    def __init__(self):\n",
    "        super(objective_function_layer, self).__init__()\n",
    "\n",
    "    # we always have to define the forward function\n",
    "    def forward(self, x1, x2):\n",
    "        return (x1-x2)**2 + (x1-10)**2\n",
    "     "
   ]
  },
  {
   "cell_type": "code",
   "execution_count": 10,
   "metadata": {},
   "outputs": [
    {
     "name": "stdout",
     "output_type": "stream",
     "text": [
      "objective_function_layer()\n"
     ]
    }
   ],
   "source": [
    "# initiate an instance of the class\n",
    "\n",
    "model = objective_function_layer()\n",
    "\n",
    "print(model)\n"
   ]
  },
  {
   "cell_type": "markdown",
   "metadata": {},
   "source": [
    "# Given an input (one tensor for x1, another tensor for x2), evaluate the function and its gradient w.r.t. input"
   ]
  },
  {
   "cell_type": "code",
   "execution_count": 11,
   "metadata": {},
   "outputs": [
    {
     "name": "stdout",
     "output_type": "stream",
     "text": [
      "value of input variables: x1=2.0, x2=3.0\n"
     ]
    }
   ],
   "source": [
    "x1= torch.tensor(2.0, requires_grad=True)\n",
    "x2= torch.tensor(3.0, requires_grad=True)\n",
    "print(f'value of input variables: x1={x1.item()}, x2={x2.item()}')\n"
   ]
  },
  {
   "cell_type": "code",
   "execution_count": 12,
   "metadata": {},
   "outputs": [
    {
     "name": "stdout",
     "output_type": "stream",
     "text": [
      "output  = 65.0\n"
     ]
    }
   ],
   "source": [
    "# compute/evaluate the function at the input_tensor's value\n",
    "y = model(x1,x2)\n",
    "print(f'output  = {y}')\n"
   ]
  },
  {
   "cell_type": "code",
   "execution_count": 13,
   "metadata": {},
   "outputs": [
    {
     "name": "stdout",
     "output_type": "stream",
     "text": [
      "the gradient of y w.r.t x1: -18.0\n",
      "the gradient of y w.r.t x2: 2.0\n"
     ]
    }
   ],
   "source": [
    "# compute/evaluate the gradient of the function at the input and output value\n",
    "y.backward()\n",
    "print(f'the gradient of y w.r.t x1: {x1.grad.item()}')\n",
    "print(f'the gradient of y w.r.t x2: {x2.grad.item()}')\n"
   ]
  },
  {
   "cell_type": "markdown",
   "metadata": {},
   "source": [
    "# Implement gradient descent"
   ]
  },
  {
   "cell_type": "code",
   "execution_count": 14,
   "metadata": {
    "scrolled": true
   },
   "outputs": [
    {
     "name": "stdout",
     "output_type": "stream",
     "text": [
      "input = 5.6, 2.6, output  = 65.0\n",
      "input = 6.160000038146972, 3.8000000000000003, output  = 28.360000610351562\n",
      "input = 6.752000141143798, 4.74399995803833, output  = 20.315200805664062\n",
      "input = 7.2479998588562005, 5.547200107574463, output  = 14.58156681060791\n",
      "input = 7.668480205535888, 6.227519893646241, output  = 10.466224670410156\n",
      "input = 8.024703884124754, 6.803904056549072, output  = 7.512350559234619\n",
      "input = 8.326502323150633, 7.292224025726318, output  = 5.392147064208984\n",
      "input = 8.582190418243407, 7.705935192108154, output  = 3.8703267574310303\n",
      "input = 8.79881200790405, 8.056437397003172, output  = 2.7780075073242188\n",
      "input = 8.982337474822996, 8.353387165069579, output  = 1.993972659111023\n",
      "input = 9.137822628021238, 8.604967212677002, output  = 1.4312162399291992\n",
      "input = 9.269551753997801, 8.818109226226806, output  = 1.027285099029541\n",
      "input = 9.381154537200926, 8.998685932159423, output  = 0.7373549938201904\n",
      "input = 9.475705623626707, 9.151673221588135, output  = 0.5292522311210632\n",
      "input = 9.555810832977294, 9.28128595352173, output  = 0.37988170981407166\n",
      "input = 9.623676586151122, 9.39109582901001, output  = 0.2726677358150482\n",
      "input = 9.681173992156982, 9.48412790298462, output  = 0.195713073015213\n",
      "input = 9.72988576889038, 9.56294641494751, output  = 0.14047707617282867\n",
      "input = 9.771155452728271, 9.629722309112548, output  = 0.10083042085170746\n",
      "input = 9.806120204925536, 9.686295413970946, output  = 0.07237309217453003\n",
      "input = 9.835742473602293, 9.734225177764891, output  = 0.05194737762212753\n",
      "input = 9.860838985443113, 9.774831867218015, output  = 0.037286337465047836\n",
      "input = 9.882100582122801, 9.809234714508055, output  = 0.02676304057240486\n",
      "input = 9.900114345550536, 9.838380908966062, output  = 0.019209764897823334\n",
      "input = 9.915375423431396, 9.863074207305907, output  = 0.01378819439560175\n",
      "input = 9.928304576873778, 9.883994770050048, output  = 0.009896707721054554\n",
      "input = 9.939258861541747, 9.901718616485596, output  = 0.007103561889380217\n",
      "input = 9.948539257049559, 9.916734790802002, output  = 0.005098804831504822\n",
      "input = 9.956402111053466, 9.929456424713134, output  = 0.0036597568541765213\n",
      "input = 9.9630633354187, 9.94023447036743, output  = 0.0026268400251865387\n",
      "input = 9.96870641708374, 9.949366092681883, output  = 0.0018854900263249874\n",
      "input = 9.973487758636473, 9.95710229873657, output  = 0.001353361876681447\n",
      "input = 9.977538204193113, 9.963656711578368, output  = 0.0009713959298096597\n",
      "input = 9.980970287322997, 9.969209384918212, output  = 0.0006972376722842455\n",
      "input = 9.983877849578857, 9.973913669586182, output  = 0.0005004406557418406\n",
      "input = 9.986340618133545, 9.977899646759033, output  = 0.00035921460948884487\n",
      "input = 9.988428020477295, 9.981276035308838, output  = 0.00025783132878132164\n",
      "input = 9.990195751190186, 9.984137058258057, output  = 0.00018506757623981684\n",
      "input = 9.99169340133667, 9.986560916900634, output  = 0.0001328332582488656\n",
      "input = 9.99296293258667, 9.988613986968994, output  = 9.53423441387713e-05\n",
      "input = 9.994038295745849, 9.99035348892212, output  = 6.843332812422886e-05\n",
      "input = 9.994948863983154, 9.991827487945557, output  = 4.911771247861907e-05\n",
      "input = 9.995720195770264, 9.993076419830322, output  = 3.525810097926296e-05\n",
      "input = 9.996374797821046, 9.994133853912354, output  = 2.5307715986855328e-05\n",
      "input = 9.996928310394289, 9.995030307769776, output  = 1.8162700143875554e-05\n",
      "input = 9.997397899627687, 9.995789432525635, output  = 1.3037552889727522e-05\n",
      "input = 9.99779500961304, 9.996432971954347, output  = 9.356838745588902e-06\n",
      "input = 9.99813222885132, 9.996977710723877, output  = 6.716189091093838e-06\n",
      "input = 9.998417186737063, 9.997439670562745, output  = 4.820581125386525e-06\n",
      "input = 9.99865942001343, 9.997830677032471, output  = 3.4617414712556638e-06\n",
      "input = 9.998864269256595, 9.998162174224854, output  = 2.4847367967595346e-06\n",
      "input = 9.999037837982181, 9.998442935943604, output  = 1.7827705960371532e-06\n",
      "input = 9.999184703826907, 9.998680973052979, output  = 1.2800746844732203e-06\n",
      "input = 9.999309444427494, 9.998882389068603, output  = 9.184159353026189e-07\n",
      "input = 9.999414730072026, 9.999053287506102, output  = 6.592745194211602e-07\n",
      "input = 9.999504375457768, 9.99919786453247, output  = 4.7351659304695204e-07\n",
      "input = 9.999580287933354, 9.999320316314696, output  = 3.396426109247841e-07\n",
      "input = 9.99964399337769, 9.999424457550047, output  = 2.438619048916735e-07\n",
      "input = 9.999698162078863, 9.999512577056883, output  = 1.7506863514427096e-07\n",
      "input = 9.999744319915777, 9.999586963653563, output  = 1.2540203897515312e-07\n",
      "input = 9.999783611297612, 9.999649906158446, output  = 9.008454071590677e-08\n",
      "input = 9.999816799163824, 9.999703311920165, output  = 6.469144864240661e-08\n",
      "input = 9.999844646453862, 9.999748706817625, output  = 4.6406967157963663e-08\n",
      "input = 9.99986829757691, 9.999787235260008, output  = 3.344212018419057e-08\n",
      "input = 9.999888515472417, 9.999819660186766, output  = 2.3891516320873052e-08\n",
      "input = 9.999905681610112, 9.99984712600708, output  = 1.7164893506560475e-08\n",
      "input = 9.999920177459721, 9.9998703956604, output  = 1.2298187357373536e-08\n",
      "input = 9.999932384490972, 9.999890232086182, output  = 8.87666828930378e-09\n",
      "input = 9.99994268417359, 9.99990701675415, output  = 6.34554453426972e-09\n",
      "input = 9.999951076507575, 9.999921512603759, output  = 4.58749127574265e-09\n",
      "input = 9.999958705902106, 9.999933338165283, output  = 3.2396201277151704e-09\n",
      "input = 9.999964809417731, 9.9999436378479, output  = 2.344677341170609e-09\n",
      "input = 9.99997053146363, 9.999952030181886, output  = 1.685293682385236e-09\n",
      "input = 9.99997510910035, 9.99995927810669, output  = 1.2023519957438111e-09\n",
      "input = 9.999978542327888, 9.999965763092042, output  = 8.776623872108757e-10\n",
      "input = 9.9999815940857, 9.999971103668214, output  = 6.184563972055912e-10\n",
      "input = 9.999984645843512, 9.999975299835206, output  = 4.383764462545514e-10\n",
      "input = 9.999986934661871, 9.999979114532472, output  = 3.2378011383116245e-10\n",
      "input = 9.999989223480231, 9.999982166290284, output  = 2.3646862246096134e-10\n",
      "input = 9.99999036788941, 9.999985218048096, output  = 1.6825651982799172e-10\n",
      "input = 9.999991893768316, 9.999987506866455, output  = 1.2369127944111824e-10\n",
      "input = 9.999993038177495, 9.999989414215088, output  = 8.094502845779061e-11\n",
      "input = 9.999994182586674, 9.999990940093994, output  = 5.911715561524034e-11\n",
      "input = 9.999994945526128, 9.9999924659729, output  = 4.729372449219227e-11\n",
      "input = 9.999995708465582, 9.999993610382079, output  = 3.092281986027956e-11\n",
      "input = 9.999996089935308, 9.999994754791258, output  = 2.2737367544323206e-11\n",
      "input = 9.999996852874762, 9.999995517730712, output  = 1.8189894035458565e-11\n",
      "input = 9.99999723434449, 9.999996280670166, output  = 1.1823431123048067e-11\n",
      "input = 9.999997997283943, 9.999996662139893, output  = 9.094947017729282e-12\n",
      "input = 9.999997997283943, 9.999997425079346, output  = 7.275957614183426e-12\n",
      "input = 9.99999837875367, 9.999997806549073, output  = 4.547473508864641e-12\n",
      "input = 9.999999141693124, 9.999997806549073, output  = 3.637978807091713e-12\n",
      "input = 9.999999141693124, 9.9999981880188, output  = 1.8189894035458565e-12\n",
      "input = 9.999999141693124, 9.999998569488527, output  = 1.8189894035458565e-12\n",
      "input = 9.99999952316285, 9.999998569488527, output  = 9.094947017729282e-13\n",
      "input = 9.999999141693124, 9.999998950958254, output  = 9.094947017729282e-13\n",
      "input = 9.99999952316285, 9.999998950958254, output  = 9.094947017729282e-13\n",
      "input = 9.999999141693124, 9.999999332427981, output  = 9.094947017729282e-13\n",
      "input = 9.99999952316285, 9.999999332427981, output  = 9.094947017729282e-13\n",
      "input = 9.999999141693124, 9.999999713897708, output  = 9.094947017729282e-13\n"
     ]
    }
   ],
   "source": [
    "learning_rate = 0.2\n",
    "\n",
    "x1 = 2.0\n",
    "x2 = 3.0\n",
    "for i in range(100):\n",
    "    input1 = torch.tensor(x1, requires_grad=True)\n",
    "    input2 = torch.tensor(x2, requires_grad=True)\n",
    "    output = model(input1, input2)\n",
    "    output.backward()\n",
    "    x1 = x1 - learning_rate * input1.grad.item()\n",
    "    x2 = x2 - learning_rate * input2.grad.item()\n",
    "    print(f'input = {x1}, {x2}, output  = {output.item()}')\n",
    "    \n",
    "    \n",
    "\n",
    "    "
   ]
  },
  {
   "cell_type": "code",
   "execution_count": null,
   "metadata": {},
   "outputs": [],
   "source": []
  },
  {
   "cell_type": "code",
   "execution_count": null,
   "metadata": {},
   "outputs": [],
   "source": []
  }
 ],
 "metadata": {
  "kernelspec": {
   "display_name": "Python 3 (ipykernel)",
   "language": "python",
   "name": "python3"
  },
  "language_info": {
   "codemirror_mode": {
    "name": "ipython",
    "version": 3
   },
   "file_extension": ".py",
   "mimetype": "text/x-python",
   "name": "python",
   "nbconvert_exporter": "python",
   "pygments_lexer": "ipython3",
   "version": "3.11.7"
  }
 },
 "nbformat": 4,
 "nbformat_minor": 2
}
